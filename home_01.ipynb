{
 "cells": [
  {
   "cell_type": "markdown",
   "id": "ce7092b6",
   "metadata": {},
   "source": [
    "### 프로그램 출력 문제"
   ]
  },
  {
   "cell_type": "code",
   "execution_count": 1,
   "id": "0fe4539a",
   "metadata": {},
   "outputs": [
    {
     "name": "stdout",
     "output_type": "stream",
     "text": [
      "55\n"
     ]
    }
   ],
   "source": [
    "# 1_10 까지의 합을 계산하여 출력하는 프로그램\n",
    "sum = 0\n",
    "for i in range(1, 11):\n",
    "    sum += i\n",
    "    \n",
    "print(sum)"
   ]
  },
  {
   "cell_type": "code",
   "execution_count": 2,
   "id": "0d45286a",
   "metadata": {},
   "outputs": [
    {
     "name": "stdout",
     "output_type": "stream",
     "text": [
      "10\n",
      "55\n"
     ]
    }
   ],
   "source": [
    "# 사용자로부터 하나의 숫자를 입력받아 1부터 입력받은 수까지의 합계를 계산하여 출력하는 프로그램\n",
    "\n",
    "n = int(input())\n",
    "sum = 0\n",
    "for i in range(1, n+1):\n",
    "    sum += i\n",
    "\n",
    "print(sum)"
   ]
  },
  {
   "cell_type": "code",
   "execution_count": 3,
   "id": "d893d25b",
   "metadata": {},
   "outputs": [
    {
     "name": "stdout",
     "output_type": "stream",
     "text": [
      "10\n",
      "3\n",
      "18\n"
     ]
    }
   ],
   "source": [
    "# n, m에 숫자를 입력받아 1~n까지의 m의배수의 합계를 계산하여 출력하는 프로그램을 구현하시오\n",
    "\n",
    "n = int(input())\n",
    "m = int(input())\n",
    "sum = 0\n",
    "for i in range(1, n+1):\n",
    "    if i % m == 0:\n",
    "        sum += i\n",
    "print(sum)"
   ]
  },
  {
   "cell_type": "code",
   "execution_count": 4,
   "id": "8c256441",
   "metadata": {},
   "outputs": [
    {
     "name": "stdout",
     "output_type": "stream",
     "text": [
      "10\n",
      "3\n",
      "18\n"
     ]
    }
   ],
   "source": [
    "n = int(input())\n",
    "m = int(input())\n",
    "sum = 0\n",
    "for i in range(0, n+1, m):\n",
    "    sum += i\n",
    "print(sum)"
   ]
  },
  {
   "cell_type": "code",
   "execution_count": 5,
   "id": "fb8e305a",
   "metadata": {},
   "outputs": [
    {
     "name": "stdout",
     "output_type": "stream",
     "text": [
      "(1, 2)\n",
      "(3, 4)\n",
      "(5, 6)\n"
     ]
    }
   ],
   "source": [
    "# 리스트 안에 요소가 튜플인 경우\n",
    "a = [(1, 2), (3, 4), (5, 6)]\n",
    "\n",
    "for i in a:\n",
    "    print(i)"
   ]
  },
  {
   "cell_type": "code",
   "execution_count": 6,
   "id": "ee5b1a3f",
   "metadata": {},
   "outputs": [
    {
     "name": "stdout",
     "output_type": "stream",
     "text": [
      "[1, 3, 5]\n",
      "(1, 3, 5)\n"
     ]
    }
   ],
   "source": [
    "a1 = [i[0] for i in a]\n",
    "print(a1)\n",
    "print(tuple(a1))"
   ]
  },
  {
   "cell_type": "code",
   "execution_count": 7,
   "id": "36d564e3",
   "metadata": {},
   "outputs": [
    {
     "name": "stdout",
     "output_type": "stream",
     "text": [
      "1 2\n",
      "3 4\n",
      "5 6\n"
     ]
    }
   ],
   "source": [
    "for i in a :\n",
    "    a1 = i[0]\n",
    "    a2 = i[1]\n",
    "    print(a1, a2)"
   ]
  },
  {
   "cell_type": "code",
   "execution_count": 8,
   "id": "e73d9ab4",
   "metadata": {},
   "outputs": [
    {
     "name": "stdout",
     "output_type": "stream",
     "text": [
      "(1, 2) (3, 4)\n",
      "(1, 2) (3, 4)\n",
      "(1, 2) (3, 4)\n"
     ]
    }
   ],
   "source": [
    "for i in a:\n",
    "    a1 = a[0]\n",
    "    a2 = a[1]\n",
    "    print(a1, a2)"
   ]
  },
  {
   "cell_type": "code",
   "execution_count": 9,
   "id": "ce46b972",
   "metadata": {},
   "outputs": [
    {
     "data": {
      "text/plain": [
       "[1, 3, 5]"
      ]
     },
     "execution_count": 9,
     "metadata": {},
     "output_type": "execute_result"
    }
   ],
   "source": [
    "a1 = [i[0] for i in a]\n",
    "a1"
   ]
  },
  {
   "cell_type": "code",
   "execution_count": 10,
   "id": "3c168c80",
   "metadata": {},
   "outputs": [
    {
     "name": "stdout",
     "output_type": "stream",
     "text": [
      "1 2\n",
      "3 4\n",
      "5 6\n"
     ]
    }
   ],
   "source": [
    "# 리스트 a의 개별요소들의 합을 출력하는 프로그램\n",
    "for b1, b2 in a:\n",
    "    print(b1, b2)"
   ]
  },
  {
   "cell_type": "code",
   "execution_count": 11,
   "id": "b65cac1e",
   "metadata": {},
   "outputs": [
    {
     "name": "stdout",
     "output_type": "stream",
     "text": [
      "1번 학생 : 90점, 합격입니다\n",
      "2번 학생 : 25점, 불합격입니다\n",
      "3번 학생 : 67점, 합격입니다\n",
      "4번 학생 : 45점, 불합격입니다\n",
      "5번 학생 : 80점, 합격입니다\n"
     ]
    }
   ],
   "source": [
    "# 학생들의 점수를 이용하여 합격과 불합격을 판정하는 프로그램\n",
    "points = [90, 25, 67, 45, 80]\n",
    "# 60점 이상이면 합격\n",
    "# 출력 형식 : 1번 학생 : 90점, 합격입니다.\n",
    "num = 0\n",
    "for i in points:\n",
    "    num += 1\n",
    "    \n",
    "    if i >= 60:\n",
    "        print('%d번 학생 : %d점, 합격입니다' %(num, i))\n",
    "    else:\n",
    "        print('{}번 학생 : {}점, 불합격입니다'.format(num,i))"
   ]
  },
  {
   "cell_type": "code",
   "execution_count": 12,
   "id": "75489654",
   "metadata": {},
   "outputs": [
    {
     "name": "stdout",
     "output_type": "stream",
     "text": [
      "2 4 6 8 10 "
     ]
    }
   ],
   "source": [
    "a = 0\n",
    "\n",
    "while a < 10:\n",
    "    a += 1\n",
    "    if a % 2 != 0:\n",
    "        continue\n",
    "    print(a, end=' ')"
   ]
  },
  {
   "cell_type": "code",
   "execution_count": 13,
   "id": "1ee57ffb",
   "metadata": {},
   "outputs": [
    {
     "name": "stdout",
     "output_type": "stream",
     "text": [
      "a\n",
      "a\n",
      "s\n",
      "s\n",
      "x\n",
      "x\n"
     ]
    }
   ],
   "source": [
    "# 무한 loop : 무한반복 - 반드시 반복문을 벗어나는 문장을 기술해야 한다.\n",
    "\n",
    "while True:\n",
    "    s = input()\n",
    "    print(s)\n",
    "    if s == 'x':\n",
    "        break"
   ]
  },
  {
   "cell_type": "code",
   "execution_count": 14,
   "id": "e6d730ed",
   "metadata": {},
   "outputs": [
    {
     "name": "stdout",
     "output_type": "stream",
     "text": [
      "2\n",
      "2 x 1 = 2\n",
      "2 x 2 = 4\n",
      "2 x 3 = 6\n",
      "2 x 4 = 8\n",
      "2 x 5 = 10\n",
      "2 x 6 = 12\n",
      "2 x 7 = 14\n",
      "2 x 8 = 16\n",
      "2 x 9 = 18\n",
      "0\n",
      "작업을 종료합니다\n"
     ]
    }
   ],
   "source": [
    "# 구구단을 작성하는 프로그램\n",
    "# 사용자로부터 단을 입력받아 구구단을 출력하되, 단에 0이 입력되면 작업을 종료하시오\n",
    "\n",
    "# 언제까지 입력이 되어야 하는지 모를 때 무한반복 사용\n",
    "# 무한 루프 안에 입력함수 넣고 먼저 if- break 문 써주는 것이 편함\n",
    "\n",
    "while True:\n",
    "    n = int(input())\n",
    "    if n == 0:\n",
    "        print('작업을 종료합니다')\n",
    "        break\n",
    "    for i in range (1, 10):\n",
    "        print('{} x {} = {}'.format(n, i, n * i))"
   ]
  },
  {
   "cell_type": "code",
   "execution_count": 15,
   "id": "a0427e3a",
   "metadata": {},
   "outputs": [
    {
     "name": "stdout",
     "output_type": "stream",
     "text": [
      "2000\n",
      "2000년은 윤년입니다\n",
      "2001\n",
      "2001년은 평년입니다\n",
      "2003\n",
      "2003년은 평년입니다\n",
      "0\n"
     ]
    }
   ],
   "source": [
    "# 년도를 입력받아 평년인지 윤년인지 판단하여 출력하는 프로그램\n",
    "# 단 입력받은 년도가 0 이면 작업 종료\n",
    "# 윤년은 4년마다 돌아온다\n",
    "# 100으로 나누어 떨어지는 연도는 평년, 400으로 나누어 떨어지는 년도는 윤년\n",
    "\n",
    "# 방법1 <- 추천 방법\n",
    "while True:\n",
    "    year = int(input())\n",
    "    \n",
    "    if year == 0:\n",
    "        break\n",
    "    \n",
    "    if year % 4 ==0 and year %100 != 0 or year % 400 == 0:\n",
    "        print('{}년은 윤년입니다'.format(year))     \n",
    "    else:\n",
    "        print('%d년은 평년입니다' %(year))"
   ]
  },
  {
   "cell_type": "code",
   "execution_count": 16,
   "id": "6378b344",
   "metadata": {},
   "outputs": [
    {
     "name": "stdout",
     "output_type": "stream",
     "text": [
      "2000\n",
      "2000년은 윤년입니다\n",
      "2004\n",
      "2004년은 윤년입니다\n",
      "0\n"
     ]
    }
   ],
   "source": [
    "# 방법 2\n",
    "year = int(input())\n",
    "\n",
    "while True:\n",
    "    if year % 4 ==0 and year %100 != 0 or year % 400 == 0:\n",
    "        print('{}년은 윤년입니다'.format(year))     \n",
    "    else:\n",
    "        print('%d년은 평년입니다' %(year))\n",
    "\n",
    "        \n",
    "    year = int(input())\n",
    "    \n",
    "    if year == 0:\n",
    "        break"
   ]
  },
  {
   "cell_type": "markdown",
   "id": "b7da6946",
   "metadata": {},
   "source": [
    "### 변수 선언"
   ]
  },
  {
   "cell_type": "code",
   "execution_count": 17,
   "id": "1b6b883c",
   "metadata": {},
   "outputs": [
    {
     "name": "stdout",
     "output_type": "stream",
     "text": [
      "15\n",
      "x :  3\n"
     ]
    }
   ],
   "source": [
    "# 지역변수 : 특정 지역(함수)내에서만 유효한 변수, local\n",
    "# 전역변수 : 프로그램 전반적(함수 밖)으로 유효한 변수, global\n",
    "\n",
    "def f(x):\n",
    "    y = x\n",
    "    x = 5 # 지역변수 : 변수가 선언된 지역에서만 사용이 제한된 변수\n",
    "    return y * x\n",
    "\n",
    "x = 3 # 전역변수\n",
    "print(f(x)) # 함수 호출\n",
    "print('x : ', x)"
   ]
  },
  {
   "cell_type": "code",
   "execution_count": 18,
   "id": "fd371d47",
   "metadata": {},
   "outputs": [
    {
     "name": "stdout",
     "output_type": "stream",
     "text": [
      "10\n",
      "in Funcion :  20\n",
      "in Main :  10\n"
     ]
    }
   ],
   "source": [
    "# 변수의 유효범위(scope)\n",
    "\n",
    "def test(t):\n",
    "    print(x)\n",
    "    t = 20\n",
    "    print('in Funcion : ', t)\n",
    "    \n",
    "x = 10\n",
    "test(x)\n",
    "print('in Main : ', x)\n",
    "# print('in Main : ', t) # error - t는 지역변수이기 때문에 함수를 벗어나면 변수 소멸"
   ]
  },
  {
   "cell_type": "code",
   "execution_count": 19,
   "id": "492aee1c",
   "metadata": {},
   "outputs": [
    {
     "name": "stdout",
     "output_type": "stream",
     "text": [
      "i love u\n",
      "i love paris\n"
     ]
    }
   ],
   "source": [
    "# 변수(variable) : 변하는 수, 기억공간(메모리), 하나의 데이터만 저장\n",
    "\n",
    "def f():\n",
    "    s = 'i love u'\n",
    "    print(s)\n",
    "\n",
    "s = 'i love paris'\n",
    "f()\n",
    "print(s)"
   ]
  },
  {
   "cell_type": "code",
   "execution_count": 20,
   "id": "677a5167",
   "metadata": {},
   "outputs": [
    {
     "name": "stdout",
     "output_type": "stream",
     "text": [
      "i love u\n",
      "i love u\n"
     ]
    }
   ],
   "source": [
    "def f():\n",
    "    global s # 함수안에서 전역변수를 선언할 때\n",
    "    s = 'i love u'\n",
    "    print(s)\n",
    "\n",
    "s = 'i love paris'\n",
    "f()\n",
    "print(s)"
   ]
  },
  {
   "cell_type": "code",
   "execution_count": 21,
   "id": "d0952e06",
   "metadata": {},
   "outputs": [
    {
     "name": "stdout",
     "output_type": "stream",
     "text": [
      "*    \n",
      " *   \n",
      "  *  \n",
      "   * \n",
      "    *\n"
     ]
    }
   ],
   "source": [
    "for i in range(5):\n",
    "    for j in range(5):\n",
    "        if j == i:\n",
    "            print('*', end ='')\n",
    "        else:\n",
    "            print(' ', end ='')\n",
    "    print()\n"
   ]
  },
  {
   "cell_type": "code",
   "execution_count": 22,
   "id": "ac991df2",
   "metadata": {},
   "outputs": [
    {
     "name": "stdout",
     "output_type": "stream",
     "text": [
      "*    \n",
      "**   \n",
      "***  \n",
      "**** \n",
      "*****\n"
     ]
    }
   ],
   "source": [
    "for i in range(5):\n",
    "    for j in range(5):\n",
    "        if i >= j:\n",
    "            print('*', end ='')\n",
    "        else:\n",
    "            print(' ', end ='')\n",
    "    print()"
   ]
  },
  {
   "cell_type": "code",
   "execution_count": 23,
   "id": "d40df069",
   "metadata": {},
   "outputs": [
    {
     "name": "stdout",
     "output_type": "stream",
     "text": [
      "in Program\n",
      "a :  5  b :  7  a + b :  12\n",
      "\n",
      "in Function\n",
      "a :  5  b :  7  tot :  12\n",
      "\n",
      "----함수 calc 호출 후----\n",
      "tot :  0  sum :  12\n"
     ]
    }
   ],
   "source": [
    "# 변수의 사용범위(유효범위)\n",
    "def calc(x, y):\n",
    "    tot = x + y \n",
    "    print('in Function')\n",
    "    print('a : ', str(a), ' b : ', str(b), ' tot : ', str(tot))\n",
    "    return tot\n",
    "\n",
    "#전역변수\n",
    "a = 5\n",
    "b = 7\n",
    "tot = 0\n",
    "\n",
    "print('in Program')\n",
    "print('a : ', str(a), ' b : ', str(b), ' a + b : ', str(a+b))\n",
    "print()\n",
    "\n",
    "sum = calc(a, b) # 함수 호출\n",
    "print()\n",
    "print('----함수 calc 호출 후----')\n",
    "print('tot : ', str(tot), ' sum : ', str(sum))"
   ]
  },
  {
   "cell_type": "code",
   "execution_count": 24,
   "id": "75dfe95a",
   "metadata": {},
   "outputs": [],
   "source": [
    "# default parameter : 매개변수의 초기화\n",
    "# 함수의 오버로딩(Overloadding) : 동일한 이름을 가진 함수를 여러개 만들어 사용하는 기능\n",
    "# 매개변수의 개수가 달라야 한다\n",
    "\n",
    "def aaa():\n",
    "    print('hi')\n",
    "\n",
    "def aaa(x):\n",
    "    print('hi : ', x)\n",
    "\n",
    "def aaa(x, y):\n",
    "    print(x * y)"
   ]
  },
  {
   "cell_type": "code",
   "execution_count": 25,
   "id": "43230bde",
   "metadata": {},
   "outputs": [],
   "source": [
    "# 파이썬은 오버로딩 지원하지 않음\n",
    "\n",
    "# aaa() <- ERROR\n",
    "# aaa(3) <- ERROR"
   ]
  },
  {
   "cell_type": "code",
   "execution_count": 26,
   "id": "a4d1372c",
   "metadata": {},
   "outputs": [
    {
     "name": "stdout",
     "output_type": "stream",
     "text": [
      "hihihi\n"
     ]
    }
   ],
   "source": [
    "aaa('hi', 3)"
   ]
  },
  {
   "cell_type": "code",
   "execution_count": 27,
   "id": "42ad7958",
   "metadata": {},
   "outputs": [
    {
     "name": "stdout",
     "output_type": "stream",
     "text": [
      "hihihi\n"
     ]
    }
   ],
   "source": [
    "# 파라미터를 주면 에러가 안생김\n",
    "def aaa(x = 3, y = 'hi'):\n",
    "    print(3 * y)\n",
    "\n",
    "aaa()"
   ]
  },
  {
   "cell_type": "code",
   "execution_count": 28,
   "id": "4a4f61e0",
   "metadata": {},
   "outputs": [
    {
     "name": "stdout",
     "output_type": "stream",
     "text": [
      "hihihi\n"
     ]
    }
   ],
   "source": [
    "# 매개변수에 초기값(처음값)을 담는 함수를 정의해서 사용할 경우\n",
    "# 초기값을 채우는 것은 반드시 뒤에 있는 매개변수부터 채워야 한다.\n",
    "# 매개변수를 입력할 때는 앞에 있는 변수부터 채워진다.\n",
    "\n",
    "aaa(3)"
   ]
  },
  {
   "cell_type": "code",
   "execution_count": 29,
   "id": "a68d9548",
   "metadata": {},
   "outputs": [
    {
     "name": "stdout",
     "output_type": "stream",
     "text": [
      "1996-11-26\n"
     ]
    }
   ],
   "source": [
    "# 함수의 매개변수에 초기값을 줄 때 반드시 뒤에서부터 채울 것.\n",
    "def birth(year, month, day):\n",
    "    print(str(year) + '-' + str(month) + '-' + str(day))\n",
    "    \n",
    "birth(1996, 11, 26)"
   ]
  },
  {
   "cell_type": "code",
   "execution_count": 30,
   "id": "9d36fcb5",
   "metadata": {},
   "outputs": [
    {
     "name": "stdout",
     "output_type": "stream",
     "text": [
      "1996-11-26\n"
     ]
    }
   ],
   "source": [
    "def birth(year, month, day = 4):\n",
    "    print(str(year) + '-' + str(month) + '-' + str(day))\n",
    "    \n",
    "birth(1996, 11, 26)"
   ]
  },
  {
   "cell_type": "code",
   "execution_count": 31,
   "id": "d158b47f",
   "metadata": {},
   "outputs": [
    {
     "name": "stdout",
     "output_type": "stream",
     "text": [
      "1996-11-4\n"
     ]
    }
   ],
   "source": [
    "def birth(year, month, day = 4):\n",
    "    print(str(year) + '-' + str(month) + '-' + str(day))\n",
    "    \n",
    "birth(1996, 11)"
   ]
  },
  {
   "cell_type": "code",
   "execution_count": 32,
   "id": "c5d2721a",
   "metadata": {},
   "outputs": [],
   "source": [
    "# Error\n",
    "# def birth(year, month = 11, day):\n",
    "#     print(str(year) + '-' + str(month) + '-' + str(day))"
   ]
  },
  {
   "cell_type": "code",
   "execution_count": 33,
   "id": "4f7c3415",
   "metadata": {},
   "outputs": [],
   "source": [
    "# 가변 변수 : 매개변수의 개수가 정해지지 않았을 때 사용하는 매개변수\n",
    "# 변수명 앞에 *를 붙인다.\n",
    "## 함수 호출방법 3가지:\n",
    "## 이름, 값, 참조에 의한 호출\n",
    "\n",
    "# 1. 매개변수도 없고 return값도 없는 함수 -> Call By Name(이름에 의한 호출)\n",
    "def aaa():\n",
    "    pritn('hello')\n",
    "\n",
    "# 2. 매개변수도 있고 return값도 있는 함수 -> Call By Value(값에 의한 호출)\n",
    "def bbb(x):\n",
    "    return x\n",
    "\n",
    "# 3. 매개변수는 있고 return값은 없는 함수\n",
    "def ccc(x, y):\n",
    "    tot = x + y # 지역변수\n",
    "    print('합 : ', tot)\n",
    "    \n",
    "\n",
    "# 4. 매개변수도 있고 return값도 있는 함수 -> Call By reference(참조에 의한 호출)\n",
    "def adder(x):\n",
    "    tot = 0\n",
    "    # for 개변변수 in 집합변수 : \n",
    "    for i in x:\n",
    "        tot += i\n",
    "    return tot"
   ]
  },
  {
   "cell_type": "code",
   "execution_count": 34,
   "id": "24db5711",
   "metadata": {},
   "outputs": [],
   "source": [
    "def total(a, b, c):\n",
    "    tot = a + b + c\n",
    "    return tot"
   ]
  },
  {
   "cell_type": "code",
   "execution_count": 35,
   "id": "6c200676",
   "metadata": {},
   "outputs": [],
   "source": [
    "# Error\n",
    "# a = total(1, 2, 3, 4, 5)\n",
    "# print(a)\n",
    "\n",
    "# => 가변변수 활용"
   ]
  },
  {
   "cell_type": "code",
   "execution_count": 36,
   "id": "b4962235",
   "metadata": {},
   "outputs": [],
   "source": [
    "# 가변 변수(매개변수)\n",
    "def total(*x):\n",
    "    tot = 0\n",
    "    for i in x:\n",
    "        tot += i\n",
    "    return tot"
   ]
  },
  {
   "cell_type": "code",
   "execution_count": 37,
   "id": "1d254d1d",
   "metadata": {},
   "outputs": [
    {
     "name": "stdout",
     "output_type": "stream",
     "text": [
      "15\n"
     ]
    }
   ],
   "source": [
    "a = total(1, 2, 3, 4, 5)\n",
    "print(a)"
   ]
  },
  {
   "cell_type": "code",
   "execution_count": 38,
   "id": "7a433a4a",
   "metadata": {},
   "outputs": [
    {
     "name": "stdout",
     "output_type": "stream",
     "text": [
      "15\n"
     ]
    }
   ],
   "source": [
    "# 함수안에 함수 호출 가능\n",
    "def hap(x) :\n",
    "    tot = 0\n",
    "    for i in x:\n",
    "        tot += i\n",
    "    return tot\n",
    "\n",
    "def total(a, b, *args):\n",
    "    return a + b + hap(args)\n",
    "\n",
    "# 가변변수는 리스트로 받으면 안됨\n",
    "print(total(1, 2, 3, 4, 5))"
   ]
  },
  {
   "cell_type": "code",
   "execution_count": 39,
   "id": "c8c4515c",
   "metadata": {},
   "outputs": [
    {
     "name": "stdout",
     "output_type": "stream",
     "text": [
      "(3, 4, [5, 6, 7, 8])\n"
     ]
    }
   ],
   "source": [
    "def sample(*args):\n",
    "    x, y, *z = args # unpacking(언패킹)\n",
    "    return x, y, z\n",
    "\n",
    "print(sample(3, 4, 5, 6, 7, 8))"
   ]
  },
  {
   "cell_type": "code",
   "execution_count": 40,
   "id": "0abb3342",
   "metadata": {},
   "outputs": [
    {
     "name": "stdout",
     "output_type": "stream",
     "text": [
      "{'first': 3, 'second': 4, 'third': 5}\n",
      "First value is 3\n",
      "Second value is 4\n",
      "Third value is 5\n"
     ]
    }
   ],
   "source": [
    "# 키워드 가변 인수 : 매개변수의 이름을 따로 지정하지 않고 입력하는 방법\n",
    "# 가변 인수와 구별하기 위해 매개변수 앞에 ** 붙인다\n",
    "# 입력되는 값을 딕셔너리 형으로 사용한다.\n",
    "# 여러개의 매개변수를 담을 때 반드시 키워드 매개변수는 맨 마지막에 선언되어야 한다.\n",
    "def kwargs_test(**kwargs):\n",
    "    print(kwargs)\n",
    "    print('First value is {first}'.format(**kwargs))\n",
    "    print('Second value is {second}'.format(**kwargs))\n",
    "    print('Third value is {third}'.format(**kwargs))\n",
    "\n",
    "kwargs_test(first = 3, second = 4, third = 5)"
   ]
  },
  {
   "cell_type": "code",
   "execution_count": 41,
   "id": "0a54b7bb",
   "metadata": {},
   "outputs": [
    {
     "name": "stdout",
     "output_type": "stream",
     "text": [
      "42\n",
      "{'first': 3, 'secone': 4, 'third': 5}\n"
     ]
    }
   ],
   "source": [
    "def hap(x) :\n",
    "    tot = 0\n",
    "    for i in x:\n",
    "        tot += i\n",
    "    return tot\n",
    "\n",
    "def kwargs_test(a, b, *c, **kwargs):\n",
    "        print(a + b + hap(c))\n",
    "        print(kwargs)\n",
    "        \n",
    "# 함수호출\n",
    "kwargs_test(3, 4, 5, 6, 7, 8, 9, first = 3, secone = 4, third = 5)"
   ]
  },
  {
   "cell_type": "code",
   "execution_count": 42,
   "id": "1c5a3045",
   "metadata": {},
   "outputs": [],
   "source": [
    "# def sorting(a, b, c):\n",
    "#     nums = []\n",
    "#     nums.append(a)\n",
    "#     nums.append(b)\n",
    "#     nums.append(c)\n",
    "#     result = sorted(nums, reverse = True)\n",
    "    \n",
    "#     for i in result:\n",
    "#         print(i, end=' ')\n",
    "    \n",
    "# a, b, c = map(int, input().split())\n",
    "# sorting(a, b, c)"
   ]
  },
  {
   "cell_type": "code",
   "execution_count": 43,
   "id": "1af614aa",
   "metadata": {},
   "outputs": [
    {
     "name": "stdout",
     "output_type": "stream",
     "text": [
      "----------------\n",
      "1: 최대값 구하기\n",
      "2: 수나열 구하기\n",
      "3: 사칙연산 하기\n",
      "4: 종료\n",
      "----------------\n",
      "프로그램을 선택해 주세요 : 2\n",
      "1 6 4\n",
      "6 4 1\n",
      "----------------\n",
      "1: 최대값 구하기\n",
      "2: 수나열 구하기\n",
      "3: 사칙연산 하기\n",
      "4: 종료\n",
      "----------------\n",
      "프로그램을 선택해 주세요 : 1\n",
      "첫번째 수: 5\n",
      "두번째 수: 10\n",
      "10\n",
      "----------------\n",
      "1: 최대값 구하기\n",
      "2: 수나열 구하기\n",
      "3: 사칙연산 하기\n",
      "4: 종료\n",
      "----------------\n",
      "프로그램을 선택해 주세요 : 3\n",
      "1\n",
      "2\n",
      "일단 pass\n",
      "----------------\n",
      "1: 최대값 구하기\n",
      "2: 수나열 구하기\n",
      "3: 사칙연산 하기\n",
      "4: 종료\n",
      "----------------\n",
      "프로그램을 선택해 주세요 : 4\n",
      "프로그램 종료\n"
     ]
    }
   ],
   "source": [
    "# 멀티프로그램\n",
    "# 1 - 최대값, 2 - 수나열, 3 - 사칙연산, 4 - 작업종료\n",
    "\n",
    "# 메뉴 나타내는 함수\n",
    "def menu():\n",
    "    print('----------------')\n",
    "    print('1: 최대값 구하기')\n",
    "    print('2: 수나열 구하기')\n",
    "    print('3: 사칙연산 하기')\n",
    "    print('4: 종료')\n",
    "    print('----------------')\n",
    "    n = int(input('프로그램을 선택해 주세요 : '))\n",
    "    return n\n",
    "    \n",
    "def bigger():\n",
    "    a1 = int(input('첫번째 수: '))\n",
    "    a2 = int(input('두번째 수: '))\n",
    "    if a1 > a2:\n",
    "        print(a1)\n",
    "    else:\n",
    "        print(a2)\n",
    "\n",
    "def sorting(x, y, z):\n",
    "#     nums = []\n",
    "#     nums.append(x)\n",
    "#     nums.append(y)\n",
    "#     nums.append(z)\n",
    "#     result = sorted(nums, reverse = True)\n",
    "    \n",
    "#     for i in result:\n",
    "#         print(i, end=\" \")\n",
    "    s = [x, y, z]\n",
    "    s.sort(reverse = True)\n",
    "    print('{} {} {}'.format(s[0], s[1], s[2]))\n",
    "        \n",
    "def calc(s, y):\n",
    "    print('일단 pass')\n",
    "    \n",
    "    \n",
    "while True:\n",
    "    n = menu()\n",
    "    \n",
    "    if n == 4:\n",
    "        print('프로그램 종료')\n",
    "        \n",
    "        break\n",
    "        \n",
    "    if n == 1:\n",
    "        bigger()\n",
    "        \n",
    "    elif n == 2:\n",
    "#         a = int(input())\n",
    "#         b = int(input())\n",
    "#         c = int(input())\n",
    "        a, b, c = map(int, input().split())\n",
    "        sorting(a, b, c)\n",
    "        \n",
    "    elif n == 3:\n",
    "        a = int(input())\n",
    "        b = int(input())      \n",
    "        calc(a, b)\n",
    "        \n",
    "    else :\n",
    "        print('입력 오류, 다시 입력')\n"
   ]
  },
  {
   "cell_type": "markdown",
   "id": "f4d64093",
   "metadata": {},
   "source": [
    "##### 람다(lambda)함수 - 익명의 함수"
   ]
  },
  {
   "cell_type": "code",
   "execution_count": 44,
   "id": "596a750a",
   "metadata": {},
   "outputs": [
    {
     "name": "stdout",
     "output_type": "stream",
     "text": [
      "11\n"
     ]
    }
   ],
   "source": [
    "# 일반적인 함수의 구조\n",
    "def f(x, y):\n",
    "    return x + y\n",
    "# 함수 호출\n",
    "print(f(3,8))"
   ]
  },
  {
   "cell_type": "code",
   "execution_count": 45,
   "id": "d737977b",
   "metadata": {},
   "outputs": [
    {
     "name": "stdout",
     "output_type": "stream",
     "text": [
      "[2, 4, 6, 8, 10]\n"
     ]
    }
   ],
   "source": [
    "# 리스트 내포 - 리스트안에 결과를 담아서 출력하는 작업을 수행할 때\n",
    "a = []\n",
    "\n",
    "for i in [1, 2, 3, 4, 5]:\n",
    "    a.append(i * 2)\n",
    "    \n",
    "print(a)"
   ]
  },
  {
   "cell_type": "code",
   "execution_count": 46,
   "id": "02542606",
   "metadata": {},
   "outputs": [
    {
     "name": "stdout",
     "output_type": "stream",
     "text": [
      "[2, 4, 6, 8, 10]\n"
     ]
    }
   ],
   "source": [
    "a = [i * 2 for i in [1, 2, 3, 4, 5]]\n",
    "print(a)"
   ]
  },
  {
   "cell_type": "code",
   "execution_count": 47,
   "id": "bb97f234",
   "metadata": {},
   "outputs": [
    {
     "name": "stdout",
     "output_type": "stream",
     "text": [
      "5\n"
     ]
    }
   ],
   "source": [
    "# 파이썬에서 람다형식을 권장하진 않지만 데이터분석에서는 자주 이용\n",
    "# 람다 형식 -> 입력값:출력값\n",
    "f = lambda x, y : x + y\n",
    "\n",
    "print(f(1,4))"
   ]
  },
  {
   "cell_type": "code",
   "execution_count": 48,
   "id": "5aa2ebe4",
   "metadata": {},
   "outputs": [
    {
     "name": "stdout",
     "output_type": "stream",
     "text": [
      "6\n"
     ]
    }
   ],
   "source": [
    "print((lambda x : x + 1 )(5))"
   ]
  },
  {
   "cell_type": "code",
   "execution_count": 49,
   "id": "b1808000",
   "metadata": {},
   "outputs": [
    {
     "data": {
      "text/plain": [
       "[0, 1, 4, 9, 16]"
      ]
     },
     "execution_count": 49,
     "metadata": {},
     "output_type": "execute_result"
    }
   ],
   "source": [
    "# 맵리듀스(MapReduce) : 빅데이터 처리를 위한 기본 알고리즘\n",
    "# map() 함수와 reduce() 함수로 구성 == filter(함수, 리스트)\n",
    "# map(함수, 리스트)\n",
    "# reduce(함수, 시퀀스) - 시퀀스 : 문자열, 리스트, 튜플\n",
    "\n",
    "list(map(lambda x : x **2, range(5)))"
   ]
  },
  {
   "cell_type": "code",
   "execution_count": 50,
   "id": "a817975d",
   "metadata": {},
   "outputs": [
    {
     "data": {
      "text/plain": [
       "10"
      ]
     },
     "execution_count": 50,
     "metadata": {},
     "output_type": "execute_result"
    }
   ],
   "source": [
    "# 파이썬3에서 사용할 때 모듈을 가져와야 한다.\n",
    "# import 모듈명 : 해당 모듈이 가지고 있는 모든 객체를 포함시킬 때\n",
    "# from 모듈명 : import 변수 or 함수 : 해당 모듈에서 선택한 변수 or 함수만 포함시킬 때\n",
    "from functools import reduce\n",
    "\n",
    "# lambda 입력 : 출력\n",
    "reduce(lambda x, y : x + y, [0, 1, 2, 3, 4])\n",
    "# 0, 1 = 1\n",
    "# 1, 2 = 3\n",
    "# 3, 3 = 6\n",
    "# 6, 4 = 10"
   ]
  },
  {
   "cell_type": "code",
   "execution_count": 51,
   "id": "3b95498e",
   "metadata": {},
   "outputs": [
    {
     "data": {
      "text/plain": [
       "'edcba'"
      ]
     },
     "execution_count": 51,
     "metadata": {},
     "output_type": "execute_result"
    }
   ],
   "source": [
    "reduce(lambda x, y : y + x, 'abcde')\n",
    "# a, b = ba\n",
    "# ba, c = cba\n",
    "# cba, d = dcba\n",
    "# dcba, e = edcba"
   ]
  },
  {
   "cell_type": "code",
   "execution_count": 52,
   "id": "69580a3f",
   "metadata": {},
   "outputs": [
    {
     "name": "stdout",
     "output_type": "stream",
     "text": [
      "2 5 7\n",
      "7 5 2\n"
     ]
    }
   ],
   "source": [
    "a, b, c = map(int, input().split())\n",
    "s = [a, b, c]\n",
    "\n",
    "s.sort(reverse = True)\n",
    "# s1 = sorted(reverse = True)\n",
    "\n",
    "print('{} {} {}'.format(s[0], s[1], s[2]))"
   ]
  }
 ],
 "metadata": {
  "kernelspec": {
   "display_name": "Python 3 (ipykernel)",
   "language": "python",
   "name": "python3"
  },
  "language_info": {
   "codemirror_mode": {
    "name": "ipython",
    "version": 3
   },
   "file_extension": ".py",
   "mimetype": "text/x-python",
   "name": "python",
   "nbconvert_exporter": "python",
   "pygments_lexer": "ipython3",
   "version": "3.9.12"
  },
  "toc": {
   "base_numbering": 1,
   "nav_menu": {},
   "number_sections": true,
   "sideBar": true,
   "skip_h1_title": false,
   "title_cell": "Table of Contents",
   "title_sidebar": "Contents",
   "toc_cell": false,
   "toc_position": {},
   "toc_section_display": true,
   "toc_window_display": false
  }
 },
 "nbformat": 4,
 "nbformat_minor": 5
}
