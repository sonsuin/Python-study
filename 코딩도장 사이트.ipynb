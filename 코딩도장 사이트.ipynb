{
 "cells": [
  {
   "cell_type": "markdown",
   "id": "35721fd2",
   "metadata": {},
   "source": [
    "### Unit 8. 불과 비교, 논리연산자 알아보기"
   ]
  },
  {
   "cell_type": "code",
   "execution_count": 1,
   "id": "85f6079b",
   "metadata": {},
   "outputs": [],
   "source": [
    "# boolean 자료형 : True or False\n",
    "# 비교(관계) 연산자 : == (항등), != or <>, >, >=, <, <= 결과는 참 or 거짓\n",
    "# 논리연산자 : and, or, not\n",
    "# == : 값이 같은지 비교\n",
    "# is : 주소가 같은지 비교\n",
    "# id(객체) : 해당 객체의 주소를 반환해 주는 함수"
   ]
  },
  {
   "cell_type": "markdown",
   "id": "d33b74d3",
   "metadata": {},
   "source": [
    "### Unit 9 문자열 자료형"
   ]
  },
  {
   "cell_type": "code",
   "execution_count": 2,
   "id": "bb2c0527",
   "metadata": {},
   "outputs": [],
   "source": [
    "# sequence 자료형 : 문자열, 리스트, 튜플\n",
    "# 문자열 : \"\", '', \"\"\" ~ \"\"\", ''' ~ '''\n",
    "# 문자열 연산 : +(연결), *(반복)\n",
    "# 인덱싱(indexing)과 슬라이싱(slicing), 리버스인덱스(마지막 위치 -1)\n",
    "# 이스케이프문자 : \\n, \\t\n",
    "# 문자열.format() => formatting(포매팅)\n",
    "# %d, %f, %s\n",
    "# f문자열 포매팅 : 문자열앞에 접두어 f 문자열을 붙여서 출력하는 기능, 버전 3.6부터 추가된 기능\n"
   ]
  },
  {
   "cell_type": "code",
   "execution_count": 3,
   "id": "db608016",
   "metadata": {},
   "outputs": [
    {
     "data": {
      "text/plain": [
       "'나의 이름은 홍길동입니다. 나이는 33입니다.'"
      ]
     },
     "execution_count": 3,
     "metadata": {},
     "output_type": "execute_result"
    }
   ],
   "source": [
    "name = '홍길동'\n",
    "age = 33\n",
    "f'나의 이름은 {name}입니다. 나이는 {age}입니다.'"
   ]
  },
  {
   "cell_type": "code",
   "execution_count": 4,
   "id": "e5d4bc01",
   "metadata": {},
   "outputs": [
    {
     "data": {
      "text/plain": [
       "'나는 내년이면 28입니다.'"
      ]
     },
     "execution_count": 4,
     "metadata": {},
     "output_type": "execute_result"
    }
   ],
   "source": [
    "age = 27\n",
    "f'나는 내년이면 {age+1}입니다.'"
   ]
  },
  {
   "cell_type": "code",
   "execution_count": 5,
   "id": "3b240780",
   "metadata": {},
   "outputs": [
    {
     "data": {
      "text/plain": [
       "'나의 이름은 홍길동입니다. 나이는 30입니다.'"
      ]
     },
     "execution_count": 5,
     "metadata": {},
     "output_type": "execute_result"
    }
   ],
   "source": [
    "# 딕셔너리\n",
    "dic = {'name':'홍길동', 'age':30}\n",
    "f'나의 이름은 {dic[\"name\"]}입니다. 나이는 {dic[\"age\"]}입니다.'"
   ]
  },
  {
   "cell_type": "code",
   "execution_count": 6,
   "id": "f9be4611",
   "metadata": {},
   "outputs": [
    {
     "name": "stdout",
     "output_type": "stream",
     "text": [
      "hi        \n",
      "        hi\n",
      "    hi    \n",
      "====hi====\n",
      "hi!!!!!!!!\n"
     ]
    }
   ],
   "source": [
    "# 정렬\n",
    "print(f'{\"hi\":<10}') # 왼쪽 정렬\n",
    "print(f'{\"hi\":>10}') # 오른쪽 정렬\n",
    "print(f'{\"hi\":^10}') # 가운데 정렬\n",
    "print(f'{\"hi\":=^10}') # 가운데 정렬, 비어있는 공간 = 문자로 채워라\n",
    "print(f'{\"hi\":!<10}') # 왼쪽 정렬, 빈칸은 !"
   ]
  },
  {
   "cell_type": "code",
   "execution_count": 7,
   "id": "b3b0e11c",
   "metadata": {},
   "outputs": [
    {
     "name": "stdout",
     "output_type": "stream",
     "text": [
      "3.1416\n",
      "    3.1416\n"
     ]
    }
   ],
   "source": [
    "# 소수점을 표현하는 방법\n",
    "x = 3.14159999\n",
    "print(f'{x:0.4f}')\n",
    "print(f'{x:10.4f}')"
   ]
  },
  {
   "cell_type": "code",
   "execution_count": 8,
   "id": "d4249afc",
   "metadata": {},
   "outputs": [
    {
     "data": {
      "text/plain": [
       "2"
      ]
     },
     "execution_count": 8,
     "metadata": {},
     "output_type": "execute_result"
    }
   ],
   "source": [
    "a = 'hobby'\n",
    "a.count('b')"
   ]
  },
  {
   "cell_type": "code",
   "execution_count": 9,
   "id": "89a14d2e",
   "metadata": {
    "scrolled": true
   },
   "outputs": [
    {
     "data": {
      "text/plain": [
       "2"
      ]
     },
     "execution_count": 9,
     "metadata": {},
     "output_type": "execute_result"
    }
   ],
   "source": [
    "a.find('b')"
   ]
  },
  {
   "cell_type": "code",
   "execution_count": 10,
   "id": "35c5eb48",
   "metadata": {},
   "outputs": [
    {
     "data": {
      "text/plain": [
       "-1"
      ]
     },
     "execution_count": 10,
     "metadata": {},
     "output_type": "execute_result"
    }
   ],
   "source": [
    "# 존재하지 않은 문자의 위치를 물으면 : -1\n",
    "a.find('k')"
   ]
  },
  {
   "cell_type": "code",
   "execution_count": 11,
   "id": "9f0ae148",
   "metadata": {},
   "outputs": [
    {
     "data": {
      "text/plain": [
       "1"
      ]
     },
     "execution_count": 11,
     "metadata": {},
     "output_type": "execute_result"
    }
   ],
   "source": [
    "a.index('o')"
   ]
  },
  {
   "cell_type": "code",
   "execution_count": 12,
   "id": "d836d190",
   "metadata": {},
   "outputs": [
    {
     "data": {
      "text/plain": [
       "'a,b,c,d,e'"
      ]
     },
     "execution_count": 12,
     "metadata": {},
     "output_type": "execute_result"
    }
   ],
   "source": [
    "# 문자 삽입 - 연결 : join, 문자열에 구분기호를 담을 때\n",
    "','.join('abcde')"
   ]
  },
  {
   "cell_type": "code",
   "execution_count": 13,
   "id": "e95b1c64",
   "metadata": {},
   "outputs": [
    {
     "data": {
      "text/plain": [
       "['life', 'is', 'too', 'short']"
      ]
     },
     "execution_count": 13,
     "metadata": {},
     "output_type": "execute_result"
    }
   ],
   "source": [
    "a = 'life is too short'\n",
    "a.split()"
   ]
  },
  {
   "cell_type": "code",
   "execution_count": 14,
   "id": "8f8ec06d",
   "metadata": {},
   "outputs": [
    {
     "data": {
      "text/plain": [
       "['a', 'b', 'c', 'd', 'e']"
      ]
     },
     "execution_count": 14,
     "metadata": {},
     "output_type": "execute_result"
    }
   ],
   "source": [
    "b = 'a:b:c:d:e'\n",
    "b.split(\":\")"
   ]
  },
  {
   "cell_type": "markdown",
   "id": "86f8ba68",
   "metadata": {},
   "source": [
    "### Unit10. 리스트와 튜플"
   ]
  },
  {
   "cell_type": "code",
   "execution_count": 15,
   "id": "9bedf14e",
   "metadata": {},
   "outputs": [],
   "source": [
    "# 순서대로 데이터를 저장하고 관리하는 자료구조\n",
    "# 서로 다른 자료형을 담을 수 있다.\n",
    "# list(), []"
   ]
  },
  {
   "cell_type": "code",
   "execution_count": 16,
   "id": "ec9c428a",
   "metadata": {},
   "outputs": [
    {
     "name": "stdout",
     "output_type": "stream",
     "text": [
      "[1, 2, ['a', 'b', ['Life', 'is']]]\n"
     ]
    }
   ],
   "source": [
    "a = [1, 2, ['a','b', ['Life', 'is']]]\n",
    "print(a)"
   ]
  },
  {
   "cell_type": "code",
   "execution_count": 17,
   "id": "b3136798",
   "metadata": {},
   "outputs": [
    {
     "name": "stdout",
     "output_type": "stream",
     "text": [
      "[1, 2]\n",
      "12\n"
     ]
    }
   ],
   "source": [
    "a = \"12345\"\n",
    "b = [1, 2, 3, 4, 5]\n",
    "print(b[0:2])\n",
    "print(a[0:2])"
   ]
  },
  {
   "cell_type": "markdown",
   "id": "aa127136",
   "metadata": {},
   "source": [
    "### Unit12. 딕셔너리"
   ]
  },
  {
   "cell_type": "code",
   "execution_count": 18,
   "id": "6bbd24e4",
   "metadata": {},
   "outputs": [
    {
     "data": {
      "text/plain": [
       "{'a': [1, 2, 3]}"
      ]
     },
     "execution_count": 18,
     "metadata": {},
     "output_type": "execute_result"
    }
   ],
   "source": [
    "# 생성 {'key':value}\n",
    "dic = {'a':[1, 2, 3]}  # list(), tuple(), set()\n",
    "dic"
   ]
  },
  {
   "cell_type": "code",
   "execution_count": 19,
   "id": "557ef274",
   "metadata": {},
   "outputs": [
    {
     "name": "stdout",
     "output_type": "stream",
     "text": [
      "{'aaa': 1, 'bbb': 2}\n"
     ]
    }
   ],
   "source": [
    "a = {\"aaa\":1, \"bbb\":2}\n",
    "print(a)"
   ]
  },
  {
   "cell_type": "code",
   "execution_count": 20,
   "id": "aa90efe9",
   "metadata": {},
   "outputs": [
    {
     "name": "stdout",
     "output_type": "stream",
     "text": [
      "{'aaa': 1, 'bbb': 2, 'ccc': 3}\n"
     ]
    }
   ],
   "source": [
    "a[\"ccc\"] = 3\n",
    "print(a)"
   ]
  },
  {
   "cell_type": "code",
   "execution_count": 21,
   "id": "c4712c16",
   "metadata": {},
   "outputs": [
    {
     "name": "stdout",
     "output_type": "stream",
     "text": [
      "{'aaa': 1, 'bbb': 2, 'ccc': 3, 'name': '홍길동'}\n"
     ]
    }
   ],
   "source": [
    "a['name'] = '홍길동'\n",
    "print(a)"
   ]
  },
  {
   "cell_type": "code",
   "execution_count": 22,
   "id": "a8b846de",
   "metadata": {},
   "outputs": [
    {
     "name": "stdout",
     "output_type": "stream",
     "text": [
      "{'aaa': 1, 'bbb': 2, 'ccc': 3}\n"
     ]
    }
   ],
   "source": [
    "del a['name']\n",
    "print(a)"
   ]
  },
  {
   "cell_type": "code",
   "execution_count": 23,
   "id": "8916275c",
   "metadata": {},
   "outputs": [
    {
     "data": {
      "text/plain": [
       "dict_keys(['aaa', 'bbb', 'ccc'])"
      ]
     },
     "execution_count": 23,
     "metadata": {},
     "output_type": "execute_result"
    }
   ],
   "source": [
    "# 사전.keys(), 사전.values(), 사전.items()\n",
    "a.keys()"
   ]
  },
  {
   "cell_type": "code",
   "execution_count": 24,
   "id": "b2743335",
   "metadata": {},
   "outputs": [
    {
     "data": {
      "text/plain": [
       "dict_values([1, 2, 3])"
      ]
     },
     "execution_count": 24,
     "metadata": {},
     "output_type": "execute_result"
    }
   ],
   "source": [
    "a.values()"
   ]
  },
  {
   "cell_type": "code",
   "execution_count": 25,
   "id": "326d8e0d",
   "metadata": {},
   "outputs": [
    {
     "data": {
      "text/plain": [
       "dict_items([('aaa', 1), ('bbb', 2), ('ccc', 3)])"
      ]
     },
     "execution_count": 25,
     "metadata": {},
     "output_type": "execute_result"
    }
   ],
   "source": [
    "a.items()"
   ]
  },
  {
   "cell_type": "code",
   "execution_count": 26,
   "id": "d974e452",
   "metadata": {},
   "outputs": [
    {
     "name": "stdout",
     "output_type": "stream",
     "text": [
      "aaa  :  1\n",
      "bbb  :  2\n",
      "ccc  :  3\n"
     ]
    }
   ],
   "source": [
    "# 출력형식 key : value\n",
    "for i in a.items():\n",
    "    key = i[0]\n",
    "    value = i[1]\n",
    "    print(key, \" : \", value)"
   ]
  },
  {
   "cell_type": "code",
   "execution_count": 27,
   "id": "fb06bd2d",
   "metadata": {},
   "outputs": [
    {
     "name": "stdout",
     "output_type": "stream",
     "text": [
      "('aaa', 1)\n",
      "('bbb', 2)\n",
      "('ccc', 3)\n"
     ]
    }
   ],
   "source": [
    "for i in a.items():\n",
    "    print(i)"
   ]
  },
  {
   "cell_type": "code",
   "execution_count": 28,
   "id": "d5d5a601",
   "metadata": {},
   "outputs": [
    {
     "name": "stdout",
     "output_type": "stream",
     "text": [
      "aaa  :  1\n",
      "bbb  :  2\n",
      "ccc  :  3\n"
     ]
    }
   ],
   "source": [
    "for key, value in a.items():  # unpacking\n",
    "    print(key, \" : \", value)"
   ]
  }
 ],
 "metadata": {
  "kernelspec": {
   "display_name": "Python 3 (ipykernel)",
   "language": "python",
   "name": "python3"
  },
  "language_info": {
   "codemirror_mode": {
    "name": "ipython",
    "version": 3
   },
   "file_extension": ".py",
   "mimetype": "text/x-python",
   "name": "python",
   "nbconvert_exporter": "python",
   "pygments_lexer": "ipython3",
   "version": "3.9.12"
  },
  "toc": {
   "base_numbering": 1,
   "nav_menu": {},
   "number_sections": true,
   "sideBar": true,
   "skip_h1_title": false,
   "title_cell": "Table of Contents",
   "title_sidebar": "Contents",
   "toc_cell": false,
   "toc_position": {},
   "toc_section_display": true,
   "toc_window_display": false
  }
 },
 "nbformat": 4,
 "nbformat_minor": 5
}
