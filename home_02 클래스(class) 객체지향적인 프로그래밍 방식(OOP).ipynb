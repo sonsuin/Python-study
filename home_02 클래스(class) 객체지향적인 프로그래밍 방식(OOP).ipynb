{
 "cells": [
  {
   "cell_type": "markdown",
   "id": "31e5db26",
   "metadata": {},
   "source": [
    "# 1. 객체지향적인 프로그래밍\n",
    "### 1. 객체지향적인 프로그래밍 : 객체를 기반으로 프로그램을 구현하는 방식\n",
    "  - 객체(Object) : 현실 세계의 모든 유형, 무형의 물질을 총칭하는 표현(명사형)  \n",
    "  - 개체(Object) : 붕어빵틀, 설계도\n",
    "  - 객체(Instance) : 붕어빵, 제품\n",
    "  - 객체의 구성 : 객체의 특성(변수)과 행위나 동작(함수)로 이루어져있다.\n",
    "  - 프로그램을 통해 객체를 구현할 때 사용하는 구조가 클래스(class)  \n",
    "  \n",
    "### 2. \"나는 사과장수에게 2000원 어치의 사과를 구매했다.\"\n",
    "  - 객체 : 명사, 나, 사과장수, 사과\n",
    "  - 객체 '나'\n",
    "    - 어떤 특성 : 사과를 구매할 돈\n",
    "    - 어떤 행위 : 사과를 구매하는 행위\n",
    "  - 객체 '사과장수'\n",
    "    - 어떤 특성 : 판매할 사과, 사과가격, 판매할 사과의 수량\n",
    "    - 어떤 행위 : 사과를 판매하는 행위\n",
    "    \n",
    "### 3. 객체지향에서 클래스는 객체를 표현하는 가장 기본 단위이다.\n",
    "  - Object(객체) : 모든 객체(Instance)의 공통의 성질(변수)을 가지고 있다.\n",
    "  - 클래스명 : 사람\n",
    "    - 클래스 변수 : 이름, 나이, 혈액형....."
   ]
  },
  {
   "cell_type": "code",
   "execution_count": 1,
   "id": "200a088c",
   "metadata": {},
   "outputs": [],
   "source": [
    "# '사과장수' 객체 클래스 선언\n",
    "class AppleSeller:\n",
    "    \n",
    "    # 멤버 필드 = 프로퍼티\n",
    "    apples = 100\n",
    "    price = 1000\n",
    "    result = 0\n",
    "    \n",
    "    # 멤버 메서드 - 함수\n",
    "    ## 사과장수의 상태 - 사과 판매 전 후의 상태\n",
    "    def state(self):\n",
    "        print(\"판매할사과개수(남은사과수) = \", self.apples)\n",
    "        print(\"사과가격 = \", self.price)\n",
    "        print(\"매출금액 = \", self.result)\n",
    "        \n",
    "    ## 사과장수가 사과를 판매하는 행위 : 돈을 받고 사과를 건내준다\n",
    "    def sales(self, money):\n",
    "        # 판매한 사과 개수\n",
    "        apple = money // self.price\n",
    "        \n",
    "        # 판매하고 남은 사과 개수\n",
    "        self.apples -= apple    # apples = apples - apple\n",
    "        \n",
    "        # 매출금액(누적)\n",
    "        self.result += money\n",
    "        \n",
    "        return apple"
   ]
  },
  {
   "cell_type": "code",
   "execution_count": 2,
   "id": "dba8e9a0",
   "metadata": {},
   "outputs": [
    {
     "name": "stdout",
     "output_type": "stream",
     "text": [
      "판매할사과개수(남은사과수) =  100\n",
      "사과가격 =  1000\n",
      "매출금액 =  0\n"
     ]
    }
   ],
   "source": [
    "# 사과장수 객체 인스턴스 변수\n",
    "a = AppleSeller()\n",
    "\n",
    "# 사과를 판매하기 전 상태 출력\n",
    "a.state()"
   ]
  },
  {
   "cell_type": "code",
   "execution_count": 3,
   "id": "e7fc0989",
   "metadata": {
    "scrolled": true
   },
   "outputs": [
    {
     "name": "stdout",
     "output_type": "stream",
     "text": [
      "판매할사과개수(남은사과수) =  90\n",
      "사과가격 =  1000\n",
      "매출금액 =  10000\n"
     ]
    }
   ],
   "source": [
    "# 사과를 판매하는 행위\n",
    "a.sales(10000)\n",
    "\n",
    "# 사과를 판매한 후 상태를 출력\n",
    "a.state()"
   ]
  },
  {
   "cell_type": "markdown",
   "id": "1ae51c1e",
   "metadata": {},
   "source": [
    "# 클래스(class)\n",
    "\n",
    "### 모듈(Module) vs 클래스(class) vs 인스턴스(instance)\n",
    "- 모듈 : py라는 확장자로 끝나는 파이썬 파일\n",
    "- 클래스 : 사용자 정의 자료형\n",
    "  (파이썬 기본 자료형 : 정수, 실수, 문자, 논리, 리스트, 튜플, 사전, 집합)\n",
    "- 인스턴스 : 클래스로부터 만들어낸 객체\n",
    "\n",
    "### 클래스의 형식 : 키워드 class\n",
    "-    class 클래스명: // 클래스명의 첫글자는 대문자로 작성한다.\n",
    "-       멤버 필드(Member Field) : 변수\n",
    "-       멤버 메서드(Member Method = Function) : 함수"
   ]
  },
  {
   "cell_type": "code",
   "execution_count": 4,
   "id": "fb3de35e",
   "metadata": {},
   "outputs": [],
   "source": [
    "# 클래스 선언\n",
    "# self : 현재 객체의 시작번지값을 가리킨다. 일반 함수와 식별하기 위한, 즉 클래스 멤버함수라는 의미\n",
    "\n",
    "class Person :\n",
    "    # 멤버 필드 = Member Field = proparties(프로퍼티스)\n",
    "    name = ''\n",
    "    age = 0\n",
    "    height = 0.0\n",
    "    \n",
    "    # 멤버 메서드 = Member Method = Function(함수)\n",
    "    def walk(self):\n",
    "        print(self.name + '이 걸어간다.')\n",
    "        \n",
    "    def run(self):\n",
    "        print(self.name + '이 뛴다')\n",
    "        \n",
    "    def disp(self):\n",
    "        print('이름 : ' + self.name)\n",
    "        print('나이 : ' + str(self.age)) # 문자열 + 문자열, 문자열 + 숫자면 error\n",
    "        print('키 : ' + str(self.height))\n",
    "        "
   ]
  },
  {
   "cell_type": "code",
   "execution_count": 5,
   "id": "7c4ab821",
   "metadata": {},
   "outputs": [],
   "source": [
    "def walk():\n",
    "    print('걷다.')"
   ]
  },
  {
   "cell_type": "code",
   "execution_count": 6,
   "id": "9b3a54ec",
   "metadata": {},
   "outputs": [
    {
     "name": "stdout",
     "output_type": "stream",
     "text": [
      "걷다.\n"
     ]
    }
   ],
   "source": [
    "walk()"
   ]
  },
  {
   "cell_type": "code",
   "execution_count": 7,
   "id": "b222bf93",
   "metadata": {},
   "outputs": [
    {
     "name": "stdout",
     "output_type": "stream",
     "text": [
      "홍길동이 걸어간다.\n"
     ]
    }
   ],
   "source": [
    "# 클래스에 접근하기 위한 instance 객체가 필요\n",
    "p1 = Person()\n",
    "\n",
    "# instance 객체를 통해 클래스 멤버에 접근 : .(direct 연산자)를 사용\n",
    "p1.name = '홍길동'\n",
    "p1.walk()"
   ]
  },
  {
   "cell_type": "code",
   "execution_count": 8,
   "id": "d9e5a415",
   "metadata": {},
   "outputs": [
    {
     "name": "stdout",
     "output_type": "stream",
     "text": [
      "장보고이 뛴다\n"
     ]
    }
   ],
   "source": [
    "p2 = Person()\n",
    "p2.name = '장보고'\n",
    "p2.run()"
   ]
  },
  {
   "cell_type": "code",
   "execution_count": 9,
   "id": "64b7a8e2",
   "metadata": {},
   "outputs": [
    {
     "name": "stdout",
     "output_type": "stream",
     "text": [
      "이름 : 홍길동\n",
      "나이 : 33\n",
      "키 : 180.7\n"
     ]
    }
   ],
   "source": [
    "# 인스턴스 객체 생성\n",
    "p3 = Person()\n",
    "\n",
    "# 멤버필드에 값을 초기화해야 한다.\n",
    "p1.name = \"홍길동\"\n",
    "p1.age = 33\n",
    "p1.height = 180.7\n",
    "\n",
    "p1.disp()"
   ]
  },
  {
   "cell_type": "code",
   "execution_count": 10,
   "id": "85d92b6e",
   "metadata": {},
   "outputs": [
    {
     "name": "stdout",
     "output_type": "stream",
     "text": [
      "이름 : 장보고\n",
      "나이 : 25\n",
      "키 : 177.3\n"
     ]
    }
   ],
   "source": [
    "p2 = Person()\n",
    "\n",
    "p2.name = \"장보고\"\n",
    "p2.age = 25\n",
    "p2.height = 177.3\n",
    "\n",
    "p2.disp()"
   ]
  }
 ],
 "metadata": {
  "kernelspec": {
   "display_name": "Python 3 (ipykernel)",
   "language": "python",
   "name": "python3"
  },
  "language_info": {
   "codemirror_mode": {
    "name": "ipython",
    "version": 3
   },
   "file_extension": ".py",
   "mimetype": "text/x-python",
   "name": "python",
   "nbconvert_exporter": "python",
   "pygments_lexer": "ipython3",
   "version": "3.9.12"
  },
  "toc": {
   "base_numbering": 1,
   "nav_menu": {},
   "number_sections": true,
   "sideBar": true,
   "skip_h1_title": false,
   "title_cell": "Table of Contents",
   "title_sidebar": "Contents",
   "toc_cell": false,
   "toc_position": {},
   "toc_section_display": true,
   "toc_window_display": false
  }
 },
 "nbformat": 4,
 "nbformat_minor": 5
}
