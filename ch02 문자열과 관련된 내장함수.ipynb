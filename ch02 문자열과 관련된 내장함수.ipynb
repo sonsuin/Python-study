{
 "cells": [
  {
   "cell_type": "code",
   "execution_count": 1,
   "id": "b1dafa51",
   "metadata": {},
   "outputs": [
    {
     "name": "stdout",
     "output_type": "stream",
     "text": [
      "안녕하세요\n"
     ]
    }
   ],
   "source": [
    "# 대소문자 변환함수 : upper()와 lower()\n",
    "# 모든 것을 객체로 간주\n",
    "\n",
    "print(\"안녕하세요\")\n",
    "\n",
    "love = print  # 객체 복사"
   ]
  },
  {
   "cell_type": "code",
   "execution_count": 2,
   "id": "8e6ffaf8",
   "metadata": {},
   "outputs": [
    {
     "name": "stdout",
     "output_type": "stream",
     "text": [
      "웃기다\n"
     ]
    }
   ],
   "source": [
    "love(\"웃기다\")"
   ]
  },
  {
   "cell_type": "code",
   "execution_count": 39,
   "id": "7dab0f3e",
   "metadata": {},
   "outputs": [],
   "source": [
    "string='Hello'"
   ]
  },
  {
   "cell_type": "code",
   "execution_count": 40,
   "id": "48ab5546",
   "metadata": {},
   "outputs": [
    {
     "data": {
      "text/plain": [
       "'HELLO'"
      ]
     },
     "execution_count": 40,
     "metadata": {},
     "output_type": "execute_result"
    }
   ],
   "source": [
    "string.upper()"
   ]
  },
  {
   "cell_type": "code",
   "execution_count": 41,
   "id": "13023a70",
   "metadata": {},
   "outputs": [
    {
     "data": {
      "text/plain": [
       "'hello'"
      ]
     },
     "execution_count": 41,
     "metadata": {},
     "output_type": "execute_result"
    }
   ],
   "source": [
    "string.lower()"
   ]
  },
  {
   "cell_type": "code",
   "execution_count": 42,
   "id": "562788b0",
   "metadata": {},
   "outputs": [
    {
     "name": "stdout",
     "output_type": "stream",
     "text": [
      "\n",
      "    안녕\n",
      "   안 녕\n",
      "하이 \n",
      "\n",
      "\n",
      "안녕\n",
      "   안 녕\n",
      "하이\n"
     ]
    }
   ],
   "source": [
    "# trim, ltrim, rtrim\n",
    "a =\"\"\"\n",
    "    안녕\n",
    "   안 녕\n",
    "하이 \n",
    "\n",
    "\"\"\"\n",
    "print(a)\n",
    "\n",
    "print(a.strip())"
   ]
  },
  {
   "cell_type": "code",
   "execution_count": 43,
   "id": "17c9b471",
   "metadata": {},
   "outputs": [
    {
     "name": "stdout",
     "output_type": "stream",
     "text": [
      "<class 'bool'>\n"
     ]
    }
   ],
   "source": [
    "# 논리형 변수 : True of False, and, or, not\n",
    "\n",
    "hungry = True\n",
    "sleep = False\n",
    "\n",
    "print(type(hungry))"
   ]
  },
  {
   "cell_type": "code",
   "execution_count": 44,
   "id": "db84f89b",
   "metadata": {},
   "outputs": [
    {
     "name": "stdout",
     "output_type": "stream",
     "text": [
      "False\n",
      "True\n",
      "True\n"
     ]
    }
   ],
   "source": [
    "print(hungry and sleep)\n",
    "print(hungry or sleep)\n",
    "print(not sleep)"
   ]
  },
  {
   "cell_type": "code",
   "execution_count": 45,
   "id": "b8e6cbce",
   "metadata": {},
   "outputs": [
    {
     "name": "stdout",
     "output_type": "stream",
     "text": [
      "ok\n"
     ]
    }
   ],
   "source": [
    "a = 1\n",
    "b = 3\n",
    "\n",
    "if a ==1 and b ==3:\n",
    "    print(\"ok\")\n",
    "else:\n",
    "    print(\"no\")"
   ]
  },
  {
   "cell_type": "code",
   "execution_count": 46,
   "id": "c640f899",
   "metadata": {},
   "outputs": [
    {
     "name": "stdout",
     "output_type": "stream",
     "text": [
      "0\n",
      "2\n"
     ]
    }
   ],
   "source": [
    "# find() : 왼쪽부터 찾아서 처음 나오는 위치값을 얻어오는 함수\n",
    "# rfind() : 오른쪽부터\n",
    "\n",
    "lstring = \"안녕안녕하세요\".find(\"안\")\n",
    "print(lstring)\n",
    "rstring = \"안녕안녕하세요\".rfind(\"안\")\n",
    "print(rstring)"
   ]
  },
  {
   "cell_type": "code",
   "execution_count": 3,
   "id": "877f5d64",
   "metadata": {},
   "outputs": [
    {
     "name": "stdout",
     "output_type": "stream",
     "text": [
      "False\n"
     ]
    }
   ],
   "source": [
    "print(\"잘자\" in \"안녕하세영\")"
   ]
  },
  {
   "cell_type": "code",
   "execution_count": 5,
   "id": "2d4b67af",
   "metadata": {},
   "outputs": [
    {
     "data": {
      "text/plain": [
       "'1 2 3 4'"
      ]
     },
     "execution_count": 5,
     "metadata": {},
     "output_type": "execute_result"
    }
   ],
   "source": [
    "a = '1 2 3 4'\n",
    "a"
   ]
  },
  {
   "cell_type": "code",
   "execution_count": 8,
   "id": "0d39815b",
   "metadata": {},
   "outputs": [
    {
     "data": {
      "text/plain": [
       "['1', '2', '3', '4']"
      ]
     },
     "execution_count": 8,
     "metadata": {},
     "output_type": "execute_result"
    }
   ],
   "source": [
    "a =\"1 2 3 4\".split(\" \")\n",
    "a"
   ]
  }
 ],
 "metadata": {
  "kernelspec": {
   "display_name": "Python 3 (ipykernel)",
   "language": "python",
   "name": "python3"
  },
  "language_info": {
   "codemirror_mode": {
    "name": "ipython",
    "version": 3
   },
   "file_extension": ".py",
   "mimetype": "text/x-python",
   "name": "python",
   "nbconvert_exporter": "python",
   "pygments_lexer": "ipython3",
   "version": "3.9.12"
  },
  "toc": {
   "base_numbering": 1,
   "nav_menu": {},
   "number_sections": true,
   "sideBar": true,
   "skip_h1_title": false,
   "title_cell": "Table of Contents",
   "title_sidebar": "Contents",
   "toc_cell": false,
   "toc_position": {},
   "toc_section_display": true,
   "toc_window_display": false
  }
 },
 "nbformat": 4,
 "nbformat_minor": 5
}
