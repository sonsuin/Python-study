{
 "cells": [
  {
   "cell_type": "code",
   "execution_count": 1,
   "id": "ad0004bd",
   "metadata": {},
   "outputs": [],
   "source": [
    "# 함수(Function)\n",
    "# 1) 함수의 정의 : 반복적으로 사용하거나 관련된 기능이나 명령어를 묶어서 처리하는 기능\n",
    "# - 반복문 : 반복하는 문장, 동일하거나 유사한 성격을 가진 문장을 반복해서 처리할 때 사용하는 문\n",
    "\n",
    "# 2) 함수의 장점\n",
    "# - 반복적인 코드를 줄여 코딩을 간소화\n",
    "# - 프로그램의 유지보수를 쉽게 할 수 있다.\n",
    "\n",
    "# 선언문: 변수를 선언하거나 초기값을 부여하는 문장\n",
    "\n",
    "# 3) 함수의 종류\n",
    "# - 내장함수\n",
    "# - 사용자 정의 함수\n",
    "\n",
    "# 4) 함수의 형식 및 구조\n",
    "#    def 함수명(입력_매개변수):\n",
    "#        내용정의부"
   ]
  },
  {
   "cell_type": "code",
   "execution_count": 2,
   "id": "ee3eca0b",
   "metadata": {},
   "outputs": [
    {
     "name": "stdout",
     "output_type": "stream",
     "text": [
      "1 2\n",
      "3\n"
     ]
    }
   ],
   "source": [
    "a, b = map(int, input().split())\n",
    "print(a+b)"
   ]
  },
  {
   "cell_type": "code",
   "execution_count": 3,
   "id": "0eeaaa4e",
   "metadata": {},
   "outputs": [],
   "source": [
    "def adder(x, y):\n",
    "    return x+y"
   ]
  },
  {
   "cell_type": "code",
   "execution_count": 4,
   "id": "f3770973",
   "metadata": {},
   "outputs": [
    {
     "data": {
      "text/plain": [
       "12"
      ]
     },
     "execution_count": 4,
     "metadata": {},
     "output_type": "execute_result"
    }
   ],
   "source": [
    "# 함수 호출 : Call By Name, Call by Value(매개변수를 가지고 호출)\n",
    "adder(10, 2)"
   ]
  },
  {
   "cell_type": "code",
   "execution_count": 5,
   "id": "781d77a6",
   "metadata": {},
   "outputs": [],
   "source": [
    "def process(x, y, z):\n",
    "    pass # 내용을 아직 가지고 있지 않을 때"
   ]
  },
  {
   "cell_type": "code",
   "execution_count": 6,
   "id": "140b15c1",
   "metadata": {},
   "outputs": [
    {
     "data": {
      "text/plain": [
       "(1, 2, 3, 4, 5)"
      ]
     },
     "execution_count": 6,
     "metadata": {},
     "output_type": "execute_result"
    }
   ],
   "source": [
    "def test():\n",
    "    return 1, 2, 3, 4, 5  # (1, 2, 3, 4, 5)\n",
    "test()"
   ]
  },
  {
   "cell_type": "markdown",
   "id": "9a95a470",
   "metadata": {},
   "source": [
    "# 내장함수"
   ]
  },
  {
   "cell_type": "code",
   "execution_count": 7,
   "id": "141ca0df",
   "metadata": {},
   "outputs": [
    {
     "name": "stdout",
     "output_type": "stream",
     "text": [
      "3 3\n"
     ]
    }
   ],
   "source": [
    "# 절대값\n",
    "print(abs(-3),abs(3))"
   ]
  },
  {
   "cell_type": "code",
   "execution_count": 8,
   "id": "066baa73",
   "metadata": {},
   "outputs": [
    {
     "name": "stdout",
     "output_type": "stream",
     "text": [
      "True\n",
      "False\n"
     ]
    }
   ],
   "source": [
    "# all() - 모든값이 True(참)인지 검사\n",
    "# 0과 1\n",
    "print(all([1,2,3]))\n",
    "print(all([1,2,3,0]))"
   ]
  },
  {
   "cell_type": "code",
   "execution_count": 9,
   "id": "6a8a0874",
   "metadata": {},
   "outputs": [
    {
     "name": "stdout",
     "output_type": "stream",
     "text": [
      "True\n",
      "True\n",
      "False\n"
     ]
    }
   ],
   "source": [
    "# any() - 한개라도 True 이면 True\n",
    "print(any([1,2,3,0]))\n",
    "print(any([0,0,-1]))\n",
    "print(any([0,0,0,0]))"
   ]
  },
  {
   "cell_type": "code",
   "execution_count": 10,
   "id": "3d2e6c31",
   "metadata": {},
   "outputs": [
    {
     "name": "stdout",
     "output_type": "stream",
     "text": [
      "True\n",
      "False\n"
     ]
    }
   ],
   "source": [
    "# 문자열일 경우 빈 값이면 False, 값이 있으면 True\n",
    "a = 'hello'\n",
    "if a:\n",
    "    print('True')\n",
    "else:\n",
    "    print('False')\n",
    "\n",
    "    \n",
    "b = ''\n",
    "if b:\n",
    "    print('True')\n",
    "else:\n",
    "    print('False')"
   ]
  },
  {
   "cell_type": "code",
   "execution_count": 11,
   "id": "de9956df",
   "metadata": {
    "scrolled": false
   },
   "outputs": [
    {
     "name": "stdout",
     "output_type": "stream",
     "text": [
      "['__add__', '__class__', '__class_getitem__', '__contains__', '__delattr__', '__delitem__', '__dir__', '__doc__', '__eq__', '__format__', '__ge__', '__getattribute__', '__getitem__', '__gt__', '__hash__', '__iadd__', '__imul__', '__init__', '__init_subclass__', '__iter__', '__le__', '__len__', '__lt__', '__mul__', '__ne__', '__new__', '__reduce__', '__reduce_ex__', '__repr__', '__reversed__', '__rmul__', '__setattr__', '__setitem__', '__sizeof__', '__str__', '__subclasshook__', 'append', 'clear', 'copy', 'count', 'extend', 'index', 'insert', 'pop', 'remove', 'reverse', 'sort']\n"
     ]
    }
   ],
   "source": [
    "print(dir([1,2,3]))"
   ]
  },
  {
   "cell_type": "code",
   "execution_count": 12,
   "id": "7506ec74",
   "metadata": {},
   "outputs": [
    {
     "name": "stdout",
     "output_type": "stream",
     "text": [
      "['__class__', '__class_getitem__', '__contains__', '__delattr__', '__delitem__', '__dir__', '__doc__', '__eq__', '__format__', '__ge__', '__getattribute__', '__getitem__', '__gt__', '__hash__', '__init__', '__init_subclass__', '__ior__', '__iter__', '__le__', '__len__', '__lt__', '__ne__', '__new__', '__or__', '__reduce__', '__reduce_ex__', '__repr__', '__reversed__', '__ror__', '__setattr__', '__setitem__', '__sizeof__', '__str__', '__subclasshook__', 'clear', 'copy', 'fromkeys', 'get', 'items', 'keys', 'pop', 'popitem', 'setdefault', 'update', 'values']\n"
     ]
    }
   ],
   "source": [
    "print(dir({'name':'길동'}))"
   ]
  },
  {
   "cell_type": "code",
   "execution_count": 13,
   "id": "5fe87fe3",
   "metadata": {},
   "outputs": [
    {
     "name": "stdout",
     "output_type": "stream",
     "text": [
      "(2, 1)\n",
      "(6.0, 0.09999999999999998)\n"
     ]
    }
   ],
   "source": [
    "a = 7\n",
    "b = 3\n",
    "\n",
    "print(divmod(7, 3))\n",
    "print(divmod(1.3, 0.2))"
   ]
  },
  {
   "cell_type": "code",
   "execution_count": 14,
   "id": "cb973757",
   "metadata": {},
   "outputs": [
    {
     "name": "stdout",
     "output_type": "stream",
     "text": [
      "몫은 2 나머지는 1\n"
     ]
    }
   ],
   "source": [
    "n1, n2 = divmod(7, 3) #unpacking\n",
    "print('몫은 {} 나머지는 {}'.format(n1, n2))"
   ]
  },
  {
   "cell_type": "code",
   "execution_count": 15,
   "id": "aad9aff3",
   "metadata": {},
   "outputs": [
    {
     "name": "stdout",
     "output_type": "stream",
     "text": [
      "<enumerate object at 0x0000019602E35680>\n",
      "\n",
      "[(0, 10), (1, 20), (2, 30), (3, 40), (4, 50)]\n"
     ]
    }
   ],
   "source": [
    "# 인덱스와 값을 리턴하는 함수\n",
    "print(enumerate([10, 20, 30, 40, 50]))\n",
    "print()\n",
    "print(list(enumerate([10, 20, 30, 40, 50])))"
   ]
  },
  {
   "cell_type": "code",
   "execution_count": 16,
   "id": "f7deb8a9",
   "metadata": {},
   "outputs": [
    {
     "name": "stdout",
     "output_type": "stream",
     "text": [
      "0 10\n",
      "1 20\n",
      "2 30\n",
      "3 40\n",
      "4 50\n"
     ]
    }
   ],
   "source": [
    "for i, v in enumerate([10, 20, 30, 40, 50]):\n",
    "    print(i, v)"
   ]
  },
  {
   "cell_type": "code",
   "execution_count": 17,
   "id": "e35ed917",
   "metadata": {},
   "outputs": [
    {
     "name": "stdout",
     "output_type": "stream",
     "text": [
      "number =5\n",
      "8\n"
     ]
    }
   ],
   "source": [
    "# eval() : 문자열의 따옴표를 제거하고 실행하는 함수\n",
    "num = eval(input('number =')) # int() 대신\n",
    "print(num + 3)"
   ]
  },
  {
   "cell_type": "code",
   "execution_count": 18,
   "id": "bfa7ab6d",
   "metadata": {},
   "outputs": [
    {
     "name": "stdout",
     "output_type": "stream",
     "text": [
      "(2, 1)\n"
     ]
    }
   ],
   "source": [
    "str = 'divmod(7, 3)'\n",
    "print(eval(str))"
   ]
  },
  {
   "cell_type": "code",
   "execution_count": 19,
   "id": "b59235b7",
   "metadata": {},
   "outputs": [
    {
     "name": "stdout",
     "output_type": "stream",
     "text": [
      "0xea\n"
     ]
    }
   ],
   "source": [
    "print(hex(234))"
   ]
  },
  {
   "cell_type": "code",
   "execution_count": 20,
   "id": "b90dd663",
   "metadata": {},
   "outputs": [
    {
     "name": "stdout",
     "output_type": "stream",
     "text": [
      "1745865828720 1745865828720 1745865828720\n"
     ]
    }
   ],
   "source": [
    "# id(객체) - 객체의 주소를 리턴하는 함수\n",
    "a = 3\n",
    "b = a\n",
    "print(id(a), id(3), id(b))"
   ]
  },
  {
   "cell_type": "code",
   "execution_count": 21,
   "id": "315ae9de",
   "metadata": {},
   "outputs": [
    {
     "name": "stdout",
     "output_type": "stream",
     "text": [
      "5\n",
      "5\n"
     ]
    }
   ],
   "source": [
    "a = input()\n",
    "print(a)"
   ]
  },
  {
   "cell_type": "code",
   "execution_count": 22,
   "id": "05a7361c",
   "metadata": {},
   "outputs": [
    {
     "name": "stdout",
     "output_type": "stream",
     "text": [
      "3 <class 'int'>\n",
      "3 <class 'int'>\n",
      "15 <class 'int'>\n",
      "255 <class 'int'>\n"
     ]
    }
   ],
   "source": [
    "a = int('3')\n",
    "print(a, type(a))\n",
    "b = int(3.4)\n",
    "print(b, type(b))\n",
    "\n",
    "c = int('1111', 2)\n",
    "print(c, type(c))\n",
    "\n",
    "d = int('FF', 16)\n",
    "print(d, type(d))"
   ]
  },
  {
   "cell_type": "code",
   "execution_count": 23,
   "id": "a10634e1",
   "metadata": {},
   "outputs": [
    {
     "data": {
      "text/plain": [
       "['사과', '배', '수박', '바나나', '포도']"
      ]
     },
     "execution_count": 23,
     "metadata": {},
     "output_type": "execute_result"
    }
   ],
   "source": [
    "a = ['사과', '배', '수박', '바나나', '포도']\n",
    "a"
   ]
  },
  {
   "cell_type": "code",
   "execution_count": 24,
   "id": "8c2d0ac5",
   "metadata": {},
   "outputs": [
    {
     "name": "stdout",
     "output_type": "stream",
     "text": [
      "사과, 배, 수박, 바나나, 포도, \n"
     ]
    }
   ],
   "source": [
    "result = ''\n",
    "for i in a:\n",
    "    result += i + ', '\n",
    "print(result)"
   ]
  },
  {
   "cell_type": "code",
   "execution_count": 25,
   "id": "2210255c",
   "metadata": {
    "scrolled": true
   },
   "outputs": [
    {
     "name": "stdout",
     "output_type": "stream",
     "text": [
      "사과, 배, 수박, 바나나, 포도\n",
      "사과 / 배 / 수박 / 바나나 / 포도\n",
      "사과\n",
      "배\n",
      "수박\n",
      "바나나\n",
      "포도\n"
     ]
    }
   ],
   "source": [
    "print(', ' .join(a))\n",
    "print(' / ' .join(a))\n",
    "print('\\n' .join(a))"
   ]
  },
  {
   "cell_type": "code",
   "execution_count": 26,
   "id": "f461314f",
   "metadata": {},
   "outputs": [
    {
     "name": "stdout",
     "output_type": "stream",
     "text": [
      "['p', 'y', 't', 'h', 'o', 'n']\n",
      "('p', 'y', 't', 'h', 'o', 'n')\n"
     ]
    }
   ],
   "source": [
    "# list(), tuple()\n",
    "a = list('python')\n",
    "print(a)\n",
    "b = tuple('python')\n",
    "print(b)"
   ]
  },
  {
   "cell_type": "markdown",
   "id": "ffd7713f",
   "metadata": {},
   "source": [
    "# 사용자 정의 함수"
   ]
  },
  {
   "cell_type": "code",
   "execution_count": 27,
   "id": "d4b5f2c6",
   "metadata": {},
   "outputs": [
    {
     "name": "stdout",
     "output_type": "stream",
     "text": [
      "x =  4\n"
     ]
    },
    {
     "data": {
      "text/plain": [
       "8"
      ]
     },
     "execution_count": 27,
     "metadata": {},
     "output_type": "execute_result"
    }
   ],
   "source": [
    "def calc(x):\n",
    "    print('x = ', x)\n",
    "    return x * 2\n",
    "calc(4)"
   ]
  },
  {
   "cell_type": "code",
   "execution_count": 28,
   "id": "371c8c8a",
   "metadata": {},
   "outputs": [
    {
     "name": "stdout",
     "output_type": "stream",
     "text": [
      "x =  1\n",
      "x =  2\n",
      "x =  3\n",
      "x =  4\n"
     ]
    },
    {
     "data": {
      "text/plain": [
       "[2, 4, 6, 8]"
      ]
     },
     "execution_count": 28,
     "metadata": {},
     "output_type": "execute_result"
    }
   ],
   "source": [
    "a = [calc(1), calc(2), calc(3), calc(4)]\n",
    "a"
   ]
  },
  {
   "cell_type": "code",
   "execution_count": 29,
   "id": "dcf4fd03",
   "metadata": {},
   "outputs": [
    {
     "name": "stdout",
     "output_type": "stream",
     "text": [
      "x =  1\n",
      "x =  2\n",
      "x =  3\n",
      "x =  4\n"
     ]
    },
    {
     "data": {
      "text/plain": [
       "[2, 4, 6, 8]"
      ]
     },
     "execution_count": 29,
     "metadata": {},
     "output_type": "execute_result"
    }
   ],
   "source": [
    "a = []\n",
    "for i in [1,2,3,4]:\n",
    "    a.append(calc(i))\n",
    "a"
   ]
  },
  {
   "cell_type": "code",
   "execution_count": 30,
   "id": "c71c3169",
   "metadata": {},
   "outputs": [
    {
     "name": "stdout",
     "output_type": "stream",
     "text": [
      "x =  1\n",
      "x =  2\n",
      "x =  3\n",
      "x =  4\n"
     ]
    },
    {
     "data": {
      "text/plain": [
       "[2, 4, 6, 8]"
      ]
     },
     "execution_count": 30,
     "metadata": {},
     "output_type": "execute_result"
    }
   ],
   "source": [
    "a = []\n",
    "for i in range(1,5):\n",
    "    a.append(calc(i))\n",
    "a"
   ]
  },
  {
   "cell_type": "code",
   "execution_count": 31,
   "id": "4e61f945",
   "metadata": {},
   "outputs": [
    {
     "name": "stdout",
     "output_type": "stream",
     "text": [
      "x =  1\n",
      "x =  2\n",
      "x =  3\n",
      "x =  4\n"
     ]
    },
    {
     "data": {
      "text/plain": [
       "[2, 4, 6, 8]"
      ]
     },
     "execution_count": 31,
     "metadata": {},
     "output_type": "execute_result"
    }
   ],
   "source": [
    "# map(함수이름, 입력값리스트)\n",
    "a = list(map(calc, [1,2,3,4]))\n",
    "a"
   ]
  },
  {
   "cell_type": "code",
   "execution_count": 32,
   "id": "fabeef32",
   "metadata": {},
   "outputs": [
    {
     "name": "stdout",
     "output_type": "stream",
     "text": [
      "이 51060\n"
     ]
    }
   ],
   "source": [
    "c = \"이\"\n",
    "print(c, ord(c))"
   ]
  },
  {
   "cell_type": "code",
   "execution_count": 33,
   "id": "899a8622",
   "metadata": {},
   "outputs": [
    {
     "name": "stdout",
     "output_type": "stream",
     "text": [
      "p -> 112\n",
      "y -> 121\n",
      "t -> 116\n",
      "h -> 104\n",
      "o -> 111\n",
      "n -> 110\n"
     ]
    }
   ],
   "source": [
    "a = 'python'\n",
    "\n",
    "for i in a:\n",
    "    print('{} -> {}'.format(i, ord(i)))"
   ]
  },
  {
   "cell_type": "code",
   "execution_count": 34,
   "id": "f4989928",
   "metadata": {},
   "outputs": [
    {
     "name": "stdout",
     "output_type": "stream",
     "text": [
      "3 y\n",
      "1 h\n"
     ]
    }
   ],
   "source": [
    "a = max(1,2,3)\n",
    "b = max('python')\n",
    "print(a, b)\n",
    "c = min(1,2,3)\n",
    "d = min('python')\n",
    "print(c, d)"
   ]
  },
  {
   "cell_type": "code",
   "execution_count": 35,
   "id": "596e4c10",
   "metadata": {},
   "outputs": [
    {
     "name": "stdout",
     "output_type": "stream",
     "text": [
      "16 16\n"
     ]
    }
   ],
   "source": [
    "a = pow(2,4)\n",
    "print(a, 2 **4)"
   ]
  },
  {
   "cell_type": "code",
   "execution_count": 36,
   "id": "fc187bd2",
   "metadata": {},
   "outputs": [],
   "source": [
    "# 호출방법\n",
    "# Call By Name(이름에 의한 호출), Call By value(값에 의한 호출)\n",
    "# Call By reference(참조주소에 의한 호출)"
   ]
  },
  {
   "cell_type": "code",
   "execution_count": 37,
   "id": "d43d6508",
   "metadata": {},
   "outputs": [],
   "source": [
    "def say():\n",
    "    print('hello')"
   ]
  },
  {
   "cell_type": "code",
   "execution_count": 38,
   "id": "55c83095",
   "metadata": {},
   "outputs": [],
   "source": [
    "def say1():\n",
    "    a = '안뇽'\n",
    "    return a"
   ]
  },
  {
   "cell_type": "code",
   "execution_count": 39,
   "id": "7052636d",
   "metadata": {},
   "outputs": [
    {
     "data": {
      "text/plain": [
       "'안뇽'"
      ]
     },
     "execution_count": 39,
     "metadata": {},
     "output_type": "execute_result"
    }
   ],
   "source": [
    "say1() "
   ]
  },
  {
   "cell_type": "code",
   "execution_count": 40,
   "id": "44ffe133",
   "metadata": {},
   "outputs": [
    {
     "data": {
      "text/plain": [
       "'Hello, suin0'"
      ]
     },
     "execution_count": 40,
     "metadata": {},
     "output_type": "execute_result"
    }
   ],
   "source": [
    "# 함수 선언\n",
    "def hello(name):\n",
    "    string = 'Hello, {}'.format(name)\n",
    "    return string # print()랑 return 둘중 하나만 하면 됨\n",
    "\n",
    "hello('suin0') # <- Call By Value"
   ]
  },
  {
   "cell_type": "code",
   "execution_count": 41,
   "id": "0825d26b",
   "metadata": {},
   "outputs": [],
   "source": [
    "# 함수 선언\n",
    "def hello1(name):\n",
    "    string = 'Hello, {}'.format(name)\n",
    "    print(string) # print()랑 return 둘중 하나만 하면 됨"
   ]
  },
  {
   "cell_type": "code",
   "execution_count": 42,
   "id": "4e6284cc",
   "metadata": {},
   "outputs": [
    {
     "name": "stdout",
     "output_type": "stream",
     "text": [
      "Hello, sooin1\n"
     ]
    }
   ],
   "source": [
    "hi = hello('sooin1') # <- Call By Value\n",
    "print(hi)"
   ]
  },
  {
   "cell_type": "code",
   "execution_count": 43,
   "id": "8969a9af",
   "metadata": {},
   "outputs": [
    {
     "data": {
      "text/plain": [
       "'Hello, 2'"
      ]
     },
     "execution_count": 43,
     "metadata": {},
     "output_type": "execute_result"
    }
   ],
   "source": [
    "# 함수 선언\n",
    "def hello2(name):\n",
    "    return 'Hello, {}'.format(name)\n",
    "hello('2')"
   ]
  },
  {
   "cell_type": "code",
   "execution_count": 44,
   "id": "4b5c884f",
   "metadata": {},
   "outputs": [
    {
     "data": {
      "text/plain": [
       "'Hello, 3'"
      ]
     },
     "execution_count": 44,
     "metadata": {},
     "output_type": "execute_result"
    }
   ],
   "source": [
    "# 함수 선언\n",
    "def hello3(name):\n",
    "    return 'Hello, ' + name\n",
    "\n",
    "hello3('3')"
   ]
  },
  {
   "cell_type": "code",
   "execution_count": 45,
   "id": "7829127a",
   "metadata": {},
   "outputs": [
    {
     "name": "stdout",
     "output_type": "stream",
     "text": [
      "15\n"
     ]
    }
   ],
   "source": [
    "a = [1, 2, 3, 4, 5]\n",
    "hap = 0\n",
    "\n",
    "for i in a:\n",
    "    hap += i\n",
    "print(hap)"
   ]
  }
 ],
 "metadata": {
  "kernelspec": {
   "display_name": "Python 3 (ipykernel)",
   "language": "python",
   "name": "python3"
  },
  "language_info": {
   "codemirror_mode": {
    "name": "ipython",
    "version": 3
   },
   "file_extension": ".py",
   "mimetype": "text/x-python",
   "name": "python",
   "nbconvert_exporter": "python",
   "pygments_lexer": "ipython3",
   "version": "3.9.12"
  },
  "toc": {
   "base_numbering": 1,
   "nav_menu": {},
   "number_sections": true,
   "sideBar": true,
   "skip_h1_title": false,
   "title_cell": "Table of Contents",
   "title_sidebar": "Contents",
   "toc_cell": false,
   "toc_position": {},
   "toc_section_display": true,
   "toc_window_display": false
  }
 },
 "nbformat": 4,
 "nbformat_minor": 5
}
