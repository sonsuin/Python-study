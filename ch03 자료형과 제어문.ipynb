{
 "cells": [
  {
   "cell_type": "markdown",
   "id": "1eb11257",
   "metadata": {},
   "source": [
    "# 자료구조\n",
    "- 데이터를 저장하는 기억공간을 효율적으로 사용할 수 있도록 도와주는 기능\n",
    "- 기억공간을 효율적으로 사용한다는 것은 낭비를 최소화하고 처리속도를 빠르게\n",
    "- 파이썬에서 제공하는 자료구조 : 리스트, 튜플, 세트, 딕셔너리, 데이터프레임"
   ]
  },
  {
   "cell_type": "markdown",
   "id": "2b6b7a00",
   "metadata": {},
   "source": [
    "## 리스트(List)\n",
    "- 임의의 객체를 순서대로 저장하는 자료형(시퀀스_sequence 자료형)\n",
    "- 각 데이터의 값이 담겨지는 위치를 인덱스(index)라고 부른다.\n",
    "- 인덱스는 0부터 시작된다.\n",
    "- 변경가능\n",
    "- 대괄호[]를 사용하여 데이터를 표현"
   ]
  },
  {
   "cell_type": "code",
   "execution_count": 1,
   "id": "a8fe2914",
   "metadata": {},
   "outputs": [
    {
     "data": {
      "text/plain": [
       "[1, 2, 3, 4, 5]"
      ]
     },
     "execution_count": 1,
     "metadata": {},
     "output_type": "execute_result"
    }
   ],
   "source": [
    "# 리스트(list) : 하나의 변수에 여러값을 할당하는 자료\n",
    "# 시퀀스 자료형 : 순서대로 데이터를 저장하는 자료형(리스트)\n",
    "\n",
    "a = [1,2,3,4,5]\n",
    "a"
   ]
  },
  {
   "cell_type": "code",
   "execution_count": 2,
   "id": "94e7210d",
   "metadata": {},
   "outputs": [
    {
     "name": "stdout",
     "output_type": "stream",
     "text": [
      "<class 'list'>\n"
     ]
    }
   ],
   "source": [
    "# 자료형을 확인하는 함수\n",
    "print(type(a))"
   ]
  },
  {
   "cell_type": "code",
   "execution_count": 3,
   "id": "535e2d10",
   "metadata": {},
   "outputs": [
    {
     "data": {
      "text/plain": [
       "['a', 'b', '2']"
      ]
     },
     "execution_count": 3,
     "metadata": {},
     "output_type": "execute_result"
    }
   ],
   "source": [
    "b = ['a','b','2']\n",
    "b"
   ]
  },
  {
   "cell_type": "code",
   "execution_count": 4,
   "id": "c8fdf841",
   "metadata": {},
   "outputs": [
    {
     "data": {
      "text/plain": [
       "'a'"
      ]
     },
     "execution_count": 4,
     "metadata": {},
     "output_type": "execute_result"
    }
   ],
   "source": [
    "# 인덱스(index) : 데이터의 위치\n",
    "b[0]"
   ]
  },
  {
   "cell_type": "code",
   "execution_count": 5,
   "id": "b3fe1d03",
   "metadata": {},
   "outputs": [
    {
     "name": "stdout",
     "output_type": "stream",
     "text": [
      "[1, 2, 3, ['a', 'b']]\n"
     ]
    }
   ],
   "source": [
    "# 중첩 리스트 : 리스트 안에 또 다른 리스트를 담는 것\n",
    "a = [1,2,3,['a','b']]\n",
    "print(a)"
   ]
  },
  {
   "cell_type": "code",
   "execution_count": 6,
   "id": "3c369d2a",
   "metadata": {},
   "outputs": [
    {
     "name": "stdout",
     "output_type": "stream",
     "text": [
      "b b\n"
     ]
    }
   ],
   "source": [
    "aa = a[3][1]\n",
    "bb = a[-1][-1]\n",
    "print(aa,bb)"
   ]
  },
  {
   "cell_type": "code",
   "execution_count": 7,
   "id": "4b049c5d",
   "metadata": {},
   "outputs": [
    {
     "data": {
      "text/plain": [
       "[1, 2, 3, 4, 5]"
      ]
     },
     "execution_count": 7,
     "metadata": {},
     "output_type": "execute_result"
    }
   ],
   "source": [
    "# 슬라이싱(slicing) : 리스트에 범위지정을 통해 데이터를 추출, start:end\n",
    "# 파이썬은 마지막데이터를 포함하지 않는다. end-1까지만 추출\n",
    "x = [1,2,3,4,5]\n",
    "x"
   ]
  },
  {
   "cell_type": "code",
   "execution_count": 8,
   "id": "673c2cc4",
   "metadata": {},
   "outputs": [
    {
     "data": {
      "text/plain": [
       "[1, 2, 3, 4, 5]"
      ]
     },
     "execution_count": 8,
     "metadata": {},
     "output_type": "execute_result"
    }
   ],
   "source": [
    "x[0:]"
   ]
  },
  {
   "cell_type": "code",
   "execution_count": 9,
   "id": "1cfb4a38",
   "metadata": {},
   "outputs": [
    {
     "data": {
      "text/plain": [
       "[1, 2, 3, 4, 5]"
      ]
     },
     "execution_count": 9,
     "metadata": {},
     "output_type": "execute_result"
    }
   ],
   "source": [
    "x[:]"
   ]
  },
  {
   "cell_type": "code",
   "execution_count": 10,
   "id": "0cadd653",
   "metadata": {},
   "outputs": [
    {
     "data": {
      "text/plain": [
       "[1, 2]"
      ]
     },
     "execution_count": 10,
     "metadata": {},
     "output_type": "execute_result"
    }
   ],
   "source": [
    "x[:2]"
   ]
  },
  {
   "cell_type": "code",
   "execution_count": 11,
   "id": "f5611339",
   "metadata": {},
   "outputs": [
    {
     "data": {
      "text/plain": [
       "[1, 2, 3, 4]"
      ]
     },
     "execution_count": 11,
     "metadata": {},
     "output_type": "execute_result"
    }
   ],
   "source": [
    "x[:-1]"
   ]
  },
  {
   "cell_type": "code",
   "execution_count": 12,
   "id": "498c7c59",
   "metadata": {},
   "outputs": [
    {
     "data": {
      "text/plain": [
       "['서울', '대구', '대전', '울산', '부산']"
      ]
     },
     "execution_count": 12,
     "metadata": {},
     "output_type": "execute_result"
    }
   ],
   "source": [
    "c = ['서울','대구','대전','울산','부산']\n",
    "c"
   ]
  },
  {
   "cell_type": "code",
   "execution_count": 13,
   "id": "b9a07da4",
   "metadata": {},
   "outputs": [
    {
     "data": {
      "text/plain": [
       "['서울', '대전', '부산']"
      ]
     },
     "execution_count": 13,
     "metadata": {},
     "output_type": "execute_result"
    }
   ],
   "source": [
    "# 띄어서 가져오기\n",
    "c[::2]"
   ]
  },
  {
   "cell_type": "code",
   "execution_count": 14,
   "id": "e4deec70",
   "metadata": {},
   "outputs": [
    {
     "data": {
      "text/plain": [
       "['부산', '울산', '대전', '대구', '서울']"
      ]
     },
     "execution_count": 14,
     "metadata": {},
     "output_type": "execute_result"
    }
   ],
   "source": [
    "# 역순으로 배열\n",
    "c[::-1]"
   ]
  },
  {
   "cell_type": "code",
   "execution_count": 15,
   "id": "28b66efe",
   "metadata": {},
   "outputs": [
    {
     "name": "stdout",
     "output_type": "stream",
     "text": [
      "1831194345664 1831194345664\n"
     ]
    }
   ],
   "source": [
    "b = c\n",
    "print(id(c), id(b))"
   ]
  },
  {
   "cell_type": "markdown",
   "id": "cf5d2d1f",
   "metadata": {},
   "source": [
    "### 리스트의 연산"
   ]
  },
  {
   "cell_type": "code",
   "execution_count": 16,
   "id": "56635a5f",
   "metadata": {},
   "outputs": [
    {
     "name": "stdout",
     "output_type": "stream",
     "text": [
      "6\n",
      "2i\n"
     ]
    }
   ],
   "source": [
    "# 덧셈연산\n",
    "x = [1,2,3]\n",
    "y = [4,5,6]\n",
    "print(len(x+y))\n",
    "print(str(x[1]) + 'i')"
   ]
  },
  {
   "cell_type": "code",
   "execution_count": 17,
   "id": "d4aef9c0",
   "metadata": {},
   "outputs": [
    {
     "data": {
      "text/plain": [
       "[1, 2, 3, 1, 2, 3, 1, 2, 3]"
      ]
     },
     "execution_count": 17,
     "metadata": {},
     "output_type": "execute_result"
    }
   ],
   "source": [
    "x*3"
   ]
  },
  {
   "cell_type": "code",
   "execution_count": 18,
   "id": "f7229033",
   "metadata": {},
   "outputs": [
    {
     "data": {
      "text/plain": [
       "['red', 'blue', 'green', 'orange', 'black', 'white']"
      ]
     },
     "execution_count": 18,
     "metadata": {},
     "output_type": "execute_result"
    }
   ],
   "source": [
    "# in 연산 : 포함여부\n",
    "color = ['red', 'blue','green','orange','black','white']\n",
    "color"
   ]
  },
  {
   "cell_type": "code",
   "execution_count": 19,
   "id": "b0ba2b97",
   "metadata": {},
   "outputs": [
    {
     "name": "stdout",
     "output_type": "stream",
     "text": [
      "red 포함여부 :  True\n"
     ]
    }
   ],
   "source": [
    "print(\"red 포함여부 : \" , 'red' in color)"
   ]
  },
  {
   "cell_type": "code",
   "execution_count": 20,
   "id": "00bdfe40",
   "metadata": {},
   "outputs": [
    {
     "data": {
      "text/plain": [
       "['red', 'blue', 'green', 'orange', 'black', 'white', 'add']"
      ]
     },
     "execution_count": 20,
     "metadata": {},
     "output_type": "execute_result"
    }
   ],
   "source": [
    "# 리스트의 추가, 삭제\n",
    "## append() : 새로운 데이터가 마지막 위치에 추가\n",
    "color.append('add')\n",
    "color"
   ]
  },
  {
   "cell_type": "code",
   "execution_count": 21,
   "id": "d8ac1d28",
   "metadata": {},
   "outputs": [
    {
     "name": "stdout",
     "output_type": "stream",
     "text": [
      "['red', 'blue', 'green', 'orange', 'black', 'white', 'add', 'add1', 'add2']\n"
     ]
    }
   ],
   "source": [
    "# extend() : 기존에 리스트에 새로운 리스트를 추가\n",
    "color.extend(['add1', 'add2'])\n",
    "print(color)"
   ]
  },
  {
   "cell_type": "code",
   "execution_count": 22,
   "id": "ce3411df",
   "metadata": {},
   "outputs": [
    {
     "data": {
      "text/plain": [
       "['red', 'black']"
      ]
     },
     "execution_count": 22,
     "metadata": {},
     "output_type": "execute_result"
    }
   ],
   "source": [
    "color=['red','black']\n",
    "color"
   ]
  },
  {
   "cell_type": "code",
   "execution_count": 23,
   "id": "c4715811",
   "metadata": {},
   "outputs": [
    {
     "data": {
      "text/plain": [
       "['red', 'black', 'white']"
      ]
     },
     "execution_count": 23,
     "metadata": {},
     "output_type": "execute_result"
    }
   ],
   "source": [
    "# 데이터 삽입장소 정하고 싶을 때\n",
    "# insert(index, data)\n",
    "color.insert(3,'white')\n",
    "color"
   ]
  },
  {
   "cell_type": "code",
   "execution_count": 24,
   "id": "8a6cb5c2",
   "metadata": {},
   "outputs": [
    {
     "data": {
      "text/plain": [
       "True"
      ]
     },
     "execution_count": 24,
     "metadata": {},
     "output_type": "execute_result"
    }
   ],
   "source": [
    "'white' in color"
   ]
  },
  {
   "cell_type": "code",
   "execution_count": 25,
   "id": "5901e70d",
   "metadata": {},
   "outputs": [
    {
     "data": {
      "text/plain": [
       "['red', 'black']"
      ]
     },
     "execution_count": 25,
     "metadata": {},
     "output_type": "execute_result"
    }
   ],
   "source": [
    "# remove(data)\n",
    "color.remove(\"white\")\n",
    "color"
   ]
  },
  {
   "cell_type": "code",
   "execution_count": 26,
   "id": "29489362",
   "metadata": {},
   "outputs": [
    {
     "data": {
      "text/plain": [
       "['white', 'red', 'white']"
      ]
     },
     "execution_count": 26,
     "metadata": {},
     "output_type": "execute_result"
    }
   ],
   "source": [
    "# 같은 요소 여러개 있는 리스트에서 특정 요소만 지우고 싶을 때\n",
    "# del : 인덱스를 이용한 삭제\n",
    "color = ['white','red', 'white']\n",
    "color"
   ]
  },
  {
   "cell_type": "code",
   "execution_count": 27,
   "id": "c2431ca8",
   "metadata": {},
   "outputs": [],
   "source": [
    "del color[0]"
   ]
  },
  {
   "cell_type": "code",
   "execution_count": 28,
   "id": "a7e546a1",
   "metadata": {},
   "outputs": [
    {
     "data": {
      "text/plain": [
       "['red', 'white']"
      ]
     },
     "execution_count": 28,
     "metadata": {},
     "output_type": "execute_result"
    }
   ],
   "source": [
    "color"
   ]
  },
  {
   "cell_type": "code",
   "execution_count": 29,
   "id": "88997a59",
   "metadata": {},
   "outputs": [
    {
     "name": "stdout",
     "output_type": "stream",
     "text": [
      "[1, 2, 3],1,2\n"
     ]
    }
   ],
   "source": [
    "# 패킹(packing)과 언패킹(unpacking)\n",
    "## packing : 하나의 변수에 여러개의 데이터를 할당하는 것\n",
    "## unpacking : 하나의 변수에 담긴 여러개의 데이터를 각각의 변수로 반환\n",
    "\n",
    "x = [1,2,3] # 패킹\n",
    "a, b, c = x # 언패킹\n",
    "print(x, a, b, sep=',')"
   ]
  },
  {
   "cell_type": "code",
   "execution_count": 30,
   "id": "a425eb8d",
   "metadata": {},
   "outputs": [
    {
     "data": {
      "text/plain": [
       "[[49, 79, 20, 100, 80], [88, 77, 99, 66, 50], [90, 100, 52, 60, 70]]"
      ]
     },
     "execution_count": 30,
     "metadata": {},
     "output_type": "execute_result"
    }
   ],
   "source": [
    "# 이차원 리스트\n",
    "kor = [49, 79, 20, 100, 80]\n",
    "eng = [88, 77, 99, 66, 50]\n",
    "math = [90, 100, 52, 60, 70]\n",
    "score = [kor, eng, math]\n",
    "score"
   ]
  },
  {
   "cell_type": "code",
   "execution_count": 31,
   "id": "cf0b8599",
   "metadata": {},
   "outputs": [
    {
     "name": "stdout",
     "output_type": "stream",
     "text": [
      "99\n"
     ]
    }
   ],
   "source": [
    "print(score[1][2])"
   ]
  },
  {
   "cell_type": "code",
   "execution_count": 32,
   "id": "cd88b8b9",
   "metadata": {},
   "outputs": [
    {
     "name": "stdout",
     "output_type": "stream",
     "text": [
      "True True\n"
     ]
    }
   ],
   "source": [
    "a = 100\n",
    "b = 100\n",
    "print(a == b, a is b)"
   ]
  },
  {
   "cell_type": "code",
   "execution_count": 33,
   "id": "3d288066",
   "metadata": {},
   "outputs": [
    {
     "data": {
      "text/plain": [
       "[1, 2, 3, 4, 5, 5, 4, 3, 2, 1, 0]"
      ]
     },
     "execution_count": 33,
     "metadata": {},
     "output_type": "execute_result"
    }
   ],
   "source": [
    "a=[0,1,2,3,4,5,5,4,3,2,1,0]\n",
    "del a[0]\n",
    "a"
   ]
  },
  {
   "cell_type": "code",
   "execution_count": 34,
   "id": "45d90e7c",
   "metadata": {},
   "outputs": [
    {
     "data": {
      "text/plain": [
       "[0, 1, 2, 3, 4, 5, 5, 4, 3, 2, 1, 0]"
      ]
     },
     "execution_count": 34,
     "metadata": {},
     "output_type": "execute_result"
    }
   ],
   "source": [
    "a.insert(0,0)\n",
    "a"
   ]
  },
  {
   "cell_type": "code",
   "execution_count": 35,
   "id": "2c0b95ce",
   "metadata": {},
   "outputs": [
    {
     "data": {
      "text/plain": [
       "[0, 1, 3, 4, 5, 5, 4, 3, 2, 1, 0]"
      ]
     },
     "execution_count": 35,
     "metadata": {},
     "output_type": "execute_result"
    }
   ],
   "source": [
    "a.remove(2)\n",
    "a"
   ]
  },
  {
   "cell_type": "code",
   "execution_count": 36,
   "id": "aa67387c",
   "metadata": {},
   "outputs": [
    {
     "data": {
      "text/plain": [
       "[0, 1, 3, 5, 5, 4, 3, 2, 1, 0]"
      ]
     },
     "execution_count": 36,
     "metadata": {},
     "output_type": "execute_result"
    }
   ],
   "source": [
    "a.pop(3)\n",
    "a"
   ]
  },
  {
   "cell_type": "code",
   "execution_count": 37,
   "id": "de8fcff9",
   "metadata": {},
   "outputs": [
    {
     "data": {
      "text/plain": [
       "[1, 4, 3, 5, 2]"
      ]
     },
     "execution_count": 37,
     "metadata": {},
     "output_type": "execute_result"
    }
   ],
   "source": [
    "a=[1,4,3,5,2]\n",
    "a"
   ]
  },
  {
   "cell_type": "code",
   "execution_count": 38,
   "id": "cd7c8080",
   "metadata": {},
   "outputs": [
    {
     "data": {
      "text/plain": [
       "[5, 4, 3, 2, 1]"
      ]
     },
     "execution_count": 38,
     "metadata": {},
     "output_type": "execute_result"
    }
   ],
   "source": [
    "# 내림차순 정렬\n",
    "a.sort(reverse = True)\n",
    "a"
   ]
  },
  {
   "cell_type": "code",
   "execution_count": 39,
   "id": "dacfa8c1",
   "metadata": {},
   "outputs": [
    {
     "data": {
      "text/plain": [
       "False"
      ]
     },
     "execution_count": 39,
     "metadata": {},
     "output_type": "execute_result"
    }
   ],
   "source": [
    "90 in a"
   ]
  },
  {
   "cell_type": "markdown",
   "id": "b42a2a1a",
   "metadata": {},
   "source": [
    "## 사전(Dictionary)\n",
    "- 키와 값을 쌍으로 담아서 관리하는 자료구조\n",
    "- 저장된 각 값에 대한 순서는 의미가 없다\n",
    "- 저장된 데이터는 키에 의해 조회\n",
    "- 중괄호{}를 사용하여 데이터 표현\n",
    "- 키는 중복을 허용하지 않는다"
   ]
  },
  {
   "cell_type": "markdown",
   "id": "995f2810",
   "metadata": {},
   "source": [
    "## 튜플(Tuple)\n",
    "- 리스트와 유사하지만 값을 변경할 수 없다. 즉, 읽기 전용 자료를 저장할 때 사용\n",
    "- 각 값에 대한 인덱스가 부여\n",
    "- 변경 불가능\n",
    "- 소괄호()를 사용하여 데이터 표현"
   ]
  },
  {
   "cell_type": "markdown",
   "id": "557ef350",
   "metadata": {},
   "source": [
    "## 집합(Set)\n",
    "- 인덱스가 없고 값만 저장되는 자료구조\n",
    "- 순서 의미 없음\n",
    "- 중괄호{} 사용\n",
    "- 컴마(,)를 기준으로 데이터 분리\n",
    "- 중복값 허용하지 않음"
   ]
  },
  {
   "cell_type": "markdown",
   "id": "269cc547",
   "metadata": {},
   "source": [
    "# 제어문 : 제어하는 문장\n",
    "1. 정의 : 프로그램의 흐름이나 순서를 제어할 때 사용하는 문장\n",
    "         일반적으로 프로그램은 위에서 아래로, 좌에서 우로 진행\n",
    "         \n",
    "2. 조건문 or 비교/판단문 or 선택문\n",
    " - 주어진 조건에 따라 프로그램의 실행을 선택 또는 변경\n",
    " - 조건식은 반드시 그 결과가 참 또는 거짓으로 판정이 되는 식\n",
    " - if문\n",
    " \n",
    "3. 반복문\n",
    " - 동일하거나 유사한 성격을 가진 문장을 반복할 때 사용하는 문장\n",
    " - 주어진 조건이 참일 때 문장을 반복\n",
    " - 유사한 성격이란 동일한 행위를 하되 일정한 규칙을 가지고 있는 문장\n",
    " - for문, while문\n",
    " \n",
    "4. 기타 제어문\n",
    " - break : 무조건 반복을 벗어나라는 의미\n",
    " - continue : 이하 생략"
   ]
  },
  {
   "cell_type": "markdown",
   "id": "10dda08a",
   "metadata": {},
   "source": [
    "## 조건문 - if문"
   ]
  },
  {
   "cell_type": "code",
   "execution_count": 40,
   "id": "c1b83696",
   "metadata": {},
   "outputs": [
    {
     "name": "stdout",
     "output_type": "stream",
     "text": [
      "hi\n",
      "1\n",
      "배고파\n"
     ]
    }
   ],
   "source": [
    "print(\"hi\")\n",
    "a = 1\n",
    "print(a)\n",
    "print('배고파')"
   ]
  },
  {
   "cell_type": "code",
   "execution_count": 41,
   "id": "f6acf788",
   "metadata": {},
   "outputs": [
    {
     "name": "stdout",
     "output_type": "stream",
     "text": [
      "hi\n",
      "1\n",
      "배고파\n"
     ]
    }
   ],
   "source": [
    "print(\"hi\")\n",
    "a = 1\n",
    "print(a)\n",
    "print('배고파')"
   ]
  },
  {
   "cell_type": "code",
   "execution_count": 42,
   "id": "85b0da3d",
   "metadata": {},
   "outputs": [
    {
     "name": "stdout",
     "output_type": "stream",
     "text": [
      "6\n",
      "입력받은 숫자는 6이다\n"
     ]
    }
   ],
   "source": [
    "n = int(input())\n",
    "\n",
    "if n % 2 == 0 :\n",
    "    print(\"입력받은 숫자는 %d이다\" %n)\n",
    "else:\n",
    "    print(\"no\")"
   ]
  },
  {
   "cell_type": "markdown",
   "id": "26c300de",
   "metadata": {},
   "source": [
    "### 문제 : 성적처리 프로그램 1단계"
   ]
  },
  {
   "cell_type": "code",
   "execution_count": 43,
   "id": "1a93bad9",
   "metadata": {},
   "outputs": [
    {
     "name": "stdout",
     "output_type": "stream",
     "text": [
      "국어 = 60\n",
      "영어 = 65\n",
      "수학 = 66\n",
      "총점 : 191.000000점, 평균 : 63.67점\n",
      "총점 : 191점, 평균 : 63.67점\n",
      "총점 : 191점, 평균 : 63.67점\n"
     ]
    }
   ],
   "source": [
    "a = int(input('국어 = '))\n",
    "b = int(input('영어 = '))\n",
    "c = int(input('수학 = '))\n",
    "\n",
    "hap = a + b + c\n",
    "avg = hap / 3\n",
    "\n",
    "print('총점 : %f점, 평균 : %.2f점' %(hap , avg))\n",
    "print('총점 : {}점, 평균 : {:.2f}점'.format(hap, avg))\n",
    "print('총점 : {0}점, 평균 : {1:.2f}점'.format(hap, avg))"
   ]
  },
  {
   "cell_type": "markdown",
   "id": "2558b162",
   "metadata": {},
   "source": [
    "### 문제 : 성적처리 프로그램 2단계"
   ]
  },
  {
   "cell_type": "code",
   "execution_count": 44,
   "id": "0842b600",
   "metadata": {},
   "outputs": [
    {
     "name": "stdout",
     "output_type": "stream",
     "text": [
      "총점 : 191점, 평균 : 63.67점\n",
      "학점 : D\n",
      "총점 : 191점, 평균 : 63.67점 \n",
      "학점 : D학점\n"
     ]
    }
   ],
   "source": [
    "# a = int(input('국어 = '))\n",
    "# b = int(input('영어 = '))\n",
    "# c = int(input('수학 = '))\n",
    "\n",
    "# hap = a + b + c\n",
    "# avg = hap / 3\n",
    "\n",
    "if avg >= 90:\n",
    "    grade ='A'\n",
    "elif avg >= 80:\n",
    "    grade ='B'\n",
    "elif avg >= 70:\n",
    "    grade ='C'\n",
    "elif avg >= 60:\n",
    "    grade ='D'\n",
    "else :\n",
    "    grade ='F'\n",
    "\n",
    "print('총점 : %d점, 평균 : %.2f점\\n학점 : %s' %(hap, avg, grade))\n",
    "print('총점 : {}점, 평균 : {:.2f}점 \\n학점 : {}학점'.format(hap, avg, grade))"
   ]
  },
  {
   "cell_type": "markdown",
   "id": "541b5698",
   "metadata": {},
   "source": [
    "## 반복문\n",
    "- 반복하는 문장\n",
    "- for문, while문"
   ]
  },
  {
   "cell_type": "code",
   "execution_count": 45,
   "id": "515b89f7",
   "metadata": {},
   "outputs": [],
   "source": [
    "# for 개별변수 in 집합변수 :"
   ]
  },
  {
   "cell_type": "code",
   "execution_count": 46,
   "id": "741fb96b",
   "metadata": {},
   "outputs": [
    {
     "data": {
      "text/plain": [
       "[1, 2, 3, 4, 5]"
      ]
     },
     "execution_count": 46,
     "metadata": {},
     "output_type": "execute_result"
    }
   ],
   "source": [
    "a = [1,2,3,4,5]\n",
    "a"
   ]
  },
  {
   "cell_type": "code",
   "execution_count": 47,
   "id": "6adbb541",
   "metadata": {},
   "outputs": [
    {
     "name": "stdout",
     "output_type": "stream",
     "text": [
      "1\n",
      "2\n",
      "3\n",
      "4\n",
      "5\n",
      "\n",
      "\n",
      "1\n",
      "2\n",
      "3\n",
      "4\n",
      "5\n"
     ]
    }
   ],
   "source": [
    "for i in range(1,6):\n",
    "    print(i)\n",
    "    \n",
    "print('\\n')\n",
    "\n",
    "for i in a:\n",
    "    print(i)"
   ]
  },
  {
   "cell_type": "code",
   "execution_count": 48,
   "id": "67742604",
   "metadata": {},
   "outputs": [
    {
     "name": "stdout",
     "output_type": "stream",
     "text": [
      "hello\n",
      "hello\n",
      "hello\n",
      "hello\n",
      "hello\n"
     ]
    }
   ],
   "source": [
    "for i in a:\n",
    "    print('hello')"
   ]
  },
  {
   "cell_type": "code",
   "execution_count": 49,
   "id": "2461955b",
   "metadata": {},
   "outputs": [
    {
     "name": "stdout",
     "output_type": "stream",
     "text": [
      "hello\n",
      "hello\n",
      "hello\n",
      "hello\n",
      "hello\n"
     ]
    }
   ],
   "source": [
    "for _ in a:\n",
    "    print('hello')"
   ]
  },
  {
   "cell_type": "code",
   "execution_count": 50,
   "id": "b9ca4760",
   "metadata": {},
   "outputs": [
    {
     "name": "stdout",
     "output_type": "stream",
     "text": [
      "1\n",
      "2\n",
      "3\n",
      "4\n",
      "\n",
      "\n",
      "1\n",
      "3\n",
      "\n",
      "\n",
      "0\n",
      "1\n",
      "2\n",
      "3\n",
      "4\n"
     ]
    }
   ],
   "source": [
    "# range(start, end, step) step : 증감식\n",
    "for i in range(1, 5):\n",
    "    print(i)\n",
    "print('\\n')\n",
    "for i in range(1, 5, 2):\n",
    "    print(i)\n",
    "print('\\n')\n",
    "for i in range(5): # 시작값을 안적으면 0부터 시작\n",
    "    print(i)"
   ]
  },
  {
   "cell_type": "code",
   "execution_count": 51,
   "id": "97e0d621",
   "metadata": {
    "scrolled": true
   },
   "outputs": [
    {
     "name": "stdout",
     "output_type": "stream",
     "text": [
      "k\n",
      "o\n",
      "r\n",
      "e\n",
      "a\n"
     ]
    }
   ],
   "source": [
    "for i in 'korea':\n",
    "    print(i)"
   ]
  },
  {
   "cell_type": "code",
   "execution_count": 52,
   "id": "3a12bf91",
   "metadata": {},
   "outputs": [
    {
     "name": "stdout",
     "output_type": "stream",
     "text": [
      "red\n",
      "white\n",
      "black\n"
     ]
    }
   ],
   "source": [
    "for i in ['red', 'white','black']:\n",
    "    print(i)"
   ]
  },
  {
   "cell_type": "code",
   "execution_count": 53,
   "id": "52e51087",
   "metadata": {},
   "outputs": [
    {
     "name": "stdout",
     "output_type": "stream",
     "text": [
      "1\n",
      "3\n",
      "5\n",
      "7\n",
      "9\n",
      "\n",
      "\n",
      "1\n",
      "3\n",
      "5\n",
      "7\n",
      "9\n"
     ]
    }
   ],
   "source": [
    "# 홀수 \n",
    "for i in range(1,11,2):\n",
    "    print(i)\n",
    "\n",
    "print('\\n')\n",
    "\n",
    "for i in range(1,11):\n",
    "    if i % 2 !=0:\n",
    "        print(i)"
   ]
  },
  {
   "cell_type": "code",
   "execution_count": 54,
   "id": "eae65217",
   "metadata": {
    "scrolled": true
   },
   "outputs": [
    {
     "name": "stdout",
     "output_type": "stream",
     "text": [
      "hello 1\n",
      "hello 2\n",
      "hello 3\n",
      "hello 4\n",
      "hello 5\n"
     ]
    }
   ],
   "source": [
    "for i in range(5):\n",
    "    print(\"hello\" , i+1)"
   ]
  },
  {
   "cell_type": "code",
   "execution_count": 55,
   "id": "1f0384fc",
   "metadata": {},
   "outputs": [
    {
     "name": "stdout",
     "output_type": "stream",
     "text": [
      "4\n",
      "3\n",
      "2\n",
      "1\n",
      "0\n",
      "-1\n",
      "-2\n"
     ]
    }
   ],
   "source": [
    "for i in range(4, -3, -1):\n",
    "    print(i)"
   ]
  },
  {
   "cell_type": "markdown",
   "id": "ba50a04d",
   "metadata": {},
   "source": [
    "#### 구구단 출력하는 프로그램"
   ]
  },
  {
   "cell_type": "code",
   "execution_count": 56,
   "id": "8018250a",
   "metadata": {},
   "outputs": [
    {
     "name": "stdout",
     "output_type": "stream",
     "text": [
      "몇단? 5\n",
      "5 x 1 = 5\n",
      "5 x 2 = 10\n",
      "5 x 3 = 15\n",
      "5 x 4 = 20\n",
      "5 x 5 = 25\n",
      "5 x 6 = 30\n",
      "5 x 7 = 35\n",
      "5 x 8 = 40\n",
      "5 x 9 = 45\n"
     ]
    }
   ],
   "source": [
    "a = int(input('몇단? '))\n",
    "for i in range(1, 10):\n",
    "    result = a * i\n",
    "    print('%s x %d = %d' %(a, i, result))"
   ]
  },
  {
   "cell_type": "markdown",
   "id": "19c28c51",
   "metadata": {},
   "source": [
    "### 구구단 출력하시오"
   ]
  },
  {
   "cell_type": "code",
   "execution_count": 57,
   "id": "e51224c4",
   "metadata": {},
   "outputs": [
    {
     "name": "stdout",
     "output_type": "stream",
     "text": [
      "-------------2단----------\n",
      "2 x 1 = 2\n",
      "2 x 2 = 4\n",
      "2 x 3 = 6\n",
      "2 x 4 = 8\n",
      "2 x 5 = 10\n",
      "2 x 6 = 12\n",
      "2 x 7 = 14\n",
      "2 x 8 = 16\n",
      "2 x 9 = 18\n",
      "\n",
      "-------------3단----------\n",
      "3 x 1 = 3\n",
      "3 x 2 = 6\n",
      "3 x 3 = 9\n",
      "3 x 4 = 12\n",
      "3 x 5 = 15\n",
      "3 x 6 = 18\n",
      "3 x 7 = 21\n",
      "3 x 8 = 24\n",
      "3 x 9 = 27\n",
      "\n",
      "-------------4단----------\n",
      "4 x 1 = 4\n",
      "4 x 2 = 8\n",
      "4 x 3 = 12\n",
      "4 x 4 = 16\n",
      "4 x 5 = 20\n",
      "4 x 6 = 24\n",
      "4 x 7 = 28\n",
      "4 x 8 = 32\n",
      "4 x 9 = 36\n",
      "\n",
      "-------------5단----------\n",
      "5 x 1 = 5\n",
      "5 x 2 = 10\n",
      "5 x 3 = 15\n",
      "5 x 4 = 20\n",
      "5 x 5 = 25\n",
      "5 x 6 = 30\n",
      "5 x 7 = 35\n",
      "5 x 8 = 40\n",
      "5 x 9 = 45\n",
      "\n",
      "-------------6단----------\n",
      "6 x 1 = 6\n",
      "6 x 2 = 12\n",
      "6 x 3 = 18\n",
      "6 x 4 = 24\n",
      "6 x 5 = 30\n",
      "6 x 6 = 36\n",
      "6 x 7 = 42\n",
      "6 x 8 = 48\n",
      "6 x 9 = 54\n",
      "\n",
      "-------------7단----------\n",
      "7 x 1 = 7\n",
      "7 x 2 = 14\n",
      "7 x 3 = 21\n",
      "7 x 4 = 28\n",
      "7 x 5 = 35\n",
      "7 x 6 = 42\n",
      "7 x 7 = 49\n",
      "7 x 8 = 56\n",
      "7 x 9 = 63\n",
      "\n",
      "-------------8단----------\n",
      "8 x 1 = 8\n",
      "8 x 2 = 16\n",
      "8 x 3 = 24\n",
      "8 x 4 = 32\n",
      "8 x 5 = 40\n",
      "8 x 6 = 48\n",
      "8 x 7 = 56\n",
      "8 x 8 = 64\n",
      "8 x 9 = 72\n",
      "\n",
      "-------------9단----------\n",
      "9 x 1 = 9\n",
      "9 x 2 = 18\n",
      "9 x 3 = 27\n",
      "9 x 4 = 36\n",
      "9 x 5 = 45\n",
      "9 x 6 = 54\n",
      "9 x 7 = 63\n",
      "9 x 8 = 72\n",
      "9 x 9 = 81\n",
      "\n"
     ]
    }
   ],
   "source": [
    "for i in range(2, 10):\n",
    "    print('-------------{}단----------' .format(i))\n",
    "    for j in range(1, 10):\n",
    "        print('%d x %d = %s' %(i, j, i * j))\n",
    "    print()"
   ]
  },
  {
   "cell_type": "code",
   "execution_count": 58,
   "id": "7449402b",
   "metadata": {},
   "outputs": [
    {
     "name": "stdout",
     "output_type": "stream",
     "text": [
      "--------1--------\n",
      "1\n",
      "hi\n",
      "2\n",
      "hi\n",
      "3\n",
      "hi\n",
      "--------2--------\n",
      "1\n",
      "hi\n",
      "2\n",
      "hi\n",
      "3\n",
      "hi\n"
     ]
    }
   ],
   "source": [
    "# 다중 for\n",
    "for i in[1, 2]:\n",
    "    print('--------%d--------'%i)\n",
    "    for j in [1,2,3]:\n",
    "        print(j)\n",
    "        print('hi')"
   ]
  },
  {
   "cell_type": "markdown",
   "id": "10278ab7",
   "metadata": {},
   "source": [
    "### 1부터 100까지 자연수를 출력하는 프로그램을 구현하시오."
   ]
  },
  {
   "cell_type": "code",
   "execution_count": 59,
   "id": "318381af",
   "metadata": {},
   "outputs": [
    {
     "name": "stdout",
     "output_type": "stream",
     "text": [
      "   1   2   3   4   5   6   7   8   9  10\n",
      "  11  12  13  14  15  16  17  18  19  20\n",
      "  21  22  23  24  25  26  27  28  29  30\n",
      "  31  32  33  34  35  36  37  38  39  40\n",
      "  41  42  43  44  45  46  47  48  49  50\n",
      "  51  52  53  54  55  56  57  58  59  60\n",
      "  61  62  63  64  65  66  67  68  69  70\n",
      "  71  72  73  74  75  76  77  78  79  80\n",
      "  81  82  83  84  85  86  87  88  89  90\n",
      "  91  92  93  94  95  96  97  98  99 100\n"
     ]
    }
   ],
   "source": [
    "for i in range(1,101):\n",
    "    #1000의 자릿수로 정렬하면 공백 제거해도 자동 띄어쓰기\n",
    "    print('%4d'%i, end='')\n",
    "    if i % 10 == 0:\n",
    "        print()"
   ]
  },
  {
   "cell_type": "code",
   "execution_count": 60,
   "id": "750ae833",
   "metadata": {},
   "outputs": [
    {
     "name": "stdout",
     "output_type": "stream",
     "text": [
      "    1    2    3    4    5    6    7    8    9   10"
     ]
    }
   ],
   "source": [
    "i = 1\n",
    "while i < 11:\n",
    "    print('%5d' %i, end='')\n",
    "    i += 1"
   ]
  },
  {
   "cell_type": "markdown",
   "id": "d0b0ad2a",
   "metadata": {},
   "source": [
    "### 숫자를 다섯개 입력받아 그 합을 계산한 후 출력하는 프로그램"
   ]
  },
  {
   "cell_type": "code",
   "execution_count": 61,
   "id": "a358e1b1",
   "metadata": {},
   "outputs": [
    {
     "name": "stdout",
     "output_type": "stream",
     "text": [
      "5 6 7 8 9\n",
      "35\n"
     ]
    }
   ],
   "source": [
    "a, b, c, d, e = map(int, input().split())\n",
    "hap = a+b+c+d+e\n",
    "print(hap)"
   ]
  },
  {
   "cell_type": "code",
   "execution_count": 62,
   "id": "abd63e6b",
   "metadata": {},
   "outputs": [
    {
     "name": "stdout",
     "output_type": "stream",
     "text": [
      "1\n",
      "0번째 합은 1\n",
      "2\n",
      "1번째 합은 3\n",
      "3\n",
      "2번째 합은 6\n",
      "4\n",
      "3번째 합은 10\n",
      "5\n",
      "4번째 합은 15\n",
      "15\n"
     ]
    }
   ],
   "source": [
    "hap = 0\n",
    "for i in range(5):\n",
    "    a = int(input())\n",
    "    hap += a\n",
    "    print('%d번째 합은 %d' %(i, hap))\n",
    "print(hap)"
   ]
  },
  {
   "cell_type": "markdown",
   "id": "fdc8a2b7",
   "metadata": {},
   "source": [
    " ### 숫자를 입력받아 누적합을 계산하는 프로그램을 작성하되, 입력받은 숫자가 0이면 입력을 중지하고 누적합의 결과를 출력하는 프로그램"
   ]
  },
  {
   "cell_type": "code",
   "execution_count": 63,
   "id": "4fb42189",
   "metadata": {},
   "outputs": [
    {
     "name": "stdout",
     "output_type": "stream",
     "text": [
      "5\n",
      "5\n",
      "4\n",
      "9\n",
      "0\n"
     ]
    }
   ],
   "source": [
    "hap = 0\n",
    "while True :\n",
    "    a = int(input())\n",
    "    if a == 0:\n",
    "        break\n",
    "    else :\n",
    "        hap += a\n",
    "        print(hap)"
   ]
  },
  {
   "cell_type": "code",
   "execution_count": 64,
   "id": "2f1566b6",
   "metadata": {},
   "outputs": [
    {
     "name": "stdout",
     "output_type": "stream",
     "text": [
      "0\n",
      "1\n",
      "2\n",
      "3\n",
      "4\n",
      "6\n",
      "7\n",
      "8\n",
      "9\n"
     ]
    }
   ],
   "source": [
    "for i in range(10):\n",
    "    if i == 5:\n",
    "        continue # 건너뛰기\n",
    "    print(i)"
   ]
  },
  {
   "cell_type": "code",
   "execution_count": 65,
   "id": "1fd1c486",
   "metadata": {},
   "outputs": [
    {
     "name": "stdout",
     "output_type": "stream",
     "text": [
      "0\n",
      "1\n",
      "2\n",
      "3\n",
      "4\n",
      "5\n",
      "6\n",
      "7\n",
      "8\n",
      "9\n",
      "End of Program\n"
     ]
    }
   ],
   "source": [
    "# 반복문의 else의 의미\n",
    "## 어떤 조건이 완전히 끝났을 때 한 번 실행해 주는 역할\n",
    "for i in range(10):\n",
    "    print(i)\n",
    "else:\n",
    "    print('End of Program')"
   ]
  },
  {
   "cell_type": "code",
   "execution_count": 66,
   "id": "89d6bcca",
   "metadata": {},
   "outputs": [
    {
     "name": "stdout",
     "output_type": "stream",
     "text": [
      "몇단? 2\n",
      "2 x 1 = 2\n",
      "2 x 2 = 4\n",
      "2 x 3 = 6\n",
      "2 x 4 = 8\n",
      "2 x 5 = 10\n",
      "2 x 6 = 12\n",
      "2 x 7 = 14\n",
      "2 x 8 = 16\n",
      "2 x 9 = 18\n"
     ]
    }
   ],
   "source": [
    "# 단 입력 후 짝수단일 경우 출력\n",
    "\n",
    "dan = int(input('몇단? '))\n",
    "i = 0\n",
    "while dan % 2 ==0:\n",
    "    i += 1\n",
    "    if i > 9:\n",
    "        break\n",
    "    else:\n",
    "        print('%d x %d = %d' %(dan,i, dan * i))"
   ]
  },
  {
   "cell_type": "code",
   "execution_count": 67,
   "id": "af456767",
   "metadata": {},
   "outputs": [
    {
     "name": "stdout",
     "output_type": "stream",
     "text": [
      "5\n",
      "5\n",
      "4\n",
      "3\n",
      "2\n",
      "1\n"
     ]
    }
   ],
   "source": [
    "# 카운트다운\n",
    "while True:\n",
    "    a = int(input())\n",
    "    for i in range(a,0,-1):\n",
    "        print(i)\n",
    "    if i == 1:\n",
    "        break"
   ]
  }
 ],
 "metadata": {
  "kernelspec": {
   "display_name": "Python 3 (ipykernel)",
   "language": "python",
   "name": "python3"
  },
  "language_info": {
   "codemirror_mode": {
    "name": "ipython",
    "version": 3
   },
   "file_extension": ".py",
   "mimetype": "text/x-python",
   "name": "python",
   "nbconvert_exporter": "python",
   "pygments_lexer": "ipython3",
   "version": "3.9.12"
  },
  "toc": {
   "base_numbering": 1,
   "nav_menu": {},
   "number_sections": true,
   "sideBar": true,
   "skip_h1_title": false,
   "title_cell": "Table of Contents",
   "title_sidebar": "Contents",
   "toc_cell": false,
   "toc_position": {},
   "toc_section_display": true,
   "toc_window_display": false
  }
 },
 "nbformat": 4,
 "nbformat_minor": 5
}
