{
 "cells": [
  {
   "cell_type": "markdown",
   "id": "d06dcb33",
   "metadata": {},
   "source": [
    "# 기본문법"
   ]
  },
  {
   "cell_type": "markdown",
   "id": "a64463dd",
   "metadata": {},
   "source": [
    "## 파이썬 표준 라이브러리 문서\n",
    "- **공식문서** http://docs.python.org/3/library/index.html"
   ]
  },
  {
   "cell_type": "markdown",
   "id": "1bda80c0",
   "metadata": {},
   "source": [
    "## 실행 - 파이썬 실행하는 방법\n",
    "1. 도구표시줄에서 RUN 아이콘 이용해서 실행 : Shift + Enter \n",
    "2. Shift + Enter : 해당 셀을 실행한 후 새로운 셀을 생성\n",
    "3. Ctrl + Enter : 해당 셀을 실행"
   ]
  },
  {
   "cell_type": "markdown",
   "id": "0a5883ad",
   "metadata": {},
   "source": [
    "## 예약어(Keyword)\n",
    "- 이미 용도가 정해져 있는 명령어들\n",
    "- 식별자(명명법 or 사용자 정의 규칙 - 변수명, 정수명, 파일명...)로 사용 불가"
   ]
  },
  {
   "cell_type": "code",
   "execution_count": 1,
   "id": "e43ed6f4",
   "metadata": {},
   "outputs": [
    {
     "name": "stdout",
     "output_type": "stream",
     "text": [
      "['False', 'None', 'True', '__peg_parser__', 'and', 'as', 'assert', 'async', 'await', 'break', 'class', 'continue', 'def', 'del', 'elif', 'else', 'except', 'finally', 'for', 'from', 'global', 'if', 'import', 'in', 'is', 'lambda', 'nonlocal', 'not', 'or', 'pass', 'raise', 'return', 'try', 'while', 'with', 'yield']\n"
     ]
    }
   ],
   "source": [
    "# 파이썬 예약어를 확인\n",
    "import keyword\n",
    "\n",
    "# 파이썬 예약어 목록 출력\n",
    "print(keyword.kwlist)"
   ]
  },
  {
   "cell_type": "code",
   "execution_count": 2,
   "id": "e21da4f1",
   "metadata": {},
   "outputs": [
    {
     "name": "stdout",
     "output_type": "stream",
     "text": [
      "36\n"
     ]
    }
   ],
   "source": [
    "# len = length, 자료의 개수, 문자의 길이\n",
    "print(len(keyword.kwlist))"
   ]
  },
  {
   "cell_type": "code",
   "execution_count": 3,
   "id": "d710cdcc",
   "metadata": {},
   "outputs": [
    {
     "data": {
      "text/plain": [
       "'3.9.12 (main, Apr  4 2022, 05:22:27) [MSC v.1916 64 bit (AMD64)]'"
      ]
     },
     "execution_count": 3,
     "metadata": {},
     "output_type": "execute_result"
    }
   ],
   "source": [
    "# 파이썬 버전 확인\n",
    "import sys\n",
    "\n",
    "sys.version"
   ]
  },
  {
   "cell_type": "markdown",
   "id": "b5f29cde",
   "metadata": {},
   "source": [
    "## 사칙연산\n",
    "- 파이썬을 계산기처럼 사용이 가능하다.\n",
    "- 사칙연산(산술연산) : +, -, *, /, //, %/%"
   ]
  },
  {
   "cell_type": "code",
   "execution_count": 4,
   "id": "4168079d",
   "metadata": {},
   "outputs": [
    {
     "data": {
      "text/plain": [
       "55"
      ]
     },
     "execution_count": 4,
     "metadata": {},
     "output_type": "execute_result"
    }
   ],
   "source": [
    "25 + 30"
   ]
  },
  {
   "cell_type": "code",
   "execution_count": 5,
   "id": "13bae178",
   "metadata": {},
   "outputs": [
    {
     "data": {
      "text/plain": [
       "18"
      ]
     },
     "execution_count": 5,
     "metadata": {},
     "output_type": "execute_result"
    }
   ],
   "source": [
    "30 - 12"
   ]
  },
  {
   "cell_type": "code",
   "execution_count": 6,
   "id": "6a5036d5",
   "metadata": {},
   "outputs": [
    {
     "data": {
      "text/plain": [
       "150"
      ]
     },
     "execution_count": 6,
     "metadata": {},
     "output_type": "execute_result"
    }
   ],
   "source": [
    "50 * 3"
   ]
  },
  {
   "cell_type": "code",
   "execution_count": 7,
   "id": "3b9c1298",
   "metadata": {},
   "outputs": [
    {
     "name": "stdout",
     "output_type": "stream",
     "text": [
      "6.0\n",
      "7.5\n"
     ]
    }
   ],
   "source": [
    "print(30 / 5)  ## 파이썬은 정수라 할 지라도 실수로 결과가 나옴\n",
    "print(30 / 4)"
   ]
  },
  {
   "cell_type": "code",
   "execution_count": 8,
   "id": "29f0257e",
   "metadata": {},
   "outputs": [
    {
     "name": "stdout",
     "output_type": "stream",
     "text": [
      "6\n",
      "7\n"
     ]
    }
   ],
   "source": [
    "print(30 // 5)\n",
    "print(30 // 4)"
   ]
  },
  {
   "cell_type": "code",
   "execution_count": 9,
   "id": "333826eb",
   "metadata": {},
   "outputs": [
    {
     "data": {
      "text/plain": [
       "1"
      ]
     },
     "execution_count": 9,
     "metadata": {},
     "output_type": "execute_result"
    }
   ],
   "source": [
    "7 % 2"
   ]
  },
  {
   "cell_type": "code",
   "execution_count": 10,
   "id": "109fb985",
   "metadata": {},
   "outputs": [
    {
     "data": {
      "text/plain": [
       "243"
      ]
     },
     "execution_count": 10,
     "metadata": {},
     "output_type": "execute_result"
    }
   ],
   "source": [
    "3**5"
   ]
  },
  {
   "cell_type": "markdown",
   "id": "dff4d8b9",
   "metadata": {},
   "source": [
    "## 주석(comment)\n",
    " - 프로그램 실행과는 상관없이 설명을 담기 위해 사용하는 구문\n",
    " - '#' : 한줄 주석\n",
    " - 여러 줄 주석"
   ]
  },
  {
   "cell_type": "code",
   "execution_count": 11,
   "id": "96b5cb3a",
   "metadata": {},
   "outputs": [
    {
     "data": {
      "text/plain": [
       "'\\n여러 줄 주석\\n이것도 주석\\n저것도 주석\\n'"
      ]
     },
     "execution_count": 11,
     "metadata": {},
     "output_type": "execute_result"
    }
   ],
   "source": [
    "# 이것은 한줄짜리 주석입니다.\n",
    "\"\"\"\n",
    "여러 줄 주석\n",
    "여기도 주석\n",
    "저기도 주석\n",
    "\"\"\"\n",
    "'''\n",
    "여러 줄 주석\n",
    "이것도 주석\n",
    "저것도 주석\n",
    "'''"
   ]
  },
  {
   "cell_type": "code",
   "execution_count": 12,
   "id": "9ca1b2f1",
   "metadata": {},
   "outputs": [],
   "source": [
    "# Crtl + a -> ctrl + /\n",
    "# 취소도 마찬가지 \n",
    "\n",
    "# 난 주석이 될거야\n",
    "# 이것도 주석할래"
   ]
  },
  {
   "cell_type": "markdown",
   "id": "89d23b2d",
   "metadata": {},
   "source": [
    "# 변수 (Variable)\n",
    "- 변수 : 변할 수 있는 수, 값(상수, data)을 저장하는 공간 -> 기억공간\n",
    "- 메모리(Memory) : 주기억장소(RAM), 변수를 저장하는 물리적인 공간\n",
    "- 동적 타이핑 (Dynamic Typing) : 자료형이 실행할 때 자동으로 할당\n",
    "- 표현식 : V = C"
   ]
  },
  {
   "cell_type": "markdown",
   "id": "ea01cbb6",
   "metadata": {},
   "source": [
    "## 변수 작성 규칙 : 명명법 or 사용자 정의 규칙\n",
    "- 알파벳(A에서 Z, a에서 z), 숫자(0에서 9), 밑줄(_, 언더스코어)\n",
    "- 첫글자는 반드시 영문자의 대, 소문자 이거나 밑줄(_) # 한글을 쓰면 메모리의 크기가 달라짐(더 커짐)\n",
    "- 예약어는 사용 불가\n",
    "- 글자수에 제한은 없음"
   ]
  },
  {
   "cell_type": "code",
   "execution_count": 13,
   "id": "51f17b6d",
   "metadata": {},
   "outputs": [
    {
     "data": {
      "text/plain": [
       "10"
      ]
     },
     "execution_count": 13,
     "metadata": {},
     "output_type": "execute_result"
    }
   ],
   "source": [
    "# 정수형 변수 : 정수형 상수\n",
    "a = 10\n",
    "#print(a)\n",
    "a"
   ]
  },
  {
   "cell_type": "code",
   "execution_count": 14,
   "id": "58c2dac7",
   "metadata": {},
   "outputs": [
    {
     "data": {
      "text/plain": [
       "'파이썬'"
      ]
     },
     "execution_count": 14,
     "metadata": {},
     "output_type": "execute_result"
    }
   ],
   "source": [
    "# 문자열 변수 : 문자열 상수\n",
    "a = \"파이썬\"\n",
    "a"
   ]
  },
  {
   "cell_type": "code",
   "execution_count": 15,
   "id": "ae90705b",
   "metadata": {},
   "outputs": [
    {
     "data": {
      "text/plain": [
       "42.125"
      ]
     },
     "execution_count": 15,
     "metadata": {},
     "output_type": "execute_result"
    }
   ],
   "source": [
    "# 실수형 변수 : 실수형 상수\n",
    "a = 42.125\n",
    "a"
   ]
  },
  {
   "cell_type": "code",
   "execution_count": 16,
   "id": "451ab302",
   "metadata": {},
   "outputs": [
    {
     "name": "stdout",
     "output_type": "stream",
     "text": [
      "7\n",
      "<class 'int'>\n"
     ]
    }
   ],
   "source": [
    "# type() : 자료형을 확인하는 함수\n",
    "a = 3\n",
    "b = 4\n",
    "print(a + b)\n",
    "print(type(a))  # 변수 a의 자료형 확인"
   ]
  },
  {
   "cell_type": "markdown",
   "id": "2e6c768c",
   "metadata": {},
   "source": [
    "## 연산자(Operation)\n",
    "- 피연산자(항) 사이에 계산을 수행하기 위해 사용하는 기호들\n",
    "- 단항연산자 : 하나의 피연산자를 가지고 있는 연산\n",
    "- 이항연산자 : 하나 이상의 피연산자를 가지고 있는 연산\n",
    "  1. 최우선 연산자 : 우선순위가 가장 높은 연산자('.', '[ ]', '( )')\n",
    "  2. 산술 연산자\n",
    "  3. 관계 연산자(비교 연산자) : ==, !=, >, >=, <, <=\n",
    "  4. 논리 연산자 : and(&&), or(||), not(!, 단항 연산자) not True or not False\n",
    "  5. 비트(bit = binart digit) 연산자 : and(&), or(|), not(~)\n",
    "  6. 대입할당연산자 : 대입연산자(=)와 산술연산자를 중첩해서 사용하는 연산자, 축약\n",
    "  7. 대입연산자"
   ]
  },
  {
   "cell_type": "code",
   "execution_count": 17,
   "id": "150b476a",
   "metadata": {},
   "outputs": [],
   "source": [
    "# C언어나 Java에서 사용되는 증감연산자(++, --)를 파이썬은 지원하지 않는다."
   ]
  },
  {
   "cell_type": "markdown",
   "id": "a78f928a",
   "metadata": {},
   "source": [
    "## 기본 자료형\n",
    "- 숫자형(수치형) : 정수형과 실수형\n",
    "- 문자형 : '' or \"\"\n",
    "- 논리형 : True or False"
   ]
  },
  {
   "cell_type": "code",
   "execution_count": 18,
   "id": "33ac6591",
   "metadata": {},
   "outputs": [
    {
     "name": "stdout",
     "output_type": "stream",
     "text": [
      "1 2\n",
      "1.5 2.3\n",
      "Python Hello World\n",
      "True False\n"
     ]
    }
   ],
   "source": [
    "# 정수형(integer Type, int / long)\n",
    "a = 1\n",
    "b = 2\n",
    "print(a, b)\n",
    "\n",
    "# 실수형(floating-point type, float / double)\n",
    "a = 1.5\n",
    "b = 2.3\n",
    "print(a, b)\n",
    "\n",
    "# 문자형(string type, char / string)\n",
    "a = 'Python'\n",
    "b = \"Hello World\"\n",
    "print(a, b)\n",
    "\n",
    "# 불린형(boolean type)\n",
    "a = True\n",
    "b = False\n",
    "print(a, b)"
   ]
  },
  {
   "cell_type": "markdown",
   "id": "955c3030",
   "metadata": {},
   "source": [
    "## 형 변환(casting)\n",
    "- 자료형을 다른 자료형으로 변경시켜주는 기능\n",
    "- 자동형 변환 (묵시적 형변환, promotion) : 작은 데이터를 큰 공간에 담을 때, 자료의 손실이 없다\n",
    "- 강제형 변환 (명시적 형변환, casting) : 큰 데이터를 작은 공간에 담을 때, 자료의 손실이 있다."
   ]
  },
  {
   "cell_type": "code",
   "execution_count": 19,
   "id": "537f1401",
   "metadata": {},
   "outputs": [
    {
     "name": "stdout",
     "output_type": "stream",
     "text": [
      "10\n",
      "10.0\n",
      "17\n",
      "10 7\n"
     ]
    }
   ],
   "source": [
    "# 정수형과 실수형 간 변환 : float(), int() 함수 사용\n",
    "a = 10\n",
    "print(a)\n",
    "\n",
    "a = float(10)\n",
    "print(a)\n",
    "\n",
    "# 정수형 < 실수형\n",
    "a = int(10.7)\n",
    "b = int(7.3)\n",
    "print(a + b)\n",
    "print(a, b)"
   ]
  },
  {
   "cell_type": "code",
   "execution_count": 20,
   "id": "70f59a9a",
   "metadata": {},
   "outputs": [
    {
     "name": "stdout",
     "output_type": "stream",
     "text": [
      "76.3\n",
      "76.3\n",
      "152.6\n"
     ]
    }
   ],
   "source": [
    "# 숫자형과 문자형간의 변환은 주의가 필요\n",
    "a = '76.3'\n",
    "b = float(a)\n",
    "print(a)\n",
    "print(b)\n",
    "print(float(a) + b)"
   ]
  },
  {
   "cell_type": "code",
   "execution_count": 21,
   "id": "d4e50e34",
   "metadata": {},
   "outputs": [
    {
     "name": "stdout",
     "output_type": "stream",
     "text": [
      "<class 'int'> <class 'float'> <class 'str'>\n"
     ]
    }
   ],
   "source": [
    "# 자료형 확인 : type()\n",
    "a = int(6.3)\n",
    "b = float(10)\n",
    "c = str(10.4)\n",
    "print(type(a), type(b), type(c))"
   ]
  },
  {
   "cell_type": "markdown",
   "id": "8d55d8a2",
   "metadata": {},
   "source": [
    "# 표준 입출력(console input/output)\n",
    "- console : 키보드와 모니터 환경\n",
    "1. 표준 입력 함수 : input('문자열')\n",
    "2. 표준 출력 함수 : print('문자열' or '수식 or 서식)"
   ]
  },
  {
   "cell_type": "code",
   "execution_count": 22,
   "id": "a70d0418",
   "metadata": {},
   "outputs": [
    {
     "name": "stdout",
     "output_type": "stream",
     "text": [
      "숫자를 입력하세요 : 2\n",
      "연산결과 : 4\n"
     ]
    }
   ],
   "source": [
    "# 표준 입력 함수 : input()\n",
    "a = input('숫자를 입력하세요 : ')\n",
    "print('연산결과 :' , int(a) + int(a)) # input은 문자열"
   ]
  },
  {
   "cell_type": "code",
   "execution_count": 23,
   "id": "f84a26e4",
   "metadata": {},
   "outputs": [
    {
     "name": "stdout",
     "output_type": "stream",
     "text": [
      "<class 'str'>\n"
     ]
    }
   ],
   "source": [
    "print(type(a))"
   ]
  },
  {
   "cell_type": "code",
   "execution_count": 24,
   "id": "48e48946",
   "metadata": {},
   "outputs": [
    {
     "name": "stdout",
     "output_type": "stream",
     "text": [
      "Hello Python!!\n"
     ]
    }
   ],
   "source": [
    "print('Hello Python!!')"
   ]
  },
  {
   "cell_type": "code",
   "execution_count": 25,
   "id": "3ef01e22",
   "metadata": {},
   "outputs": [
    {
     "name": "stdout",
     "output_type": "stream",
     "text": [
      "a b\n"
     ]
    }
   ],
   "source": [
    "# 여러개의 문자열을 나열할 때(열거형 연산자: ,)\n",
    "print('a', 'b') # 쉼표는 공백 1칸"
   ]
  },
  {
   "cell_type": "code",
   "execution_count": 26,
   "id": "42e52dd5",
   "metadata": {},
   "outputs": [
    {
     "name": "stdout",
     "output_type": "stream",
     "text": [
      "a b\n"
     ]
    }
   ],
   "source": [
    "# 연결 연산자 : 문자열과 문자열을 연결할 때 사용하는 연산자\n",
    "print('a ' + 'b') # 공백 처리 후 연결"
   ]
  },
  {
   "cell_type": "code",
   "execution_count": 27,
   "id": "1e7c57ae",
   "metadata": {},
   "outputs": [
    {
     "name": "stdout",
     "output_type": "stream",
     "text": [
      "a, b\n"
     ]
    }
   ],
   "source": [
    "# 구분자 : 문자열과 문자열 사이에 특정 문자열 추가\n",
    "print('a', 'b', sep=', ')"
   ]
  },
  {
   "cell_type": "code",
   "execution_count": 28,
   "id": "075afe7e",
   "metadata": {},
   "outputs": [
    {
     "name": "stdout",
     "output_type": "stream",
     "text": [
      "10\n",
      "x =  10\n"
     ]
    }
   ],
   "source": [
    "# 변수를 이용한 출력\n",
    "x = 10\n",
    "print(x)\n",
    "print(\"x = \", x)"
   ]
  },
  {
   "cell_type": "code",
   "execution_count": 29,
   "id": "a8cac773",
   "metadata": {},
   "outputs": [
    {
     "name": "stdout",
     "output_type": "stream",
     "text": [
      "name= 홍길동 ,age= 27\n"
     ]
    }
   ],
   "source": [
    "name = '홍길동'\n",
    "age = 27\n",
    "print('name=',name,',age=', age)"
   ]
  },
  {
   "cell_type": "code",
   "execution_count": 30,
   "id": "5893be29",
   "metadata": {},
   "outputs": [
    {
     "name": "stdout",
     "output_type": "stream",
     "text": [
      "James is my friend. \n",
      "He is Korean\n"
     ]
    }
   ],
   "source": [
    "# 개행문자('\\n'), 한글(원화표시),  영문(\\)\n",
    "print('James is my friend. \\nHe is Korean')"
   ]
  },
  {
   "cell_type": "code",
   "execution_count": 31,
   "id": "55fccbf7",
   "metadata": {},
   "outputs": [
    {
     "name": "stdout",
     "output_type": "stream",
     "text": [
      "Welcome to Python World\n"
     ]
    }
   ],
   "source": [
    "print('Welcome to', end =' ')\n",
    "print('Python World')"
   ]
  },
  {
   "cell_type": "markdown",
   "id": "cd487b38",
   "metadata": {},
   "source": [
    "## 형식 지정 출력\n",
    "- 기본형식 print(\"%type\" % data)\n",
    "- 서식(format) : 데이터의 타입이나 자릿수를 지정할 때 사용하는 기호\n",
    "- %s 문자열, %d 정수형, %f 실수형"
   ]
  },
  {
   "cell_type": "code",
   "execution_count": 32,
   "id": "9fba9dd3",
   "metadata": {},
   "outputs": [
    {
     "name": "stdout",
     "output_type": "stream",
     "text": [
      "홍길동\n",
      "name =  홍길동\n",
      "당신의 이름은 홍길동 입니다.\n",
      "홍길동은 나의 친구 입니다.\n"
     ]
    }
   ],
   "source": [
    "name = \"홍길동\"\n",
    "print(name)\n",
    "print(\"name = \", name)\n",
    "print(\"당신의 이름은\", name,\"입니다.\")\n",
    "print(\"%s은 나의 친구 입니다.\" %name)"
   ]
  }
 ],
 "metadata": {
  "kernelspec": {
   "display_name": "Python 3 (ipykernel)",
   "language": "python",
   "name": "python3"
  },
  "language_info": {
   "codemirror_mode": {
    "name": "ipython",
    "version": 3
   },
   "file_extension": ".py",
   "mimetype": "text/x-python",
   "name": "python",
   "nbconvert_exporter": "python",
   "pygments_lexer": "ipython3",
   "version": "3.9.12"
  },
  "toc": {
   "base_numbering": 1,
   "nav_menu": {},
   "number_sections": true,
   "sideBar": true,
   "skip_h1_title": false,
   "title_cell": "Table of Contents",
   "title_sidebar": "Contents",
   "toc_cell": false,
   "toc_position": {},
   "toc_section_display": true,
   "toc_window_display": true
  }
 },
 "nbformat": 4,
 "nbformat_minor": 5
}
