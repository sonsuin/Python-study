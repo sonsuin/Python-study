{
 "cells": [
  {
   "cell_type": "code",
   "execution_count": 1,
   "id": "2afea1da",
   "metadata": {},
   "outputs": [
    {
     "name": "stdout",
     "output_type": "stream",
     "text": [
      "[1, 2, 3, 4, 5]\n",
      "1\n",
      "5\n",
      "--------------------\n",
      "1\n",
      "2\n",
      "3\n",
      "4\n",
      "5\n",
      "\n",
      "1\n",
      "2\n",
      "3\n",
      "4\n",
      "5\n"
     ]
    }
   ],
   "source": [
    "# 리스트 생성\n",
    "a = [1,2,3,4,5]\n",
    "print(a)\n",
    "print(a[0])\n",
    "\n",
    "# 마지막 요소\n",
    "print(a[-1])\n",
    "\n",
    "print('-'*20)\n",
    "\n",
    "for i in range(len(a)):\n",
    "    print(a[i])\n",
    "print()\n",
    "\n",
    "for i in range(0, len(a)):\n",
    "    print(a[i])"
   ]
  },
  {
   "cell_type": "code",
   "execution_count": 2,
   "id": "256b96e7",
   "metadata": {},
   "outputs": [
    {
     "name": "stdout",
     "output_type": "stream",
     "text": [
      "[1, 2, 3, ['a', 'b', 'c']]\n",
      "[1, 2, 3]\n",
      "a\n"
     ]
    }
   ],
   "source": [
    "# 중첩 리스트\n",
    "a = [1,2,3,['a','b','c']]\n",
    "print(a[:])\n",
    "print(a[:3])\n",
    "print(a[3][0])"
   ]
  },
  {
   "cell_type": "code",
   "execution_count": 3,
   "id": "a1717277",
   "metadata": {},
   "outputs": [
    {
     "data": {
      "text/plain": [
       "[10, 2, 3, 4, 5]"
      ]
     },
     "execution_count": 3,
     "metadata": {},
     "output_type": "execute_result"
    }
   ],
   "source": [
    "# 리스트를 저장할 때 값 자체가 아니라 값이 위치한 메모리의 주소를 저장\n",
    "x = [1,2,3,4,5]\n",
    "y = x\n",
    "y[0] = 10\n",
    "x"
   ]
  },
  {
   "cell_type": "code",
   "execution_count": 4,
   "id": "30207bd1",
   "metadata": {},
   "outputs": [
    {
     "name": "stdout",
     "output_type": "stream",
     "text": [
      "[10, 2, 3, 4, 5]\n",
      "[1, 2, 3, 4, 5]\n"
     ]
    }
   ],
   "source": [
    "# 개체 요소별로 대입 시 x배열은 변경되지 않음\n",
    "x = [1,2,3,4,5]\n",
    "y = x[:]\n",
    "y[0] = 10\n",
    "print(y)\n",
    "print(x)"
   ]
  },
  {
   "cell_type": "code",
   "execution_count": 5,
   "id": "23094de0",
   "metadata": {},
   "outputs": [
    {
     "name": "stdout",
     "output_type": "stream",
     "text": [
      "[1, 2, 3, 3, 4, 5]\n",
      "[1, 2, 3, 3, 4, 5]\n",
      "2\n",
      "3\n",
      "3\n",
      "3\n",
      "4\n",
      "5\n"
     ]
    }
   ],
   "source": [
    "# 리스트 연산 : 더하기(+) 연산 \n",
    "a = [1,2,3]\n",
    "b = [3,4,5]\n",
    "print(a+b)\n",
    "\n",
    "#a.extend(b) => a=a+b\n",
    "a.extend(b)\n",
    "print(a)\n",
    "\n",
    "for i in a:\n",
    "    print(a[i])"
   ]
  },
  {
   "cell_type": "code",
   "execution_count": 6,
   "id": "936267c8",
   "metadata": {},
   "outputs": [
    {
     "data": {
      "text/plain": [
       "[1]"
      ]
     },
     "execution_count": 6,
     "metadata": {},
     "output_type": "execute_result"
    }
   ],
   "source": [
    "a = [1,2,3]\n",
    "a[1:3] = [] # 인덱스 삭제\n",
    "a"
   ]
  },
  {
   "cell_type": "code",
   "execution_count": 7,
   "id": "198cfcdd",
   "metadata": {},
   "outputs": [
    {
     "data": {
      "text/plain": [
       "[1]"
      ]
     },
     "execution_count": 7,
     "metadata": {},
     "output_type": "execute_result"
    }
   ],
   "source": [
    "a = [1,2,3]\n",
    "del a[1:3]\n",
    "a"
   ]
  },
  {
   "cell_type": "code",
   "execution_count": 8,
   "id": "63dd2613",
   "metadata": {},
   "outputs": [
    {
     "data": {
      "text/plain": [
       "[6, 5, 3, 3, 2]"
      ]
     },
     "execution_count": 8,
     "metadata": {},
     "output_type": "execute_result"
    }
   ],
   "source": [
    "a = [2,5,3,6,3]\n",
    "a.sort(reverse = True)\n",
    "a"
   ]
  },
  {
   "cell_type": "code",
   "execution_count": 9,
   "id": "5ff9042b",
   "metadata": {},
   "outputs": [
    {
     "data": {
      "text/plain": [
       "[8, 6, 4, 4, 3, 2]"
      ]
     },
     "execution_count": 9,
     "metadata": {},
     "output_type": "execute_result"
    }
   ],
   "source": [
    "a = [3,6,4,8,4,2]\n",
    "a.sort()\n",
    "a.reverse()\n",
    "a"
   ]
  },
  {
   "cell_type": "code",
   "execution_count": 10,
   "id": "5649ee6a",
   "metadata": {},
   "outputs": [
    {
     "name": "stdout",
     "output_type": "stream",
     "text": [
      "2\n"
     ]
    }
   ],
   "source": [
    "# 요소 위치 찾기\n",
    "\n",
    "a = [1,2,3,4,5]\n",
    "print(a.index(3))"
   ]
  },
  {
   "cell_type": "code",
   "execution_count": 11,
   "id": "4fae7cee",
   "metadata": {},
   "outputs": [
    {
     "data": {
      "text/plain": [
       "[1, 2, 3, 4]"
      ]
     },
     "execution_count": 11,
     "metadata": {},
     "output_type": "execute_result"
    }
   ],
   "source": [
    "a = [1,2,4]\n",
    "a.insert(2,3)\n",
    "a"
   ]
  },
  {
   "cell_type": "code",
   "execution_count": 12,
   "id": "a0b62ebe",
   "metadata": {},
   "outputs": [],
   "source": [
    "a = [1,2,3,3,2,4,3]\n",
    "a.remove(3)"
   ]
  },
  {
   "cell_type": "code",
   "execution_count": 13,
   "id": "9536c220",
   "metadata": {},
   "outputs": [
    {
     "data": {
      "text/plain": [
       "[1, 2, 3, 2, 4, 3]"
      ]
     },
     "execution_count": 13,
     "metadata": {},
     "output_type": "execute_result"
    }
   ],
   "source": [
    "a"
   ]
  },
  {
   "cell_type": "code",
   "execution_count": 14,
   "id": "279311b7",
   "metadata": {},
   "outputs": [
    {
     "data": {
      "text/plain": [
       "[2, 3, 2, 4, 3]"
      ]
     },
     "execution_count": 14,
     "metadata": {},
     "output_type": "execute_result"
    }
   ],
   "source": [
    "del a[0] # 인덱스로 삭제\n",
    "a"
   ]
  },
  {
   "cell_type": "code",
   "execution_count": 15,
   "id": "069f4e6e",
   "metadata": {},
   "outputs": [
    {
     "data": {
      "text/plain": [
       "[1, 2]"
      ]
     },
     "execution_count": 15,
     "metadata": {},
     "output_type": "execute_result"
    }
   ],
   "source": [
    "a = [1,2,3]\n",
    "a.pop()\n",
    "a"
   ]
  },
  {
   "cell_type": "code",
   "execution_count": 16,
   "id": "9680a5e5",
   "metadata": {},
   "outputs": [
    {
     "data": {
      "text/plain": [
       "3"
      ]
     },
     "execution_count": 16,
     "metadata": {},
     "output_type": "execute_result"
    }
   ],
   "source": [
    "# 요소의 개수(건수)\n",
    "a = [1,2,3,4,4,4,5,2]\n",
    "a.count(4)"
   ]
  },
  {
   "cell_type": "code",
   "execution_count": 17,
   "id": "3b1184b7",
   "metadata": {},
   "outputs": [],
   "source": [
    "# 리스트의 확장\n",
    "a = [1,2,3]\n",
    "# 리스트1.extend(리스트2)\n"
   ]
  },
  {
   "cell_type": "code",
   "execution_count": 18,
   "id": "77cebd72",
   "metadata": {},
   "outputs": [
    {
     "data": {
      "text/plain": [
       "True"
      ]
     },
     "execution_count": 18,
     "metadata": {},
     "output_type": "execute_result"
    }
   ],
   "source": [
    "# 값 in 리스트, 값 not in 리스트 => 결과는 True or False\n",
    "a = [1,2,3,4,5]\n",
    "result = 2 in a\n",
    "result"
   ]
  },
  {
   "cell_type": "markdown",
   "id": "bd4df694",
   "metadata": {},
   "source": [
    "# 튜플(Tuple)"
   ]
  },
  {
   "cell_type": "code",
   "execution_count": 19,
   "id": "4e99d341",
   "metadata": {},
   "outputs": [
    {
     "name": "stdout",
     "output_type": "stream",
     "text": [
      "(1, 2, 'a', 'b')\n",
      "b\n"
     ]
    }
   ],
   "source": [
    "t1 = (1,2,'a','b')\n",
    "print(t1)\n",
    "print(t1[-1])"
   ]
  },
  {
   "cell_type": "code",
   "execution_count": 20,
   "id": "2dbd44a0",
   "metadata": {},
   "outputs": [
    {
     "name": "stdout",
     "output_type": "stream",
     "text": [
      "(2, 'a', 'b')\n",
      "(1, 2, 'a', 'b', 3, 4)\n",
      "t1:  (1, 2, 'a', 'b', 3, 4)\n"
     ]
    }
   ],
   "source": [
    "t1 = (1,2,'a','b')\n",
    "print(t1[1:])\n",
    "t2 = (3,4)\n",
    "print(t1 + t2)\n",
    "t1 = t1 + t2\n",
    "print('t1: ', t1)"
   ]
  },
  {
   "cell_type": "code",
   "execution_count": 21,
   "id": "8553ae3f",
   "metadata": {},
   "outputs": [
    {
     "name": "stdout",
     "output_type": "stream",
     "text": [
      "20 10\n"
     ]
    }
   ],
   "source": [
    "a = 10\n",
    "b = 20\n",
    "a, b = b, a\n",
    "print(a,b)"
   ]
  },
  {
   "cell_type": "code",
   "execution_count": 22,
   "id": "7ec3ade0",
   "metadata": {},
   "outputs": [
    {
     "name": "stdout",
     "output_type": "stream",
     "text": [
      "1 2 3\n",
      "2 1\n"
     ]
    }
   ],
   "source": [
    "# packing : 여러개의 값을 하나의 변수에 저장하는 것\n",
    "t1 =(1,2,3)\n",
    "\n",
    "# unpacking : 하나의 변수에 담은 값을 각각의 변수에 할당하는것\n",
    "# 데이터의 개수와 변수의 개수는 반드시 일치해야 한다.\n",
    "n1, n2, n3 = t1\n",
    "\n",
    "# 출력형식이 포함된 문자열.format(값1, 값2, 값3)\n",
    "print(\"{0} {1} {2}\".format(n1, n2, n3))\n",
    "\n",
    "# 변수의 값을 교환\n",
    "n1, n2, = n2, n1\n",
    "print('%d %d'%(n1, n2))"
   ]
  },
  {
   "cell_type": "code",
   "execution_count": 23,
   "id": "f17d7dc9",
   "metadata": {},
   "outputs": [
    {
     "name": "stdout",
     "output_type": "stream",
     "text": [
      "[1, 2, 3] (1, 2, 3)\n"
     ]
    }
   ],
   "source": [
    "# 형변환 : int(), float(), str()\n",
    "# 자료구조의 형변환 : list(), tuple()\n",
    "l = [1,2,3]\n",
    "t = (1,2,3)\n",
    "print(l,t)"
   ]
  },
  {
   "cell_type": "markdown",
   "id": "d8c23526",
   "metadata": {},
   "source": [
    "# 딕셔너리"
   ]
  },
  {
   "cell_type": "code",
   "execution_count": 24,
   "id": "2aacdbab",
   "metadata": {},
   "outputs": [
    {
     "name": "stdout",
     "output_type": "stream",
     "text": [
      "{1: 'a'} <class 'dict'>\n"
     ]
    }
   ],
   "source": [
    "# 딕셔너리 {key:value, key:value}\n",
    "# key는 숫자인덱스보다 문자인덱스를 선호(권장)\n",
    "# key 중복 불가능\n",
    "a = {1: 'a'}\n",
    "print(a, type(a))"
   ]
  },
  {
   "cell_type": "code",
   "execution_count": 25,
   "id": "88ba19b1",
   "metadata": {
    "scrolled": true
   },
   "outputs": [
    {
     "name": "stdout",
     "output_type": "stream",
     "text": [
      "<class 'dict'>\n"
     ]
    }
   ],
   "source": [
    "stu = {'name':'홍길동', 'phone':'010-1234-5678'}\n",
    "print(type(stu))"
   ]
  },
  {
   "cell_type": "code",
   "execution_count": 26,
   "id": "bb473840",
   "metadata": {},
   "outputs": [
    {
     "name": "stdout",
     "output_type": "stream",
     "text": [
      "홍길동\n",
      "홍길동\n"
     ]
    }
   ],
   "source": [
    "# 키를 이용해서 값을 조회\n",
    "print(stu['name'])\n",
    "print(stu.get('name'))"
   ]
  },
  {
   "cell_type": "code",
   "execution_count": 27,
   "id": "6243a75b",
   "metadata": {},
   "outputs": [
    {
     "name": "stdout",
     "output_type": "stream",
     "text": [
      "dict_keys(['name', 'phone'])\n",
      "dict_values(['홍길동', '010-1234-5678'])\n"
     ]
    }
   ],
   "source": [
    "# 조회 => list 형으로 출력\n",
    "print(stu.keys())\n",
    "print(stu.values())"
   ]
  },
  {
   "cell_type": "code",
   "execution_count": 28,
   "id": "023b74c0",
   "metadata": {},
   "outputs": [
    {
     "data": {
      "text/plain": [
       "dict_items([('name', '홍길동'), ('phone', '010-1234-5678')])"
      ]
     },
     "execution_count": 28,
     "metadata": {},
     "output_type": "execute_result"
    }
   ],
   "source": [
    "# items => tuple 로 출력\n",
    "stu.items()"
   ]
  },
  {
   "cell_type": "code",
   "execution_count": 29,
   "id": "26694191",
   "metadata": {},
   "outputs": [
    {
     "name": "stdout",
     "output_type": "stream",
     "text": [
      "name 홍길동\n",
      "phone 010-1234-5678\n"
     ]
    }
   ],
   "source": [
    "# for 개별변수 in 집합변수\n",
    "for k in stu.keys():\n",
    "    print(k, stu[k])"
   ]
  },
  {
   "cell_type": "code",
   "execution_count": 30,
   "id": "2ad95c4b",
   "metadata": {},
   "outputs": [
    {
     "name": "stdout",
     "output_type": "stream",
     "text": [
      "['name', 'phone']\n"
     ]
    }
   ],
   "source": [
    "b = list(stu.keys())\n",
    "print(b)"
   ]
  },
  {
   "cell_type": "code",
   "execution_count": 31,
   "id": "29b761e0",
   "metadata": {},
   "outputs": [
    {
     "name": "stdout",
     "output_type": "stream",
     "text": [
      "name 홍길동\n",
      "phone 010-1234-5678\n"
     ]
    }
   ],
   "source": [
    "for k, v in stu.items():\n",
    "    print(k, v)"
   ]
  },
  {
   "cell_type": "markdown",
   "id": "d0c254ee",
   "metadata": {},
   "source": [
    "# 집합"
   ]
  },
  {
   "cell_type": "code",
   "execution_count": 32,
   "id": "8c7046da",
   "metadata": {},
   "outputs": [
    {
     "data": {
      "text/plain": [
       "{1, 2, 3, 4, 5}"
      ]
     },
     "execution_count": 32,
     "metadata": {},
     "output_type": "execute_result"
    }
   ],
   "source": [
    "# 집합 자료형 : 중복값은 허용하지 않으며, 순서대로 저장되지 않는다.\n",
    "s1 = set([5,4,3,2,1,1,2,3,2,3,4,5])\n",
    "s1"
   ]
  },
  {
   "cell_type": "code",
   "execution_count": 33,
   "id": "21edf559",
   "metadata": {},
   "outputs": [
    {
     "name": "stdout",
     "output_type": "stream",
     "text": [
      "{4, 5, 6}\n",
      "{1, 2, 3, 4, 5, 6, 7, 8, 9}\n",
      "\n",
      "{1, 2, 3}\n",
      "교집합 {4, 5, 6}\n",
      "합집합 {1, 2, 3, 4, 5, 6, 7, 8, 9}\n",
      "차집합 {1, 2, 3}\n"
     ]
    }
   ],
   "source": [
    "s1 = set([1,2,3,4,5,6]) \n",
    "s2 = set([4,5,6,7,8,9])\n",
    "\n",
    "a = s1 & s2\n",
    "b = s1 | s2\n",
    "print(a)\n",
    "print(b)\n",
    "print()\n",
    "\n",
    "c = s1 - s2\n",
    "print(c)\n",
    "\n",
    "print('교집합' , s1.intersection(s2))\n",
    "print('합집합', s1.union(s2))\n",
    "print('차집합', s1.difference(s2))"
   ]
  },
  {
   "cell_type": "code",
   "execution_count": 34,
   "id": "f07f3b0d",
   "metadata": {},
   "outputs": [
    {
     "data": {
      "text/plain": [
       "{1, 2, 3, 4, 5, 6}"
      ]
     },
     "execution_count": 34,
     "metadata": {},
     "output_type": "execute_result"
    }
   ],
   "source": [
    "s1.add(4) # 한꺼번에 여러개의 요소 추가할 수 없다.\n",
    "s1"
   ]
  },
  {
   "cell_type": "code",
   "execution_count": 35,
   "id": "282095b2",
   "metadata": {},
   "outputs": [
    {
     "data": {
      "text/plain": [
       "{1, 3, 4, 5, 6}"
      ]
     },
     "execution_count": 35,
     "metadata": {},
     "output_type": "execute_result"
    }
   ],
   "source": [
    "s1.remove(2)\n",
    "s1"
   ]
  },
  {
   "cell_type": "markdown",
   "id": "8c41b58d",
   "metadata": {},
   "source": [
    "# 날짜 자료형"
   ]
  },
  {
   "cell_type": "code",
   "execution_count": 36,
   "id": "347dba49",
   "metadata": {},
   "outputs": [],
   "source": [
    "# 날짜 관련 함수를 가지고 있는 모듈을 포함\n",
    "# import datetime 해당모듈(datetime) 전체를 가져온다는 의미\n",
    "from datetime import date, time, datetime, timedelta"
   ]
  },
  {
   "cell_type": "code",
   "execution_count": 37,
   "id": "a7cc880e",
   "metadata": {},
   "outputs": [
    {
     "name": "stdout",
     "output_type": "stream",
     "text": [
      "2022-09-05\n"
     ]
    }
   ],
   "source": [
    "# date 변수, today() - 오늘 날짜를 구하는 함수\n",
    "today = date.today()\n",
    "print(today)"
   ]
  },
  {
   "cell_type": "code",
   "execution_count": 38,
   "id": "ab383215",
   "metadata": {},
   "outputs": [
    {
     "name": "stdout",
     "output_type": "stream",
     "text": [
      "2022년 9월 5일\n"
     ]
    }
   ],
   "source": [
    "print('%d년 %d월 %d일' %(today.year, today.month, today.day))"
   ]
  },
  {
   "cell_type": "code",
   "execution_count": 39,
   "id": "c4a9a78c",
   "metadata": {},
   "outputs": [
    {
     "data": {
      "text/plain": [
       "datetime.datetime(2022, 9, 5, 1, 28, 39, 127306)"
      ]
     },
     "execution_count": 39,
     "metadata": {},
     "output_type": "execute_result"
    }
   ],
   "source": [
    "# 날짜 시간 구하기\n",
    "current_datetime = datetime.today()\n",
    "current_datetime"
   ]
  },
  {
   "cell_type": "code",
   "execution_count": 40,
   "id": "711d7ae6",
   "metadata": {},
   "outputs": [
    {
     "name": "stdout",
     "output_type": "stream",
     "text": [
      "2022-09-05 01:28:39.146443\n",
      "<class 'datetime.datetime'>\n"
     ]
    }
   ],
   "source": [
    "# 형식화된 날짜 출력 : 서식(%)\n",
    "today = datetime.today()\n",
    "print(today)\n",
    "print(type(today))"
   ]
  },
  {
   "cell_type": "code",
   "execution_count": 41,
   "id": "2228e200",
   "metadata": {},
   "outputs": [
    {
     "name": "stdout",
     "output_type": "stream",
     "text": [
      "2022-09-05 01:28:39\n"
     ]
    }
   ],
   "source": [
    "# 날짜 자료형을 문자열로 형변환\n",
    "# %y - 년도, %m - 월, %M - 분, %H - 시간\n",
    "d = today.strftime(\"%Y-%m-%d %H:%M:%S\")\n",
    "print(d)"
   ]
  },
  {
   "cell_type": "code",
   "execution_count": 42,
   "id": "812cf7f5",
   "metadata": {},
   "outputs": [
    {
     "name": "stdout",
     "output_type": "stream",
     "text": [
      "2022-09-04 01:28:39.146443\n",
      "2022-08-29 01:28:39.146443\n"
     ]
    }
   ],
   "source": [
    "days = timedelta(days=-1)\n",
    "# 어제 날짜\n",
    "print(today + days)\n",
    "\n",
    "# 일주일 전\n",
    "days_7 = timedelta(days=-7)\n",
    "print(today + days_7)"
   ]
  },
  {
   "cell_type": "markdown",
   "id": "e6c7e8af",
   "metadata": {},
   "source": [
    "# 리스트 내포(List Comprehension)"
   ]
  },
  {
   "cell_type": "code",
   "execution_count": 43,
   "id": "429bc17d",
   "metadata": {},
   "outputs": [
    {
     "name": "stdout",
     "output_type": "stream",
     "text": [
      "[2, 4, 6, 8, 10]\n"
     ]
    }
   ],
   "source": [
    "a = [] # a = list()\n",
    "\n",
    "for i in range(1,6):\n",
    "    a.append(i * 2)\n",
    "    \n",
    "print(a)"
   ]
  },
  {
   "cell_type": "code",
   "execution_count": 44,
   "id": "af209bbc",
   "metadata": {},
   "outputs": [
    {
     "data": {
      "text/plain": [
       "[2, 4, 6, 8, 10]"
      ]
     },
     "execution_count": 44,
     "metadata": {},
     "output_type": "execute_result"
    }
   ],
   "source": [
    "# 출력\n",
    "a = [i * 2 for i in range(1,6)]\n",
    "a"
   ]
  },
  {
   "cell_type": "code",
   "execution_count": 45,
   "id": "47e6c9a1",
   "metadata": {},
   "outputs": [
    {
     "name": "stdout",
     "output_type": "stream",
     "text": [
      "['사과', '바나나', '자두']\n"
     ]
    }
   ],
   "source": [
    "arr = ['사과','바나나','자두','초콜릿']\n",
    "output = []\n",
    "\n",
    "for i in arr:\n",
    "    if i != '초콜릿':\n",
    "        output.append(i)\n",
    "\n",
    "print(output)"
   ]
  },
  {
   "cell_type": "code",
   "execution_count": 46,
   "id": "4c032375",
   "metadata": {},
   "outputs": [
    {
     "name": "stdout",
     "output_type": "stream",
     "text": [
      "['사과', '바나나', '자두']\n"
     ]
    }
   ],
   "source": [
    "# 인라인 함수 inline\n",
    "\n",
    "arr = ['사과','바나나','자두','초콜릿']\n",
    "output = [i for i in arr if i!='초콜릿']\n",
    "print(output)"
   ]
  }
 ],
 "metadata": {
  "kernelspec": {
   "display_name": "Python 3 (ipykernel)",
   "language": "python",
   "name": "python3"
  },
  "language_info": {
   "codemirror_mode": {
    "name": "ipython",
    "version": 3
   },
   "file_extension": ".py",
   "mimetype": "text/x-python",
   "name": "python",
   "nbconvert_exporter": "python",
   "pygments_lexer": "ipython3",
   "version": "3.9.12"
  },
  "toc": {
   "base_numbering": 1,
   "nav_menu": {},
   "number_sections": true,
   "sideBar": true,
   "skip_h1_title": false,
   "title_cell": "Table of Contents",
   "title_sidebar": "Contents",
   "toc_cell": false,
   "toc_position": {},
   "toc_section_display": true,
   "toc_window_display": false
  }
 },
 "nbformat": 4,
 "nbformat_minor": 5
}
