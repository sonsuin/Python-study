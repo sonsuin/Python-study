{
 "cells": [
  {
   "cell_type": "markdown",
   "id": "29f06514",
   "metadata": {},
   "source": [
    "# Python3 Program\n",
    "#### 변수 - 자료구조(리스트, 튜플, 집합, 사전) - 함수\n",
    "#### 자료 - 기본자료형(논리형, 정수형, 실수형, 문자형)\n",
    "#### 제어문 - 조건문, 반복문"
   ]
  },
  {
   "cell_type": "markdown",
   "id": "e33bf1a4",
   "metadata": {},
   "source": [
    "### 문자열 자료형"
   ]
  },
  {
   "cell_type": "code",
   "execution_count": 1,
   "id": "6cc93c44",
   "metadata": {},
   "outputs": [],
   "source": [
    "# 문자열(string) 자료형 : 하나의 문자 또는 그 이상의 문자를 묶어놓은 자료형\n",
    "# 끈따옴표(\"\") 작은 따옴표('')\n",
    "# 여러 줄의 문자열을 처리할 때( \"\"\"~\"\"\" , '''~''' )"
   ]
  },
  {
   "cell_type": "code",
   "execution_count": 2,
   "id": "78872db4",
   "metadata": {},
   "outputs": [
    {
     "name": "stdout",
     "output_type": "stream",
     "text": [
      "Life is short\n",
      "You need Python\n"
     ]
    }
   ],
   "source": [
    "print(\"\"\"Life is short\n",
    "You need Python\"\"\")"
   ]
  },
  {
   "cell_type": "code",
   "execution_count": 3,
   "id": "44a73214",
   "metadata": {},
   "outputs": [
    {
     "data": {
      "text/plain": [
       "'Hello'"
      ]
     },
     "execution_count": 3,
     "metadata": {},
     "output_type": "execute_result"
    }
   ],
   "source": [
    "\"Hello\""
   ]
  },
  {
   "cell_type": "code",
   "execution_count": 4,
   "id": "49484e74",
   "metadata": {},
   "outputs": [
    {
     "data": {
      "text/plain": [
       "'Hello'"
      ]
     },
     "execution_count": 4,
     "metadata": {},
     "output_type": "execute_result"
    }
   ],
   "source": [
    "'Hello'"
   ]
  },
  {
   "cell_type": "code",
   "execution_count": 5,
   "id": "0db9d5be",
   "metadata": {},
   "outputs": [
    {
     "name": "stdout",
     "output_type": "stream",
     "text": [
      "Life is short,\n",
      "You need \"Python\"\n",
      "Life is short,\n",
      "You need \"Python\"\n"
     ]
    }
   ],
   "source": [
    "print(\"Life is short,\\nYou need \\\"Python\\\"\")\n",
    "print('Life is short,\\nYou need \"Python\"')"
   ]
  },
  {
   "cell_type": "markdown",
   "id": "8418c029",
   "metadata": {},
   "source": [
    "##### 이스케이프 문자\n",
    "- \\\\(원화표시)\n",
    "- \\n(new line) : 줄바꿈(개행)\n",
    "- \\t(tap key) : 일정 간격을 띄어라"
   ]
  },
  {
   "cell_type": "code",
   "execution_count": 6,
   "id": "06b1d5ec",
   "metadata": {},
   "outputs": [
    {
     "name": "stdout",
     "output_type": "stream",
     "text": [
      "hellopython\n"
     ]
    }
   ],
   "source": [
    "# 연산 : +, *\n",
    "a = 'hello'\n",
    "b = 'python'\n",
    "print(a + b)"
   ]
  },
  {
   "cell_type": "code",
   "execution_count": 7,
   "id": "347c12a8",
   "metadata": {},
   "outputs": [
    {
     "name": "stdout",
     "output_type": "stream",
     "text": [
      "e\n",
      "n\n"
     ]
    }
   ],
   "source": [
    "# 인덱싱과 슬라이싱\n",
    "# [index], [start:end], [start:end:step]\n",
    "a = \"Life is short,You need Python\"\n",
    "print(a[3]) # 네번째 문자, 인덱스의 시작은 0 부터\n",
    "print(a[-1]) # 리버스 인덱스, 마지막 문자"
   ]
  },
  {
   "cell_type": "code",
   "execution_count": 8,
   "id": "8e3fb4a7",
   "metadata": {},
   "outputs": [
    {
     "name": "stdout",
     "output_type": "stream",
     "text": [
      "출생년도는 1996년, 월은 11월, 일은 26일\n"
     ]
    }
   ],
   "source": [
    "suin = '961126-2860314'\n",
    "\n",
    "    \n",
    "print('출생년도는 {}년, 월은 {}월, 일은 {}일'.format('19'+suin[0:2], suin[2:4], suin[4:6]))\n",
    "    "
   ]
  },
  {
   "cell_type": "code",
   "execution_count": 9,
   "id": "b94b4cfa",
   "metadata": {},
   "outputs": [
    {
     "name": "stdout",
     "output_type": "stream",
     "text": [
      "True\n"
     ]
    },
    {
     "name": "stderr",
     "output_type": "stream",
     "text": [
      "<>:4: SyntaxWarning: \"is\" with a literal. Did you mean \"==\"?\n",
      "<>:4: SyntaxWarning: \"is\" with a literal. Did you mean \"==\"?\n",
      "C:\\Users\\admin\\AppData\\Local\\Temp\\ipykernel_6532\\3009194497.py:4: SyntaxWarning: \"is\" with a literal. Did you mean \"==\"?\n",
      "  print(a is -5)\n"
     ]
    }
   ],
   "source": [
    "# 파이썬의 메모리 관리 방식\n",
    "# 5 ~ 256까지는 이미 메모리에 저장되어서 시작된다.\n",
    "a = -5\n",
    "print(a is -5)"
   ]
  },
  {
   "cell_type": "code",
   "execution_count": 10,
   "id": "6737e4d5",
   "metadata": {},
   "outputs": [
    {
     "name": "stdout",
     "output_type": "stream",
     "text": [
      "hello\n",
      "None\n"
     ]
    }
   ],
   "source": [
    "a = print('hello')\n",
    "print(a)"
   ]
  },
  {
   "cell_type": "markdown",
   "id": "6a71b44a",
   "metadata": {},
   "source": [
    "### 리스트(List) 자료형"
   ]
  },
  {
   "cell_type": "code",
   "execution_count": 11,
   "id": "93a20aee",
   "metadata": {},
   "outputs": [
    {
     "data": {
      "text/plain": [
       "list"
      ]
     },
     "execution_count": 11,
     "metadata": {},
     "output_type": "execute_result"
    }
   ],
   "source": [
    "a = [1, 'a', 3.14, 'Korea', True]\n",
    "type(a)"
   ]
  },
  {
   "cell_type": "code",
   "execution_count": 12,
   "id": "2044d076",
   "metadata": {},
   "outputs": [
    {
     "name": "stdout",
     "output_type": "stream",
     "text": [
      "<class 'list'> <class 'list'>\n"
     ]
    }
   ],
   "source": [
    "b = []\n",
    "c = list()\n",
    "print(type(b), type(c))"
   ]
  },
  {
   "cell_type": "code",
   "execution_count": 13,
   "id": "a17be180",
   "metadata": {},
   "outputs": [],
   "source": [
    "a = [1,2,3]\n",
    "b = [4,5,6]"
   ]
  },
  {
   "cell_type": "code",
   "execution_count": 14,
   "id": "cad2a9f3",
   "metadata": {},
   "outputs": [
    {
     "data": {
      "text/plain": [
       "[5, 7, 9]"
      ]
     },
     "execution_count": 14,
     "metadata": {},
     "output_type": "execute_result"
    }
   ],
   "source": [
    "x = []\n",
    "for i in range(3):\n",
    "    y = a[i] + b[i]\n",
    "    x.append(y)\n",
    "x"
   ]
  },
  {
   "cell_type": "code",
   "execution_count": 15,
   "id": "75fed9b3",
   "metadata": {},
   "outputs": [],
   "source": [
    "# 리스트 관련 함수 : 리스트객체명,함수()\n",
    "## 리스트 마지막에 요소를 추가 append()\n",
    "## 리스트 원하는 위치에 요소 추가 insert(index, data)\n",
    "## 리스트 정렬 sort() -> 내림차순 : sort(reverse = True)\n",
    "## 리스트 뒤집기 reverse()\n",
    "## 리스트 해당 요소의 인덱스 index(data)\n",
    "## 리스트 요소 삭제 del 리스트명[index], remove(data), 리스트 모두 지우기 : 리스트.clear()\n",
    "## 리스트의 마지막 요소 추출 : 리스트.pop() -> 삭제\n",
    "## 리스트 요소 갯수 : 리스트명.count(), 리스트.count(data)\n",
    "## 리스트 확장  리스트.extend(리스트)"
   ]
  },
  {
   "cell_type": "markdown",
   "id": "f1e59739",
   "metadata": {},
   "source": [
    "### 튜플(Tuple) 자료형"
   ]
  },
  {
   "cell_type": "code",
   "execution_count": 16,
   "id": "43b2e0ce",
   "metadata": {},
   "outputs": [
    {
     "name": "stdout",
     "output_type": "stream",
     "text": [
      "() 1 (1,) (1, 2, 3)\n"
     ]
    }
   ],
   "source": [
    "t1 = ()\n",
    "t2 = (1) # 튜플이 아님\n",
    "t2_1 = (1,)\n",
    "t3 = (1, 2, 3)\n",
    "print(t1, t2, t2_1, t3)"
   ]
  },
  {
   "cell_type": "code",
   "execution_count": 17,
   "id": "5d77e14b",
   "metadata": {},
   "outputs": [
    {
     "name": "stdout",
     "output_type": "stream",
     "text": [
      "[1] [1]\n"
     ]
    }
   ],
   "source": [
    "# 리스트랑 튜플의 차이점\n",
    "\n",
    "l1 = [1]\n",
    "l1_1 = [1,]\n",
    "print(l1, l1_1)"
   ]
  },
  {
   "cell_type": "markdown",
   "id": "c898e584",
   "metadata": {},
   "source": [
    "### 사전"
   ]
  },
  {
   "cell_type": "code",
   "execution_count": 18,
   "id": "66e05858",
   "metadata": {},
   "outputs": [
    {
     "name": "stdout",
     "output_type": "stream",
     "text": [
      "<class 'dict'> <class 'dict'> <class 'list'> <class 'tuple'>\n"
     ]
    }
   ],
   "source": [
    "d = {} # 딕셔너리도 중괄호\n",
    "s = {} # 집합도 중괄호\n",
    "l = []\n",
    "t = ()\n",
    "\n",
    "print(type(d), type(s), type(l), type(t))"
   ]
  },
  {
   "cell_type": "code",
   "execution_count": 19,
   "id": "a0e485a1",
   "metadata": {},
   "outputs": [
    {
     "name": "stdout",
     "output_type": "stream",
     "text": [
      "{'a': 1}\n",
      "{1, 2, 3}\n",
      "<class 'dict'> <class 'set'>\n"
     ]
    }
   ],
   "source": [
    "d = {'a' : 1}\n",
    "s = {1,2,3,2,1}\n",
    "print(d)\n",
    "print(s) # 집합은 중복 제거\n",
    "print(type(d), type(s))"
   ]
  },
  {
   "cell_type": "code",
   "execution_count": 20,
   "id": "8673f358",
   "metadata": {},
   "outputs": [
    {
     "name": "stdout",
     "output_type": "stream",
     "text": [
      "suin\n",
      "<class 'dict'>\n"
     ]
    }
   ],
   "source": [
    "# [조건식], index, :, 조건식 - 조건식이 참인것만 대상으로 작업\n",
    "d = {'name' : 'suin'}\n",
    "print(d['name'])\n",
    "print(type(d))"
   ]
  },
  {
   "cell_type": "code",
   "execution_count": 21,
   "id": "f7eb4bd9",
   "metadata": {},
   "outputs": [],
   "source": [
    "stu = {'id' : [111, 222],\n",
    "      'name' : ['aaa', 'bbb'],\n",
    "      'kor' : [33, 44],\n",
    "      'eng' : [64, 24],\n",
    "      'math' : [35, 55]}"
   ]
  },
  {
   "cell_type": "code",
   "execution_count": 22,
   "id": "7dd0bd4e",
   "metadata": {},
   "outputs": [
    {
     "name": "stdout",
     "output_type": "stream",
     "text": [
      "dict_keys(['id', 'name', 'kor', 'eng', 'math'])\n",
      "dict_values([[111, 222], ['aaa', 'bbb'], [33, 44], [64, 24], [35, 55]])\n"
     ]
    }
   ],
   "source": [
    "print(stu.keys())\n",
    "print(stu.values()) # 2차원 리스트 a = [[]]"
   ]
  },
  {
   "cell_type": "code",
   "execution_count": 23,
   "id": "d835306b",
   "metadata": {},
   "outputs": [
    {
     "name": "stdout",
     "output_type": "stream",
     "text": [
      "id\n",
      "name\n",
      "kor\n",
      "eng\n",
      "math\n"
     ]
    }
   ],
   "source": [
    "# 세로로 보이게\n",
    "\n",
    "for i in stu.keys():\n",
    "    print(i)"
   ]
  },
  {
   "cell_type": "code",
   "execution_count": 24,
   "id": "a0a165e2",
   "metadata": {},
   "outputs": [
    {
     "name": "stdout",
     "output_type": "stream",
     "text": [
      "{'name': 'suin', 'age': 27}\n"
     ]
    }
   ],
   "source": [
    "d = {'name' : 'suin'}\n",
    "d['age'] = 27\n",
    "print(d)"
   ]
  },
  {
   "cell_type": "code",
   "execution_count": 25,
   "id": "25dd14ad",
   "metadata": {},
   "outputs": [
    {
     "name": "stdout",
     "output_type": "stream",
     "text": [
      "suin\n",
      "suin\n"
     ]
    }
   ],
   "source": [
    "print(d['name'])\n",
    "print(d.get('name'))"
   ]
  },
  {
   "cell_type": "markdown",
   "id": "9aa3ab79",
   "metadata": {},
   "source": [
    "### 집합(set)"
   ]
  },
  {
   "cell_type": "code",
   "execution_count": 26,
   "id": "8dd1e6d4",
   "metadata": {},
   "outputs": [
    {
     "name": "stdout",
     "output_type": "stream",
     "text": [
      "{1, 2, 3, 4, 5}\n"
     ]
    }
   ],
   "source": [
    "# 중복 불가능, 순서 없음\n",
    "s = set([1,2,3,4,5])\n",
    "print(s)"
   ]
  },
  {
   "cell_type": "code",
   "execution_count": 27,
   "id": "8230504c",
   "metadata": {},
   "outputs": [
    {
     "name": "stdout",
     "output_type": "stream",
     "text": [
      "{'l', 'e', 'h', 'o'}\n"
     ]
    }
   ],
   "source": [
    "s2 = set('hello')\n",
    "print(s2)"
   ]
  },
  {
   "cell_type": "code",
   "execution_count": 28,
   "id": "a0b9387c",
   "metadata": {},
   "outputs": [
    {
     "name": "stdout",
     "output_type": "stream",
     "text": [
      "[1, 2, 3, 4, 5] (1, 2, 3, 4, 5)\n"
     ]
    }
   ],
   "source": [
    "# 집합 리스트랑 튜플로 바꾸기\n",
    "a = list(s)\n",
    "b = tuple(s)\n",
    "print(a, b)"
   ]
  },
  {
   "cell_type": "code",
   "execution_count": 29,
   "id": "1f9b745d",
   "metadata": {},
   "outputs": [
    {
     "name": "stdout",
     "output_type": "stream",
     "text": [
      "{1, 2, 3, 4, 5, 6}\n"
     ]
    }
   ],
   "source": [
    "# 집합과 관련된 함수\n",
    "## add : 1개 요소 추가\n",
    "s.add(6)\n",
    "print(s)"
   ]
  },
  {
   "cell_type": "code",
   "execution_count": 30,
   "id": "5704eca2",
   "metadata": {},
   "outputs": [
    {
     "data": {
      "text/plain": [
       "{1, 2, 3}"
      ]
     },
     "execution_count": 30,
     "metadata": {},
     "output_type": "execute_result"
    }
   ],
   "source": [
    "# 여러개의 값 추가 : update() -> 리스트, 튜플 등의 자료구조만 올 수 있음\n",
    "s1 = set([1,2,3])\n",
    "s1"
   ]
  },
  {
   "cell_type": "code",
   "execution_count": 31,
   "id": "5fc4d33e",
   "metadata": {},
   "outputs": [
    {
     "data": {
      "text/plain": [
       "{1, 2, 3, 4, 5, 6}"
      ]
     },
     "execution_count": 31,
     "metadata": {},
     "output_type": "execute_result"
    }
   ],
   "source": [
    "s1.update([4,5,6])\n",
    "s1"
   ]
  },
  {
   "cell_type": "code",
   "execution_count": 32,
   "id": "d43088d7",
   "metadata": {},
   "outputs": [
    {
     "data": {
      "text/plain": [
       "{1, 2, 3, 4, 5, 6, 7}"
      ]
     },
     "execution_count": 32,
     "metadata": {},
     "output_type": "execute_result"
    }
   ],
   "source": [
    "s1.update((7,6))\n",
    "s1"
   ]
  },
  {
   "cell_type": "code",
   "execution_count": 33,
   "id": "aeb1f735",
   "metadata": {},
   "outputs": [
    {
     "data": {
      "text/plain": [
       "{1, 2, 3, 4, 5, 6}"
      ]
     },
     "execution_count": 33,
     "metadata": {},
     "output_type": "execute_result"
    }
   ],
   "source": [
    "# 특정 값을 제거하는 함수 remove(값)\n",
    "s1.remove(7)\n",
    "s1"
   ]
  },
  {
   "cell_type": "code",
   "execution_count": 34,
   "id": "a46fa477",
   "metadata": {},
   "outputs": [
    {
     "name": "stdout",
     "output_type": "stream",
     "text": [
      "#####\n",
      "#####\n",
      "#####\n",
      "#####\n",
      "#####\n"
     ]
    }
   ],
   "source": [
    "for i in range(5):\n",
    "    for j in range(5):\n",
    "        print('#', end='')\n",
    "    print()"
   ]
  },
  {
   "cell_type": "code",
   "execution_count": 35,
   "id": "44c87346",
   "metadata": {},
   "outputs": [
    {
     "name": "stdout",
     "output_type": "stream",
     "text": [
      "#\n",
      "##\n",
      "###\n",
      "####\n",
      "#####\n"
     ]
    }
   ],
   "source": [
    "for i in range(5):\n",
    "    for j in range(i+1):\n",
    "        print('#', end='')\n",
    "    print()"
   ]
  },
  {
   "cell_type": "code",
   "execution_count": 36,
   "id": "137d7c2a",
   "metadata": {},
   "outputs": [
    {
     "name": "stdout",
     "output_type": "stream",
     "text": [
      "    #\n",
      "   ##\n",
      "  ###\n",
      " ####\n",
      "#####\n"
     ]
    }
   ],
   "source": [
    "for i in range(5):\n",
    "    for j in range(4-i):\n",
    "        print(' ', end='')\n",
    "    for k in range(i+1):\n",
    "        print('#', end='')\n",
    "    print()"
   ]
  },
  {
   "cell_type": "code",
   "execution_count": 37,
   "id": "5771e85c",
   "metadata": {},
   "outputs": [
    {
     "name": "stdout",
     "output_type": "stream",
     "text": [
      "#####\n",
      "####\n",
      "###\n",
      "##\n",
      "#\n"
     ]
    }
   ],
   "source": [
    "for i in range(5):\n",
    "    for j in range(5-i):\n",
    "        print('#', end='')\n",
    "    print()"
   ]
  },
  {
   "cell_type": "markdown",
   "id": "e9159894",
   "metadata": {},
   "source": [
    "### 제어문"
   ]
  },
  {
   "cell_type": "code",
   "execution_count": 38,
   "id": "14eee3f3",
   "metadata": {},
   "outputs": [],
   "source": [
    "# 조건문 : 단순 if문, if-else문, elif문 => 선택문\n",
    "## 조건식 : 비교(관계) 연산자, 논리 연산자"
   ]
  },
  {
   "cell_type": "markdown",
   "id": "86f785f9",
   "metadata": {},
   "source": [
    "#### 계산기 프로그램"
   ]
  },
  {
   "cell_type": "code",
   "execution_count": 39,
   "id": "9a73dff8",
   "metadata": {},
   "outputs": [
    {
     "name": "stdout",
     "output_type": "stream",
     "text": [
      "숫자1 = 5\n",
      "숫자2 = 2\n",
      "연산자 = /\n",
      "2.5\n"
     ]
    }
   ],
   "source": [
    "a = int(input('숫자1 = '))\n",
    "b = int(input('숫자2 = '))\n",
    "c = input('연산자 = ')\n",
    "\n",
    "if c == '+':\n",
    "    print(a + b)\n",
    "elif c == '-':\n",
    "    print(a - b)\n",
    "elif c == '*':\n",
    "    print(a * b)\n",
    "elif c == '/':\n",
    "    print(a / b)\n",
    "elif c == '//':\n",
    "    print(a // b)\n",
    "elif c == '%':\n",
    "    print(a % b)"
   ]
  },
  {
   "cell_type": "code",
   "execution_count": 40,
   "id": "1c559c1b",
   "metadata": {},
   "outputs": [
    {
     "name": "stdout",
     "output_type": "stream",
     "text": [
      "숫자1 = 5\n",
      "연산자 = /\n",
      "숫자2 = 0\n",
      "응 안돼\n"
     ]
    }
   ],
   "source": [
    "a = int(input('숫자1 = '))\n",
    "c = input('연산자 = ')\n",
    "b = int(input('숫자2 = '))\n",
    "\n",
    "if b == 0 and (c == '/' or c == '//' or c == '%'):\n",
    "    print('응 안돼')\n",
    "else :\n",
    "    if c == '+':\n",
    "        print(a + b)\n",
    "    elif c == '-':\n",
    "        print(a - b)\n",
    "    elif c == '*':\n",
    "        print(a * b)\n",
    "    elif c == '/':\n",
    "        print(a / b)\n",
    "    elif c == '//':\n",
    "        print(a // b)\n",
    "    elif c == '%':\n",
    "        print(a % b)"
   ]
  },
  {
   "cell_type": "markdown",
   "id": "6f62b2ca",
   "metadata": {},
   "source": [
    "#### UP/DOWN 게임\n",
    "1에서 100사이의 숫자 하나를 랜덤으로 발생한 후 사용자가 입력한 숫자와 비교하여 그 결과를 출력하는 프로그램\n",
    "내가 입력한 숫자와 난수가 같을 때 까지 반복"
   ]
  },
  {
   "cell_type": "code",
   "execution_count": 41,
   "id": "75d8b50c",
   "metadata": {},
   "outputs": [
    {
     "name": "stdout",
     "output_type": "stream",
     "text": [
      "50\n",
      "DOWN\n",
      "40\n",
      "UP\n",
      "45\n",
      "UP\n",
      "57\n",
      "DOWN\n",
      "47\n",
      "success : 난수는 47\n"
     ]
    }
   ],
   "source": [
    "# 난수 생성하는 함수를 가지고 있는 모듈\n",
    "import random\n",
    "\n",
    "# 난수 생성 함수 : random.randint(1,100) => 하나의 정수 난수 1~100까지 생성\n",
    "n = int(input())\n",
    "i = random.randint(1, 100)\n",
    "# print(i)\n",
    "\n",
    "while True: # 무한루프는 break(빠져나오는 타이밍) 필수\n",
    "    if n > i:\n",
    "        print('DOWN')\n",
    "    elif n < i:\n",
    "        print('UP')\n",
    "    n = int(input())\n",
    "    if n == i:\n",
    "        break\n",
    "        \n",
    "print('success : 난수는 %d' %(i))"
   ]
  },
  {
   "cell_type": "code",
   "execution_count": 42,
   "id": "91bf11d6",
   "metadata": {},
   "outputs": [
    {
     "name": "stdout",
     "output_type": "stream",
     "text": [
      "50\n",
      "DOWN\n",
      "40\n",
      "DOWN\n",
      "30\n",
      "DOWN\n",
      "20\n",
      "UP\n",
      "22\n",
      "UP\n",
      "25\n",
      "success : 난수는 25\n"
     ]
    }
   ],
   "source": [
    "# 난수 생성하는 함수를 가지고 있는 모듈\n",
    "import random\n",
    "\n",
    "# 난수 생성 함수 : random.randint(1,100) => 하나의 정수 난수 1~100까지 생성\n",
    "i = random.randint(1, 100)\n",
    "# print(i)\n",
    "\n",
    "while True: # 무한루프는 break(빠져나오는 타이밍) 필수 => break는 if에 적어주는게 좋은건가?\n",
    "    n = int(input())\n",
    "    \n",
    "    if n == i:\n",
    "        print('success : 난수는 %d' %(i))\n",
    "        break\n",
    "        \n",
    "    if n > i:\n",
    "        print('DOWN')\n",
    "        \n",
    "    elif n < i:\n",
    "        print('UP')"
   ]
  },
  {
   "cell_type": "markdown",
   "id": "9e477088",
   "metadata": {},
   "source": [
    "### 사다리꼴의 넓이 구하는 프로그램을 구현하시오."
   ]
  },
  {
   "cell_type": "code",
   "execution_count": 43,
   "id": "dadca1d0",
   "metadata": {},
   "outputs": [
    {
     "name": "stdout",
     "output_type": "stream",
     "text": [
      "윗변 : 5\n",
      "아랫변 : 6\n",
      "높이 : 5\n",
      "사다리꼴 넓이는 27.50\n"
     ]
    }
   ],
   "source": [
    "a = int(input('윗변 : '))\n",
    "b = int(input('아랫변 : '))\n",
    "c = int(input('높이 : '))\n",
    "\n",
    "result = (a + b) / 2 * c\n",
    "\n",
    "print('사다리꼴 넓이는 %.2f'%(result))"
   ]
  },
  {
   "cell_type": "markdown",
   "id": "2835fa99",
   "metadata": {},
   "source": [
    "멀티프로그램\n",
    "1. 최대값 : 두개의정수를 입력받아 큰수 출력\n",
    "2. 수나열 : 세개의 정수를 입력받아 큰 순서대로 나열\n",
    "3. 사칙연산 : 두개의 정수와 하나의 연산자를 입력받아 계산 결과 출력\n",
    "4. 프로그램 종료"
   ]
  },
  {
   "cell_type": "code",
   "execution_count": 44,
   "id": "9b9de8f0",
   "metadata": {},
   "outputs": [
    {
     "name": "stdout",
     "output_type": "stream",
     "text": [
      "--------Main Pogram--------\n",
      "1. 최대값 구하기\n",
      "2. 수 나열 하기\n",
      "3. 사칙연산 하기\n",
      "4. 프로그램 종료\n",
      "---------------------------\n",
      "메뉴 숫자 입력 : 2\n",
      "2\n",
      "\n",
      "--------Main Pogram--------\n",
      "1. 최대값 구하기\n",
      "2. 수 나열 하기\n",
      "3. 사칙연산 하기\n",
      "4. 프로그램 종료\n",
      "---------------------------\n",
      "메뉴 숫자 입력 : 4\n",
      "Exit\n"
     ]
    }
   ],
   "source": [
    "def test():\n",
    "    print('--------Main Pogram--------')\n",
    "    print('1. 최대값 구하기')\n",
    "    print('2. 수 나열 하기')\n",
    "    print('3. 사칙연산 하기')\n",
    "    print('4. 프로그램 종료')\n",
    "    print('---------------------------')\n",
    "    menu = int(input('메뉴 숫자 입력 : '))\n",
    "    return menu\n",
    "\n",
    "    \n",
    "while True :\n",
    "    menu = test()\n",
    "    if menu == 4:\n",
    "        print('Exit')\n",
    "        break\n",
    "        \n",
    "    if menu == 1:\n",
    "        print('1')\n",
    "        print()\n",
    "    elif menu == 2:\n",
    "        print('2')\n",
    "        print()\n",
    "    elif menu == 3:\n",
    "        print('3')\n",
    "        print()\n",
    "    else :\n",
    "        print('다시 입력 ㄱ')\n",
    "        print()\n"
   ]
  },
  {
   "cell_type": "markdown",
   "id": "6a37d0a2",
   "metadata": {},
   "source": [
    "### 함수(Function)\n",
    "1. 함수의 정의 : 관련된 기능이나 명령어 묶음\n",
    "  - 필요할 때 호출 가능\n",
    "  - 유지보수가 수월\n",
    "  - 가독성이 좋다\n",
    "  \n",
    "2. 함수의 구조(구성) : def(=define) 선언문\n",
    "   def 함수의 이름(매개변수): <br>\n",
    "       문장1<br>\n",
    "       문장2<br>\n",
    "        |  <br>\n",
    "       return 값\n",
    "       \n",
    "3. 함수의 호출 방법\n",
    "  - 이름에 의한 호출(Call By Name)\n",
    "  - 값에 의한 호출(Call By Value)\n",
    "  - 주소에 의한 호출(Call By Reference)\n",
    "  \n",
    "4. 함수의 기본 형식\n",
    "  - 매개변수 없고, 리턴값도 없는 경우\n",
    "  - 매개변수 없고, 리턴값 있는 경우\n",
    "  - 매개변수 있고, 리턴값 없는 경우\n",
    "  - 매개변수 있고, 리턴값 있는 경우"
   ]
  },
  {
   "cell_type": "code",
   "execution_count": 45,
   "id": "833a064e",
   "metadata": {},
   "outputs": [
    {
     "name": "stdout",
     "output_type": "stream",
     "text": [
      "시작\n",
      "작업\n",
      "6\n",
      "종료\n"
     ]
    }
   ],
   "source": [
    "def add (a, b, c):\n",
    "    print(a + b + c)\n",
    "    \n",
    "print('시작')\n",
    "print('작업')\n",
    "add(1, 2, 3)\n",
    "print('종료')"
   ]
  },
  {
   "cell_type": "code",
   "execution_count": 46,
   "id": "121cd22b",
   "metadata": {},
   "outputs": [],
   "source": [
    "def calc(ch, *ar):\n",
    "    if ch == 'add':\n",
    "        res = 0\n",
    "        for i in ar:\n",
    "            res += i\n",
    "    elif ch == 'mul':\n",
    "        res = 1\n",
    "        for i in ar:\n",
    "            res *= i\n",
    "    return res"
   ]
  },
  {
   "cell_type": "code",
   "execution_count": 47,
   "id": "1368ffd8",
   "metadata": {},
   "outputs": [
    {
     "name": "stdout",
     "output_type": "stream",
     "text": [
      "a =  6\n",
      "b =  120\n"
     ]
    }
   ],
   "source": [
    "a = calc('add', 1, 2, 3)\n",
    "print('a = ' , a)\n",
    "b = calc('mul', 1, 2, 3, 4, 5)\n",
    "print('b = ' , b)"
   ]
  },
  {
   "cell_type": "code",
   "execution_count": 54,
   "id": "b5ddc26e",
   "metadata": {},
   "outputs": [],
   "source": [
    "# default parameter : 초기 파라미터\n",
    "## 함수의 매개변수에 초기값을 담아서 처리하는 기능\n",
    "def ppp(a = 1, b = 2, c = 3):\n",
    "    print(a, b, c)"
   ]
  },
  {
   "cell_type": "code",
   "execution_count": 55,
   "id": "20f30b6f",
   "metadata": {},
   "outputs": [
    {
     "name": "stdout",
     "output_type": "stream",
     "text": [
      "1 2 3\n"
     ]
    }
   ],
   "source": [
    "ppp()"
   ]
  },
  {
   "cell_type": "code",
   "execution_count": 56,
   "id": "ca478f0b",
   "metadata": {},
   "outputs": [
    {
     "name": "stdout",
     "output_type": "stream",
     "text": [
      "100 2 3\n"
     ]
    }
   ],
   "source": [
    "ppp(100)"
   ]
  },
  {
   "cell_type": "code",
   "execution_count": 57,
   "id": "6f72a201",
   "metadata": {},
   "outputs": [
    {
     "name": "stdout",
     "output_type": "stream",
     "text": [
      "101 102 3\n"
     ]
    }
   ],
   "source": [
    "ppp(101,102)"
   ]
  },
  {
   "cell_type": "code",
   "execution_count": 58,
   "id": "25d11463",
   "metadata": {},
   "outputs": [
    {
     "name": "stdout",
     "output_type": "stream",
     "text": [
      "4 5 6\n"
     ]
    }
   ],
   "source": [
    "ppp(4,5,6)"
   ]
  },
  {
   "cell_type": "code",
   "execution_count": 60,
   "id": "cef6ecde",
   "metadata": {},
   "outputs": [],
   "source": [
    "# 가변길이 매개변수\n",
    "def add(a, b, c):\n",
    "    return a + b + c"
   ]
  },
  {
   "cell_type": "code",
   "execution_count": 62,
   "id": "70fb25c3",
   "metadata": {},
   "outputs": [
    {
     "data": {
      "text/plain": [
       "60"
      ]
     },
     "execution_count": 62,
     "metadata": {},
     "output_type": "execute_result"
    }
   ],
   "source": [
    "add(10, 20, 30)"
   ]
  },
  {
   "cell_type": "code",
   "execution_count": 63,
   "id": "5b40c22b",
   "metadata": {},
   "outputs": [],
   "source": [
    "def add_res(*args):\n",
    "    res = 0\n",
    "    \n",
    "    for i in args:\n",
    "        res += i\n",
    "        \n",
    "    return res"
   ]
  },
  {
   "cell_type": "code",
   "execution_count": 64,
   "id": "6e3f795d",
   "metadata": {},
   "outputs": [
    {
     "name": "stdout",
     "output_type": "stream",
     "text": [
      "a =  6\n"
     ]
    }
   ],
   "source": [
    "a = add_res(1, 2, 3)\n",
    "print('a = ', a)"
   ]
  },
  {
   "cell_type": "code",
   "execution_count": 65,
   "id": "784fda2a",
   "metadata": {},
   "outputs": [
    {
     "name": "stdout",
     "output_type": "stream",
     "text": [
      "b =  15\n"
     ]
    }
   ],
   "source": [
    "b = add_res(1, 2, 3, 4, 5)\n",
    "print('b = ', b)"
   ]
  },
  {
   "cell_type": "code",
   "execution_count": 67,
   "id": "645319ee",
   "metadata": {},
   "outputs": [],
   "source": [
    "def calc(ch, *ar):\n",
    "    if ch == 'add':\n",
    "        res = 0\n",
    "        for i in ar:\n",
    "            res += i\n",
    "    elif ch == 'mul':\n",
    "        res = 1\n",
    "        for i in ar:\n",
    "            res *= i\n",
    "            \n",
    "    return res"
   ]
  },
  {
   "cell_type": "code",
   "execution_count": 68,
   "id": "d78a19c2",
   "metadata": {},
   "outputs": [
    {
     "name": "stdout",
     "output_type": "stream",
     "text": [
      "c =  6\n",
      "d =  120\n"
     ]
    }
   ],
   "source": [
    "c = calc('add', 1, 2, 3)\n",
    "print('c = ', c)\n",
    "d = calc('mul', 1, 2, 3, 4, 5)\n",
    "print('d = ', d)"
   ]
  }
 ],
 "metadata": {
  "kernelspec": {
   "display_name": "Python 3 (ipykernel)",
   "language": "python",
   "name": "python3"
  },
  "language_info": {
   "codemirror_mode": {
    "name": "ipython",
    "version": 3
   },
   "file_extension": ".py",
   "mimetype": "text/x-python",
   "name": "python",
   "nbconvert_exporter": "python",
   "pygments_lexer": "ipython3",
   "version": "3.9.12"
  },
  "toc": {
   "base_numbering": 1,
   "nav_menu": {},
   "number_sections": true,
   "sideBar": true,
   "skip_h1_title": false,
   "title_cell": "Table of Contents",
   "title_sidebar": "Contents",
   "toc_cell": false,
   "toc_position": {},
   "toc_section_display": true,
   "toc_window_display": false
  }
 },
 "nbformat": 4,
 "nbformat_minor": 5
}
